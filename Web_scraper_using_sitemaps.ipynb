{
 "cells": [
  {
   "cell_type": "markdown",
   "metadata": {},
   "source": [
    "## Imports"
   ]
  },
  {
   "cell_type": "code",
   "execution_count": 1,
   "metadata": {},
   "outputs": [
    {
     "name": "stderr",
     "output_type": "stream",
     "text": [
      "c:\\Users\\amoha\\anaconda3\\envs\\cuda\\lib\\site-packages\\tqdm\\auto.py:21: TqdmWarning: IProgress not found. Please update jupyter and ipywidgets. See https://ipywidgets.readthedocs.io/en/stable/user_install.html\n",
      "  from .autonotebook import tqdm as notebook_tqdm\n"
     ]
    }
   ],
   "source": [
    "import pandas as pd\n",
    "import numpy as np\n",
    "from sklearn.cluster import KMeans\n",
    "from transformers import DPRQuestionEncoder, DPRQuestionEncoderTokenizer\n",
    "import re\n",
    "from lxml import etree\n",
    "import json\n",
    "import torch\n",
    "from transformers import BertTokenizer, BertModel\n",
    "from sklearn.metrics.pairwise import cosine_similarity,euclidean_distances,manhattan_distances\n",
    "from sklearn.decomposition import PCA\n",
    "import matplotlib.pyplot as plt\n",
    "\n",
    "from sitemaps_utils import *\n"
   ]
  },
  {
   "cell_type": "markdown",
   "metadata": {},
   "source": [
    "## Data Collection"
   ]
  },
  {
   "cell_type": "markdown",
   "metadata": {},
   "source": [
    "#### BBC"
   ]
  },
  {
   "cell_type": "code",
   "execution_count": 2,
   "metadata": {},
   "outputs": [
    {
     "name": "stdout",
     "output_type": "stream",
     "text": [
      "Number of BBC URLs: 473\n",
      "Number of Sky URLs: 21\n"
     ]
    }
   ],
   "source": [
    "BBC_news_sitemaps = [\"https://www.bbc.com/sitemaps/https-sitemap-com-news-1.xml\",\n",
    "                     \"https://www.bbc.com/sitemaps/https-sitemap-com-news-2.xml\",\n",
    "                     \"https://www.bbc.com/sitemaps/https-sitemap-com-news-3.xml\"]\n",
    "\n",
    "sky_news_sitemaps = [\"https://news.sky.com/sitemap/sitemap-news.xml\",\n",
    "                    \"https://www.skysports.com/sitemap/sitemap-news.xml\"]\n",
    "\n",
    "namespaces = {\n",
    "    'sitemap': 'http://www.sitemaps.org/schemas/sitemap/0.9',\n",
    "    'news': 'http://www.google.com/schemas/sitemap-news/0.9'\n",
    "}\n",
    "\n",
    "urls = {}\n",
    "# BBC News uses 'sitemap:lastmod' for the date tag\n",
    "urls[\"bbc\"] = Extract_todays_urls_from_sitemaps(BBC_news_sitemaps, namespaces, 'sitemap:lastmod')\n",
    "print(f\"Number of BBC URLs: {len(urls['bbc'])}\")\n",
    "\n",
    "# Sky News uses 'news:publication_date' for the date tag\n",
    "urls[\"sky\"] = Extract_todays_urls_from_sitemaps(sky_news_sitemaps, namespaces, 'news:publication_date')\n",
    "print(f\"Number of Sky URLs: {len(urls['sky'])}\")\n"
   ]
  },
  {
   "cell_type": "markdown",
   "metadata": {},
   "source": [
    "## Data Processing"
   ]
  },
  {
   "cell_type": "code",
   "execution_count": 35,
   "metadata": {},
   "outputs": [
    {
     "ename": "ValueError",
     "evalue": "The truth value of a Series is ambiguous. Use a.empty, a.bool(), a.item(), a.any() or a.all().",
     "output_type": "error",
     "traceback": [
      "\u001b[1;31m---------------------------------------------------------------------------\u001b[0m",
      "\u001b[1;31mValueError\u001b[0m                                Traceback (most recent call last)",
      "\u001b[1;32m~\\AppData\\Local\\Temp\\ipykernel_19032\\1659860164.py\u001b[0m in \u001b[0;36m?\u001b[1;34m()\u001b[0m\n\u001b[1;32m----> 1\u001b[1;33m \u001b[0mdf_BBC\u001b[0m\u001b[1;33m[\u001b[0m\u001b[1;33m(\u001b[0m\u001b[0mdf_BBC\u001b[0m\u001b[1;33m.\u001b[0m\u001b[0mTopic\u001b[0m \u001b[1;33m==\u001b[0m \u001b[1;34m\"news\"\u001b[0m\u001b[1;33m)\u001b[0m \u001b[1;32mor\u001b[0m \u001b[1;33m(\u001b[0m\u001b[0mdf_BBC\u001b[0m\u001b[1;33m.\u001b[0m\u001b[0mTopic\u001b[0m \u001b[1;33m==\u001b[0m \u001b[1;34m\"sport\"\u001b[0m\u001b[1;33m)\u001b[0m\u001b[1;33m]\u001b[0m\u001b[1;33m\u001b[0m\u001b[1;33m\u001b[0m\u001b[0m\n\u001b[0m",
      "\u001b[1;32mc:\\Users\\amoha\\anaconda3\\envs\\cuda\\lib\\site-packages\\pandas\\core\\generic.py\u001b[0m in \u001b[0;36m?\u001b[1;34m(self)\u001b[0m\n\u001b[0;32m   1575\u001b[0m     \u001b[1;33m@\u001b[0m\u001b[0mfinal\u001b[0m\u001b[1;33m\u001b[0m\u001b[1;33m\u001b[0m\u001b[0m\n\u001b[0;32m   1576\u001b[0m     \u001b[1;32mdef\u001b[0m \u001b[0m__nonzero__\u001b[0m\u001b[1;33m(\u001b[0m\u001b[0mself\u001b[0m\u001b[1;33m)\u001b[0m \u001b[1;33m->\u001b[0m \u001b[0mNoReturn\u001b[0m\u001b[1;33m:\u001b[0m\u001b[1;33m\u001b[0m\u001b[1;33m\u001b[0m\u001b[0m\n\u001b[1;32m-> 1577\u001b[1;33m         raise ValueError(\n\u001b[0m\u001b[0;32m   1578\u001b[0m             \u001b[1;34mf\"The truth value of a {type(self).__name__} is ambiguous. \"\u001b[0m\u001b[1;33m\u001b[0m\u001b[1;33m\u001b[0m\u001b[0m\n\u001b[0;32m   1579\u001b[0m             \u001b[1;34m\"Use a.empty, a.bool(), a.item(), a.any() or a.all().\"\u001b[0m\u001b[1;33m\u001b[0m\u001b[1;33m\u001b[0m\u001b[0m\n\u001b[0;32m   1580\u001b[0m         )\n",
      "\u001b[1;31mValueError\u001b[0m: The truth value of a Series is ambiguous. Use a.empty, a.bool(), a.item(), a.any() or a.all()."
     ]
    }
   ],
   "source": [
    "df_BBC[(df_BBC.Topic == \"news\") or (df_BBC.Topic == \"sport\")]"
   ]
  },
  {
   "cell_type": "code",
   "execution_count": 3,
   "metadata": {},
   "outputs": [
    {
     "name": "stderr",
     "output_type": "stream",
     "text": [
      "INFO:langid.langid:initializing identifier\n"
     ]
    },
    {
     "name": "stdout",
     "output_type": "stream",
     "text": [
      "------ bbc ------\n",
      "Topic\n",
      "news         161\n",
      "sport         45\n",
      "weather       15\n",
      "newsround      7\n",
      "videos         2\n",
      "Total        230\n",
      "\n",
      "------ sky ------\n",
      "Topic\n",
      "story       15\n",
      "olympics     1\n",
      "football     1\n",
      "f1           1\n",
      "golf         1\n",
      "boxing       1\n",
      "Total        20\n",
      "\n"
     ]
    }
   ],
   "source": [
    "bbc_topics_to_drop = {\"pidgin\", \"hausa\", \"swahili\", \"naidheachdan\"}\n",
    "df_BBC = process_news_data(urls, \"bbc\", bbc_topics_to_drop)\n",
    "\n",
    "sky_topics_to_drop = {\"arabic\", \"urdu\"}\n",
    "df_Sky = process_news_data(urls, \"sky\", sky_topics_to_drop)\n"
   ]
  },
  {
   "cell_type": "markdown",
   "metadata": {},
   "source": [
    "## Data cleaning"
   ]
  },
  {
   "cell_type": "code",
   "execution_count": 20,
   "metadata": {},
   "outputs": [],
   "source": [
    "# news_sport = [\"news\",\"sport\"]\n",
    "# news_sport_urls = df_BBC[df_BBC.Topic.isin(news_sport)]\n",
    "# news_sport_urls.reset_index(inplace=True)"
   ]
  },
  {
   "cell_type": "code",
   "execution_count": 4,
   "metadata": {},
   "outputs": [
    {
     "name": "stderr",
     "output_type": "stream",
     "text": [
      "INFO:root:\n",
      "Processing URL 0/230\n",
      "INFO:root:\n",
      "Processing URL 10/230\n",
      "INFO:root:\n",
      "Processing URL 20/230\n",
      "INFO:root:\n",
      "Processing URL 30/230\n",
      "INFO:root:\n",
      "Processing URL 40/230\n",
      "INFO:root:\n",
      "Processing URL 50/230\n",
      "INFO:root:\n",
      "Processing URL 60/230\n",
      "INFO:root:\n",
      "Processing URL 70/230\n",
      "WARNING:root:No article content found on the page.\n",
      "INFO:root:\n",
      "Processing URL 80/230\n",
      "ERROR:root:Failed to fetch the web page: ('Connection aborted.', RemoteDisconnected('Remote end closed connection without response'))\n",
      "INFO:root:\n",
      "Processing URL 90/230\n",
      "INFO:root:\n",
      "Processing URL 100/230\n",
      "WARNING:root:No article content found on the page.\n",
      "WARNING:root:No article content found on the page.\n",
      "WARNING:root:No article content found on the page.\n",
      "WARNING:root:No article content found on the page.\n",
      "WARNING:root:No article content found on the page.\n",
      "WARNING:root:No article content found on the page.\n",
      "INFO:root:\n",
      "Processing URL 110/230\n",
      "INFO:root:\n",
      "Processing URL 120/230\n",
      "INFO:root:\n",
      "Processing URL 130/230\n",
      "INFO:root:\n",
      "Processing URL 140/230\n",
      "INFO:root:\n",
      "Processing URL 150/230\n",
      "INFO:root:\n",
      "Processing URL 160/230\n",
      "ERROR:root:Failed to fetch the web page: HTTPSConnectionPool(host='www.bbc.com', port=443): Max retries exceeded with url: /newsround/articles/c1vv54yk9dvo (Caused by SSLError(SSLEOFError(8, '[SSL: UNEXPECTED_EOF_WHILE_READING] EOF occurred in violation of protocol (_ssl.c:1007)')))\n",
      "INFO:root:\n",
      "Processing URL 170/230\n",
      "INFO:root:\n",
      "Processing URL 180/230\n",
      "INFO:root:\n",
      "Processing URL 190/230\n",
      "INFO:root:\n",
      "Processing URL 200/230\n",
      "INFO:root:\n",
      "Processing URL 210/230\n",
      "INFO:root:\n",
      "Processing URL 220/230\n"
     ]
    }
   ],
   "source": [
    "#bbc_news_df = df_BBC[df_BBC.Topic == \"news\"].reset_index(drop=True)\n",
    "bbc_news = request_sentences_from_urls(df_BBC)"
   ]
  },
  {
   "cell_type": "markdown",
   "metadata": {},
   "source": [
    "## Embeding and similarity check"
   ]
  },
  {
   "cell_type": "code",
   "execution_count": 6,
   "metadata": {},
   "outputs": [
    {
     "name": "stderr",
     "output_type": "stream",
     "text": [
      "c:\\Users\\amoha\\anaconda3\\envs\\cuda\\lib\\site-packages\\huggingface_hub\\file_download.py:1132: FutureWarning: `resume_download` is deprecated and will be removed in version 1.0.0. Downloads always resume when possible. If you want to force a new download, use `force_download=True`.\n",
      "  warnings.warn(\n",
      "Some weights of DPRQuestionEncoder were not initialized from the model checkpoint at facebook/dpr-ctx_encoder-single-nq-base and are newly initialized: ['bert_model.embeddings.LayerNorm.bias', 'bert_model.embeddings.LayerNorm.weight', 'bert_model.embeddings.position_embeddings.weight', 'bert_model.embeddings.token_type_embeddings.weight', 'bert_model.embeddings.word_embeddings.weight', 'bert_model.encoder.layer.0.attention.output.LayerNorm.bias', 'bert_model.encoder.layer.0.attention.output.LayerNorm.weight', 'bert_model.encoder.layer.0.attention.output.dense.bias', 'bert_model.encoder.layer.0.attention.output.dense.weight', 'bert_model.encoder.layer.0.attention.self.key.bias', 'bert_model.encoder.layer.0.attention.self.key.weight', 'bert_model.encoder.layer.0.attention.self.query.bias', 'bert_model.encoder.layer.0.attention.self.query.weight', 'bert_model.encoder.layer.0.attention.self.value.bias', 'bert_model.encoder.layer.0.attention.self.value.weight', 'bert_model.encoder.layer.0.intermediate.dense.bias', 'bert_model.encoder.layer.0.intermediate.dense.weight', 'bert_model.encoder.layer.0.output.LayerNorm.bias', 'bert_model.encoder.layer.0.output.LayerNorm.weight', 'bert_model.encoder.layer.0.output.dense.bias', 'bert_model.encoder.layer.0.output.dense.weight', 'bert_model.encoder.layer.1.attention.output.LayerNorm.bias', 'bert_model.encoder.layer.1.attention.output.LayerNorm.weight', 'bert_model.encoder.layer.1.attention.output.dense.bias', 'bert_model.encoder.layer.1.attention.output.dense.weight', 'bert_model.encoder.layer.1.attention.self.key.bias', 'bert_model.encoder.layer.1.attention.self.key.weight', 'bert_model.encoder.layer.1.attention.self.query.bias', 'bert_model.encoder.layer.1.attention.self.query.weight', 'bert_model.encoder.layer.1.attention.self.value.bias', 'bert_model.encoder.layer.1.attention.self.value.weight', 'bert_model.encoder.layer.1.intermediate.dense.bias', 'bert_model.encoder.layer.1.intermediate.dense.weight', 'bert_model.encoder.layer.1.output.LayerNorm.bias', 'bert_model.encoder.layer.1.output.LayerNorm.weight', 'bert_model.encoder.layer.1.output.dense.bias', 'bert_model.encoder.layer.1.output.dense.weight', 'bert_model.encoder.layer.10.attention.output.LayerNorm.bias', 'bert_model.encoder.layer.10.attention.output.LayerNorm.weight', 'bert_model.encoder.layer.10.attention.output.dense.bias', 'bert_model.encoder.layer.10.attention.output.dense.weight', 'bert_model.encoder.layer.10.attention.self.key.bias', 'bert_model.encoder.layer.10.attention.self.key.weight', 'bert_model.encoder.layer.10.attention.self.query.bias', 'bert_model.encoder.layer.10.attention.self.query.weight', 'bert_model.encoder.layer.10.attention.self.value.bias', 'bert_model.encoder.layer.10.attention.self.value.weight', 'bert_model.encoder.layer.10.intermediate.dense.bias', 'bert_model.encoder.layer.10.intermediate.dense.weight', 'bert_model.encoder.layer.10.output.LayerNorm.bias', 'bert_model.encoder.layer.10.output.LayerNorm.weight', 'bert_model.encoder.layer.10.output.dense.bias', 'bert_model.encoder.layer.10.output.dense.weight', 'bert_model.encoder.layer.11.attention.output.LayerNorm.bias', 'bert_model.encoder.layer.11.attention.output.LayerNorm.weight', 'bert_model.encoder.layer.11.attention.output.dense.bias', 'bert_model.encoder.layer.11.attention.output.dense.weight', 'bert_model.encoder.layer.11.attention.self.key.bias', 'bert_model.encoder.layer.11.attention.self.key.weight', 'bert_model.encoder.layer.11.attention.self.query.bias', 'bert_model.encoder.layer.11.attention.self.query.weight', 'bert_model.encoder.layer.11.attention.self.value.bias', 'bert_model.encoder.layer.11.attention.self.value.weight', 'bert_model.encoder.layer.11.intermediate.dense.bias', 'bert_model.encoder.layer.11.intermediate.dense.weight', 'bert_model.encoder.layer.11.output.LayerNorm.bias', 'bert_model.encoder.layer.11.output.LayerNorm.weight', 'bert_model.encoder.layer.11.output.dense.bias', 'bert_model.encoder.layer.11.output.dense.weight', 'bert_model.encoder.layer.2.attention.output.LayerNorm.bias', 'bert_model.encoder.layer.2.attention.output.LayerNorm.weight', 'bert_model.encoder.layer.2.attention.output.dense.bias', 'bert_model.encoder.layer.2.attention.output.dense.weight', 'bert_model.encoder.layer.2.attention.self.key.bias', 'bert_model.encoder.layer.2.attention.self.key.weight', 'bert_model.encoder.layer.2.attention.self.query.bias', 'bert_model.encoder.layer.2.attention.self.query.weight', 'bert_model.encoder.layer.2.attention.self.value.bias', 'bert_model.encoder.layer.2.attention.self.value.weight', 'bert_model.encoder.layer.2.intermediate.dense.bias', 'bert_model.encoder.layer.2.intermediate.dense.weight', 'bert_model.encoder.layer.2.output.LayerNorm.bias', 'bert_model.encoder.layer.2.output.LayerNorm.weight', 'bert_model.encoder.layer.2.output.dense.bias', 'bert_model.encoder.layer.2.output.dense.weight', 'bert_model.encoder.layer.3.attention.output.LayerNorm.bias', 'bert_model.encoder.layer.3.attention.output.LayerNorm.weight', 'bert_model.encoder.layer.3.attention.output.dense.bias', 'bert_model.encoder.layer.3.attention.output.dense.weight', 'bert_model.encoder.layer.3.attention.self.key.bias', 'bert_model.encoder.layer.3.attention.self.key.weight', 'bert_model.encoder.layer.3.attention.self.query.bias', 'bert_model.encoder.layer.3.attention.self.query.weight', 'bert_model.encoder.layer.3.attention.self.value.bias', 'bert_model.encoder.layer.3.attention.self.value.weight', 'bert_model.encoder.layer.3.intermediate.dense.bias', 'bert_model.encoder.layer.3.intermediate.dense.weight', 'bert_model.encoder.layer.3.output.LayerNorm.bias', 'bert_model.encoder.layer.3.output.LayerNorm.weight', 'bert_model.encoder.layer.3.output.dense.bias', 'bert_model.encoder.layer.3.output.dense.weight', 'bert_model.encoder.layer.4.attention.output.LayerNorm.bias', 'bert_model.encoder.layer.4.attention.output.LayerNorm.weight', 'bert_model.encoder.layer.4.attention.output.dense.bias', 'bert_model.encoder.layer.4.attention.output.dense.weight', 'bert_model.encoder.layer.4.attention.self.key.bias', 'bert_model.encoder.layer.4.attention.self.key.weight', 'bert_model.encoder.layer.4.attention.self.query.bias', 'bert_model.encoder.layer.4.attention.self.query.weight', 'bert_model.encoder.layer.4.attention.self.value.bias', 'bert_model.encoder.layer.4.attention.self.value.weight', 'bert_model.encoder.layer.4.intermediate.dense.bias', 'bert_model.encoder.layer.4.intermediate.dense.weight', 'bert_model.encoder.layer.4.output.LayerNorm.bias', 'bert_model.encoder.layer.4.output.LayerNorm.weight', 'bert_model.encoder.layer.4.output.dense.bias', 'bert_model.encoder.layer.4.output.dense.weight', 'bert_model.encoder.layer.5.attention.output.LayerNorm.bias', 'bert_model.encoder.layer.5.attention.output.LayerNorm.weight', 'bert_model.encoder.layer.5.attention.output.dense.bias', 'bert_model.encoder.layer.5.attention.output.dense.weight', 'bert_model.encoder.layer.5.attention.self.key.bias', 'bert_model.encoder.layer.5.attention.self.key.weight', 'bert_model.encoder.layer.5.attention.self.query.bias', 'bert_model.encoder.layer.5.attention.self.query.weight', 'bert_model.encoder.layer.5.attention.self.value.bias', 'bert_model.encoder.layer.5.attention.self.value.weight', 'bert_model.encoder.layer.5.intermediate.dense.bias', 'bert_model.encoder.layer.5.intermediate.dense.weight', 'bert_model.encoder.layer.5.output.LayerNorm.bias', 'bert_model.encoder.layer.5.output.LayerNorm.weight', 'bert_model.encoder.layer.5.output.dense.bias', 'bert_model.encoder.layer.5.output.dense.weight', 'bert_model.encoder.layer.6.attention.output.LayerNorm.bias', 'bert_model.encoder.layer.6.attention.output.LayerNorm.weight', 'bert_model.encoder.layer.6.attention.output.dense.bias', 'bert_model.encoder.layer.6.attention.output.dense.weight', 'bert_model.encoder.layer.6.attention.self.key.bias', 'bert_model.encoder.layer.6.attention.self.key.weight', 'bert_model.encoder.layer.6.attention.self.query.bias', 'bert_model.encoder.layer.6.attention.self.query.weight', 'bert_model.encoder.layer.6.attention.self.value.bias', 'bert_model.encoder.layer.6.attention.self.value.weight', 'bert_model.encoder.layer.6.intermediate.dense.bias', 'bert_model.encoder.layer.6.intermediate.dense.weight', 'bert_model.encoder.layer.6.output.LayerNorm.bias', 'bert_model.encoder.layer.6.output.LayerNorm.weight', 'bert_model.encoder.layer.6.output.dense.bias', 'bert_model.encoder.layer.6.output.dense.weight', 'bert_model.encoder.layer.7.attention.output.LayerNorm.bias', 'bert_model.encoder.layer.7.attention.output.LayerNorm.weight', 'bert_model.encoder.layer.7.attention.output.dense.bias', 'bert_model.encoder.layer.7.attention.output.dense.weight', 'bert_model.encoder.layer.7.attention.self.key.bias', 'bert_model.encoder.layer.7.attention.self.key.weight', 'bert_model.encoder.layer.7.attention.self.query.bias', 'bert_model.encoder.layer.7.attention.self.query.weight', 'bert_model.encoder.layer.7.attention.self.value.bias', 'bert_model.encoder.layer.7.attention.self.value.weight', 'bert_model.encoder.layer.7.intermediate.dense.bias', 'bert_model.encoder.layer.7.intermediate.dense.weight', 'bert_model.encoder.layer.7.output.LayerNorm.bias', 'bert_model.encoder.layer.7.output.LayerNorm.weight', 'bert_model.encoder.layer.7.output.dense.bias', 'bert_model.encoder.layer.7.output.dense.weight', 'bert_model.encoder.layer.8.attention.output.LayerNorm.bias', 'bert_model.encoder.layer.8.attention.output.LayerNorm.weight', 'bert_model.encoder.layer.8.attention.output.dense.bias', 'bert_model.encoder.layer.8.attention.output.dense.weight', 'bert_model.encoder.layer.8.attention.self.key.bias', 'bert_model.encoder.layer.8.attention.self.key.weight', 'bert_model.encoder.layer.8.attention.self.query.bias', 'bert_model.encoder.layer.8.attention.self.query.weight', 'bert_model.encoder.layer.8.attention.self.value.bias', 'bert_model.encoder.layer.8.attention.self.value.weight', 'bert_model.encoder.layer.8.intermediate.dense.bias', 'bert_model.encoder.layer.8.intermediate.dense.weight', 'bert_model.encoder.layer.8.output.LayerNorm.bias', 'bert_model.encoder.layer.8.output.LayerNorm.weight', 'bert_model.encoder.layer.8.output.dense.bias', 'bert_model.encoder.layer.8.output.dense.weight', 'bert_model.encoder.layer.9.attention.output.LayerNorm.bias', 'bert_model.encoder.layer.9.attention.output.LayerNorm.weight', 'bert_model.encoder.layer.9.attention.output.dense.bias', 'bert_model.encoder.layer.9.attention.output.dense.weight', 'bert_model.encoder.layer.9.attention.self.key.bias', 'bert_model.encoder.layer.9.attention.self.key.weight', 'bert_model.encoder.layer.9.attention.self.query.bias', 'bert_model.encoder.layer.9.attention.self.query.weight', 'bert_model.encoder.layer.9.attention.self.value.bias', 'bert_model.encoder.layer.9.attention.self.value.weight', 'bert_model.encoder.layer.9.intermediate.dense.bias', 'bert_model.encoder.layer.9.intermediate.dense.weight', 'bert_model.encoder.layer.9.output.LayerNorm.bias', 'bert_model.encoder.layer.9.output.LayerNorm.weight', 'bert_model.encoder.layer.9.output.dense.bias', 'bert_model.encoder.layer.9.output.dense.weight']\n",
      "You should probably TRAIN this model on a down-stream task to be able to use it for predictions and inference.\n"
     ]
    },
    {
     "name": "stdout",
     "output_type": "stream",
     "text": [
      "cuda:0\n",
      "0/21\n",
      "1/21\n",
      "2/21\n",
      "3/21\n",
      "4/21\n",
      "5/21\n",
      "6/21\n",
      "7/21\n",
      "8/21\n",
      "9/21\n",
      "10/21\n",
      "11/21\n",
      "12/21\n",
      "13/21\n",
      "14/21\n",
      "15/21\n",
      "16/21\n",
      "17/21\n",
      "18/21\n",
      "19/21\n",
      "20/21\n",
      "21/21\n"
     ]
    }
   ],
   "source": [
    "import torch\n",
    "from transformers import DPRQuestionEncoder, DPRQuestionEncoderTokenizer\n",
    "import re\n",
    "\n",
    "# Check if GPU is available\n",
    "device = torch.device(\"cuda\" if torch.cuda.is_available() else \"cpu\")\n",
    "\n",
    "article_main_body = list(bbc_news.values())\n",
    "\n",
    "# Load tokenizer and model\n",
    "tokenizer = DPRQuestionEncoderTokenizer.from_pretrained(\"facebook/dpr-ctx_encoder-single-nq-base\")\n",
    "encoder = DPRQuestionEncoder.from_pretrained(\"facebook/dpr-ctx_encoder-single-nq-base\").to(device)\n",
    "print(encoder.device)\n",
    "\n",
    "# Initialize an empty list to store embeddings\n",
    "embeddings = []\n",
    "\n",
    "# Process and encode each article body\n",
    "for i, data in enumerate(article_main_body):\n",
    "    # Tokenize with padding\n",
    "    inputs = tokenizer(\"\".join(data), return_tensors=\"pt\", padding='max_length', truncation=True, max_length=512).to(device)  # Move inputs to GPU\n",
    "    with torch.no_grad():  # No need to track gradients during inference\n",
    "        embedding = encoder(**inputs).pooler_output\n",
    "    embeddings.append(embedding)\n",
    "    if i % 10 == 0:\n",
    "        print(f\"{i // 10}/{len(article_main_body) // 10}\")\n",
    "\n"
   ]
  },
  {
   "cell_type": "code",
   "execution_count": 7,
   "metadata": {},
   "outputs": [],
   "source": [
    "# Convert embeddings tensor to numpy arrays\n",
    "embeddings_np = [embedding.cpu().numpy() for embedding in embeddings]\n",
    "\n",
    "# Convert embeddings to float32\n",
    "embeddings_np = [embedding.astype('float32') for embedding in embeddings_np]\n",
    "embeddings_np = np.array(embeddings_np).reshape(len(embeddings_np), 768)"
   ]
  },
  {
   "cell_type": "code",
   "execution_count": 8,
   "metadata": {},
   "outputs": [
    {
     "name": "stdout",
     "output_type": "stream",
     "text": [
      "Embeddings saved successfully.\n"
     ]
    }
   ],
   "source": [
    "import pickle\n",
    "\n",
    "\n",
    "content_embedding = (list(bbc_news.values()),embeddings_np)\n",
    "\n",
    "with open('content_embedding.pkl', 'wb') as file:\n",
    "    pickle.dump(content_embedding, file)\n",
    "\n",
    "print(\"Embeddings saved successfully.\")"
   ]
  },
  {
   "cell_type": "code",
   "execution_count": 15,
   "metadata": {},
   "outputs": [
    {
     "data": {
      "text/plain": [
       "-2.3717041015625"
      ]
     },
     "execution_count": 15,
     "metadata": {},
     "output_type": "execute_result"
    }
   ],
   "source": [
    "1 - D[10][1]"
   ]
  },
  {
   "cell_type": "code",
   "execution_count": 27,
   "metadata": {},
   "outputs": [
    {
     "name": "stdout",
     "output_type": "stream",
     "text": [
      "1\n",
      "2\n"
     ]
    }
   ],
   "source": [
    "for i in range(1,3,1):\n",
    "    print(i)"
   ]
  },
  {
   "cell_type": "code",
   "execution_count": 11,
   "metadata": {},
   "outputs": [
    {
     "name": "stderr",
     "output_type": "stream",
     "text": [
      "INFO:faiss.loader:Loading faiss with AVX2 support.\n",
      "INFO:faiss.loader:Successfully loaded faiss with AVX2 support.\n"
     ]
    },
    {
     "name": "stdout",
     "output_type": "stream",
     "text": [
      "Title 1: 'One-minute World News'\n",
      "Title 2: 'BBC Archive 1948: Motor racing at Goodwood'\n",
      "Similarity Score: -8.1224365234375\n",
      "Title 1: 'What is the infected blood scandal and will victims get compensation?'\n",
      "Title 2: 'Infected blood scandal: Sunak promises 'comprehensive' blood compensation'\n",
      "Similarity Score: -0.6851806640625\n",
      "Title 1: 'East Midlands weather forecast'\n",
      "Title 2: 'Channel Islands weather forecast'\n",
      "Similarity Score: -2.74560546875\n",
      "Title 1: 'South England weather forecast'\n",
      "Title 2: 'South West England weather forecast'\n",
      "Similarity Score: -1.4447021484375\n",
      "Title 1: 'East Yorkshire & Lincolnshire weather forecast'\n",
      "Title 2: 'Yorkshire weather forecast'\n",
      "Similarity Score: -4.03564453125\n",
      "Title 1: 'South Africa in West Indies 2024 - fixtures, results & scorecards'\n",
      "Title 2: 'Hull: Images released of new cycle scheme'\n",
      "Similarity Score: -3.998779296875\n",
      "Title 1: 'Your pictures of Scotland: Photographs from around the country'\n",
      "Title 2: 'Incredible new photos of the Milky Way from around the world'\n",
      "Similarity Score: -1.5126953125\n",
      "Title 1: 'Chesterfield chemical spill closed road for seven hours'\n",
      "Title 2: 'Green light to transform closed Leicester put into flats'\n",
      "Similarity Score: -1.2901611328125\n",
      "Title 1: 'ICC: Netanyahu angrily rejects move to seek his arrest'\n",
      "Title 2: 'Football volunteer wins trip to Europa League final'\n",
      "Similarity Score: -1.204833984375\n",
      "Title 1: 'Woman dies in attack by registered XL bullies at east London home'\n",
      "Title 2: 'Contaminated blood inquiry: Victim demands compensation clarity'\n",
      "Similarity Score: -0.8856201171875\n",
      "Title 1: 'Red squirrels released on Morvern peninsula estate'\n",
      "Title 2: 'Red squirrel numbers boosted on Scotland's west coast'\n",
      "Similarity Score: -0.6060791015625\n",
      "Title 1: 'Ehlers-Danlos: Health problems blamed on 'psychological' illness'\n",
      "Title 2: 'Alpamare: Business 'devastated' by Scarborough waterpark closure'\n",
      "Similarity Score: -0.9742431640625\n",
      "Title 1: ''Billions in benefits are left unclaimed' by Welsh families'\n",
      "Title 2: 'Electricity grids creak as AI demands soar'\n",
      "Similarity Score: -0.914306640625\n",
      "Title 1: 'Watch: Preparations for Shetland rocket launch'\n",
      "Title 2: 'Vincent Kompany: Bayern Munich include Burnley boss on list for potential new coach'\n",
      "Similarity Score: -2.044921875\n",
      "Title 1: 'Greek migrant shipwreck: Questions surround trial of nine Egyptians'\n",
      "Title 2: 'Beaufort Park retirement village's expansion plans refused again'\n",
      "Similarity Score: -0.827880859375\n",
      "Title 1: 'Trump trial: Cohen says he stole and a witness angers the judge'\n",
      "Title 2: 'Iran helicopter crash: Five days of mourning declared for President Raisi'\n",
      "Similarity Score: -2.4384765625\n",
      "Title 1: 'Children top up pocket money with extra work'\n",
      "Title 2: 'Summers-Newton ready to defend Gold Paralympic titles in Paris'\n",
      "Similarity Score: -0.9478759765625\n",
      "Title 1: 'Teenage Luton murderer who bought 79 blades online named'\n",
      "Title 2: 'Spotlight: UVF 'knew Billy Wright was a state agent''\n",
      "Similarity Score: -0.9122314453125\n",
      "Title 1: 'New Caledonia: Australia and New Zealand send evacuation flights amid unrest'\n",
      "Title 2: 'New rules and rising costs 'forcing landlords out''\n",
      "Similarity Score: -0.4803466796875\n",
      "Title 1: 'BMW, Jaguar and VW imported banned Xinjiang parts - Senate probe'\n",
      "Title 2: 'Goxhill residents say council ignoring fears over HGVs'\n",
      "Similarity Score: -0.790771484375\n",
      "Title 1: 'Paris 2024: Anna Hursey 'shocked' but 'excited' by Olympic spot'\n",
      "Title 2: 'Analysis, yoga and a vision - how Wubben-Moy produced best season'\n",
      "Similarity Score: -1.43359375\n",
      "Title 1: 'Dorset Police's charge rate for sex crimes an 'absolute scandal''\n",
      "Title 2: 'Euro 2024: Who makes BBC pundits' Scotland squad for finals?'\n",
      "Similarity Score: -1.0203857421875\n",
      "Title 1: 'Human sacrifice evidence in Iron Age bones, say Bournemouth researchers'\n",
      "Title 2: 'Himalayan balsam tackled in Hertfordshire with rust fungus'\n",
      "Similarity Score: -0.95849609375\n",
      "Title 1: 'Long Covid course is ‘exploiting people’, says ex-GB rower'\n",
      "Title 2: 'Doctor describes 'anxious' moment he realised he could no longer work in NHS'\n",
      "Similarity Score: -0.7601318359375\n",
      "Title 1: 'Campaign to save Allonby play park and toilet block'\n",
      "Title 2: 'Endometriosis: MP calls for education about condition in schools '\n",
      "Similarity Score: -0.8521728515625\n",
      "Title 1: 'Hampshire & Isle of Wight's Big Picture: 20 May - 26 May 2024'\n",
      "Title 2: 'Dorset's Big Picture: 20 May - 26 May 2024'\n",
      "Similarity Score: 0.482421875\n",
      "Title 1: 'Tewkesbury Borough Council pledges to tackle homelessness'\n",
      "Title 2: 'Somerset teacher cycling across country with rescue dog'\n",
      "Similarity Score: -0.96435546875\n",
      "Title 1: 'Man jailed after 100mph police chase in Swindon'\n",
      "Title 2: 'Myton Hospices plans metal butterfly display to honour loved ones'\n",
      "Similarity Score: -1.452392578125\n",
      "Title 1: 'Spate of Cambridgeshire keyless car thefts investigated by police'\n",
      "Title 2: 'Counter terrorism police charge man in Caddington'\n",
      "Similarity Score: -1.844970703125\n",
      "Title 1: 'Second Manx community rowing boat built with extra volunteer help'\n",
      "Title 2: 'Government eyes jobless 'bootcamps' to fill job gaps'\n",
      "Similarity Score: -0.76416015625\n",
      "Title 1: 'Guernsey: Better Transport Plan sets out northern island projects'\n",
      "Title 2: 'Southampton: Work on £132m project to restart soon say developers'\n",
      "Similarity Score: -0.818359375\n",
      "Title 1: 'Hereford to get two new NHS dentists'\n",
      "Title 2: 'Preston drivers warned as new bus gate opens in city'\n",
      "Similarity Score: -1.4979248046875\n",
      "Title 1: 'Former Oswestry cinema owner has doubts about its revival'\n",
      "Title 2: 'Leicester: New £5.4m aeronautical engineering college site approved'\n",
      "Similarity Score: -0.843017578125\n",
      "Title 1: 'Charge of the Light Brigade horse Ronald 'safe but fragile''\n",
      "Title 2: 'The British island and the Nazi labour camps'\n",
      "Similarity Score: -1.494384765625\n",
      "Title 1: 'Government apologises for Youth Parliament problems'\n",
      "Title 2: 'Government says sorry for Youth Parliament problems'\n",
      "Similarity Score: -5.04443359375\n",
      "Title 1: 'Oxford's Cowley Road Carnival to return after five years'\n",
      "Title 2: 'YASA electric motor company moving to former RAF base site'\n",
      "Similarity Score: -1.0181884765625\n",
      "Title 1: 'Manchester City transfer rumours: Pedro Neto'\n",
      "Title 2: 'Newcastle transfer rumours: Isak, Neto, Kelly, Mamardashvili'\n",
      "Similarity Score: -4.88818359375\n",
      "Title 1: 'Bournemouth transfer rumours: Lloyd Kelly'\n",
      "Title 2: 'Leicester City transfer rumours: Conor Coady, Mohamed Konate'\n",
      "Similarity Score: -7.099609375\n",
      "Title 1: 'Champions Cup final: Ross Byrne says no added pressure on Leinster'\n",
      "Title 2: 'Paris Olympics: Holmes Chapel brother and sister going for rowing gold '\n",
      "Similarity Score: -0.874267578125\n",
      "Title 1: ' Birmingham disorder leads to teenager's arrest over attempted murder'\n",
      "Title 2: 'Motorcyclist dies after crash with car near Truro'\n",
      "Similarity Score: -2.4859619140625\n",
      "Title 1: 'Asian hornets: How to spot them and how to treat a sting'\n",
      "Title 2: 'Watch Newsround'\n",
      "Similarity Score: -3.11962890625\n",
      "Title 1: 'Wiltshire battery storage facility to be debated at meeting'\n",
      "Title 2: 'Sneinton: New provider for contract quit GP surgery confirmed'\n",
      "Similarity Score: -1.302001953125\n",
      "Title 1: 'Newcastle United news: Last chance to vote for your player of the season'\n",
      "Title 2: 'Brentford news: Last chance to vote for player of the season'\n",
      "Similarity Score: 0.066162109375\n",
      "Title 1: 'Most Scots have no religion, Census finds'\n",
      "Title 2: 'Infected blood scandal: 'My husband died five weeks ago - compensation scheme is too late''\n",
      "Similarity Score: -2.25537109375\n",
      "Title 1: 'Battery warning after March bin lorry fire affects 6,000 homes'\n",
      "Title 2: 'Football Governance Bill: South east club chiefs head for meeting '\n",
      "Similarity Score: -1.099853515625\n",
      "Title 1: 'Boy, 15, arrested after man stabbed in Birmingham park'\n",
      "Title 2: 'Masked men wanted after attempted armed burglary in Barnsley'\n",
      "Similarity Score: -2.12548828125\n",
      "Title 1: 'Northern Ireland weather forecast'\n",
      "Title 2: 'Weather forecast for the UK'\n",
      "Similarity Score: -4.9532470703125\n",
      "Title 1: 'Joe Rafferty & Shaun McWilliams: Rotherham sign duo'\n",
      "Title 2: 'Edinburgh fan column: 'Second half punctuated was with controversy''\n",
      "Similarity Score: -2.2576904296875\n",
      "Title 1: 'The many colours of India’s election campaigns'\n",
      "Title 2: 'Mobile phones: How phone theft was tackled in the 90s'\n",
      "Similarity Score: -3.4365234375\n",
      "Title 1: 'Barnsley primary pupils urge police to tackle school vandals'\n",
      "Title 2: 'Cornwall Council worker criticises slap-up meal for staff awards'\n",
      "Similarity Score: -1.1094970703125\n",
      "Title 1: 'Four Grantham shops shut after illicit cigarettes and vapes found'\n",
      "Title 2: 'Annfield Plain shop closed down after selling illegal cigarettes'\n",
      "Similarity Score: -0.8941650390625\n",
      "Title 1: 'Surrey County Council to invest £3m into school road safety'\n",
      "Title 2: 'Food price rises returning to normal, Kantar survey says'\n",
      "Similarity Score: -2.7177734375\n",
      "Title 1: 'Scotland's papers: Blood scandal cover-up 'betrayed' victims'\n",
      "Title 2: 'Liverpool news: Last chance to vote for your player of the season'\n",
      "Similarity Score: -12.05859375\n",
      "Title 1: 'Ninety-year-old becomes oldest person to go to space'\n",
      "Title 2: 'Ryan Sessegnon exit: Tottenham player set to seek new challenge'\n",
      "Similarity Score: -3.86181640625\n",
      "Title 1: 'Burnley rumours: Vincent Kompany'\n",
      "Title 2: 'Chelsea rumours: Kieran McKenna, Trevoh Chalobah'\n",
      "Similarity Score: -3.6746826171875\n",
      "Title 1: 'Dr Maggie Aderin-Pocock: 'Dyslexia is misunderstood in lots of ways''\n",
      "Title 2: 'Man City news: We're Not Really Here podcast on where title ranks'\n",
      "Similarity Score: -2.9766845703125\n",
      "Title 1: 'Wolves news: Last chance to vote for your player of the season'\n",
      "Title 2: 'Fulham news: Last chance to vote for your player of the season'\n",
      "Similarity Score: -0.1279296875\n",
      "Title 1: 'Everton news: Last chance to vote for your player of the season'\n",
      "Title 2: 'Arsenal news: Last chance to vote for your player of the season'\n",
      "Similarity Score: -0.2913818359375\n",
      "Title 1: 'Sheffield United news: Last chance to vote for your player of the season'\n",
      "Title 2: 'Manchester United news: Last chance to vote for your player of the season'\n",
      "Similarity Score: -0.0709228515625\n",
      "Title 1: 'Olympic volleyball: schedule, rules and events at Paris 2024'\n",
      "Title 2: 'Sam Kerr: Australia & Chelsea striker ruled out of Paris Olympics'\n",
      "Similarity Score: -2.124755859375\n",
      "Title 1: 'RHS Chelsea Flower Show hosts Denzil the Truro hedgehog'\n",
      "Title 2: 'Chelsea Flower Show's Bridgerton garden to move to Cambridge'\n",
      "Similarity Score: -2.0234375\n",
      "Title 1: 'Ipswich boxer found sport after fight during night out'\n",
      "Title 2: 'Campaign to attract professionals to North East Lincolnshire'\n",
      "Similarity Score: -0.799072265625\n",
      "Title 1: 'Iran helicopter crash: Thousands on streets for Iranian president's funeral after crash'\n",
      "Title 2: 'Iran: Mourners gather around President Raisi's funeral casket'\n",
      "Similarity Score: -5.336181640625\n",
      "Title 1: 'Boys Need Bins: Sanitary bins secured for gents loos in Worcester'\n",
      "Title 2: 'Ukrainian cancer survivor holds Washington art exhibition'\n",
      "Similarity Score: -1.4129638671875\n",
      "Title 1: 'Colchester heroin is being laced with synthetic opioids - charity'\n",
      "Title 2: 'Adoption: Calls for families to adopt amid rate decline'\n",
      "Similarity Score: -0.81494140625\n",
      "Title 1: 'Corporation Street: New student housing for Belfast'\n",
      "Title 2: 'Trinity College withdraws €214K student union fine'\n",
      "Similarity Score: -1.5074462890625\n",
      "Title 1: 'Jersey’s politicians to debate assisted dying service plans'\n",
      "Title 2: 'Windsor Castle to end free admission for locals'\n",
      "Similarity Score: -1.132080078125\n",
      "Title 1: 'Proceeds from Jersey concerts to help protect coastline'\n",
      "Title 2: 'ChatGPT: Scarlett Johansson left 'angered' by chatbot imitation'\n",
      "Similarity Score: -2.5633544921875\n"
     ]
    }
   ],
   "source": [
    "import faiss\n",
    "import numpy as np\n",
    "\n",
    "\n",
    "\n",
    "# Initialize the index\n",
    "index = faiss.IndexFlatL2(embeddings_np.shape[1])  # Assuming embeddings are of the same dimension\n",
    "\n",
    "# Add embeddings to the index\n",
    "index.add(embeddings_np)\n",
    "\n",
    "# Search for similar embeddings\n",
    "D, I = index.search(np.array(embeddings_np), k=2)  # k=2 returns the closest two vectors (including self)\n",
    "\n",
    "high_sim = []\n",
    "titles = list(bbc_news.keys())\n",
    "\n",
    "# To keep track of which titles have been printed\n",
    "printed_titles = set()\n",
    "\n",
    "for i in range(len(I)):\n",
    "    title1 = titles[i]\n",
    "    closest_index = I[i][1]  # I[i][0] will be the index of itself, so we take the second closest\n",
    "    title2 = titles[closest_index]\n",
    "    similarity_score = 1 - D[i][1]  # cosine similarity is 1 - L2 distance\n",
    "\n",
    "    if title1 not in printed_titles and title2 not in printed_titles:\n",
    "        print(f\"Title 1: '{title1}'\\nTitle 2: '{title2}'\\nSimilarity Score: {similarity_score}\")\n",
    "        high_sim.append((title1, title2, similarity_score))\n",
    "        printed_titles.add(title1)\n",
    "        printed_titles.add(title2)\n",
    "\n"
   ]
  },
  {
   "cell_type": "markdown",
   "metadata": {},
   "source": [
    "Try other types of  clustering methods such as :\n",
    "\n",
    "Density-based spatial clustering (DBSC) : a density-based clustering algorithm that works on the assumption that clusters are dense regions in space separated by regions of lower density. It groups 'densely grouped' data points into a single cluster.\n",
    "\n",
    "SPECTURAL CLUSTERING : uses information from the eigenvalues (spectrum) of special matrices (i.e. Affinity Matrix, Degree Matrix and Laplacian Matrix) derived from the graph or the data set.\n",
    "DBA - ALOCATION\n",
    "\n",
    "\n",
    "# Next steps\n",
    "\n",
    "### 1\n",
    "\n",
    "1) **SKY :** some urls are the same article from sky news and sky sports. check if they have same text and remove if they do?\n",
    "\n",
    "2) **SKY & BBC :** Make sure BBC and SKY only have news and sports sections that are important to us. \n",
    "\n",
    "3) choose more websites"
   ]
  }
 ],
 "metadata": {
  "kernelspec": {
   "display_name": "base",
   "language": "python",
   "name": "python3"
  },
  "language_info": {
   "codemirror_mode": {
    "name": "ipython",
    "version": 3
   },
   "file_extension": ".py",
   "mimetype": "text/x-python",
   "name": "python",
   "nbconvert_exporter": "python",
   "pygments_lexer": "ipython3",
   "version": "3.10.14"
  },
  "orig_nbformat": 4
 },
 "nbformat": 4,
 "nbformat_minor": 2
}
