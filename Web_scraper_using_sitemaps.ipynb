{
 "cells": [
  {
   "cell_type": "markdown",
   "metadata": {},
   "source": [
    "## Imports"
   ]
  },
  {
   "cell_type": "code",
   "execution_count": 1,
   "metadata": {},
   "outputs": [],
   "source": [
    "import pandas as pd\n",
    "import numpy as np\n",
    "from sklearn.cluster import KMeans\n",
    "import re\n",
    "from lxml import etree\n",
    "import json\n",
    "import torch\n",
    "from sklearn.metrics.pairwise import cosine_similarity,euclidean_distances,manhattan_distances\n",
    "from sklearn.decomposition import PCA\n",
    "import matplotlib.pyplot as plt\n",
    "\n",
    "from sitemaps_utils import *"
   ]
  },
  {
   "cell_type": "markdown",
   "metadata": {},
   "source": [
    "## Data Collection"
   ]
  },
  {
   "cell_type": "markdown",
   "metadata": {},
   "source": [
    "#### BBC"
   ]
  },
  {
   "cell_type": "code",
   "execution_count": 2,
   "metadata": {},
   "outputs": [
    {
     "name": "stdout",
     "output_type": "stream",
     "text": [
      "Number of BBC URLs: 677\n",
      "Number of Sky URLs: 36\n"
     ]
    }
   ],
   "source": [
    "BBC_news_sitemaps = [\"https://www.bbc.com/sitemaps/https-sitemap-com-news-1.xml\",\n",
    "                     \"https://www.bbc.com/sitemaps/https-sitemap-com-news-2.xml\",\n",
    "                     \"https://www.bbc.com/sitemaps/https-sitemap-com-news-3.xml\"]\n",
    "\n",
    "sky_news_sitemaps = [\"https://news.sky.com/sitemap/sitemap-news.xml\",\n",
    "                    \"https://www.skysports.com/sitemap/sitemap-news.xml\"]\n",
    "\n",
    "namespaces = {\n",
    "    'sitemap': 'http://www.sitemaps.org/schemas/sitemap/0.9',\n",
    "    'news': 'http://www.google.com/schemas/sitemap-news/0.9'\n",
    "}\n",
    "\n",
    "urls = {}\n",
    "# BBC News uses 'sitemap:lastmod' for the date tag\n",
    "urls[\"bbc\"] = Extract_todays_urls_from_sitemaps(BBC_news_sitemaps, namespaces, 'sitemap:lastmod')\n",
    "print(f\"Number of BBC URLs: {len(urls['bbc'])}\")\n",
    "\n",
    "# Sky News uses 'news:publication_date' for the date tag\n",
    "urls[\"sky\"] = Extract_todays_urls_from_sitemaps(sky_news_sitemaps, namespaces, 'news:publication_date')\n",
    "print(f\"Number of Sky URLs: {len(urls['sky'])}\")\n"
   ]
  },
  {
   "cell_type": "markdown",
   "metadata": {},
   "source": [
    "## Data Processing"
   ]
  },
  {
   "cell_type": "code",
   "execution_count": 3,
   "metadata": {},
   "outputs": [
    {
     "name": "stderr",
     "output_type": "stream",
     "text": [
      "INFO:langid.langid:initializing identifier\n"
     ]
    },
    {
     "name": "stdout",
     "output_type": "stream",
     "text": [
      "------ bbc ------\n",
      "Topic\n",
      "news         207\n",
      "sport        116\n",
      "weather       21\n",
      "newsround      1\n",
      "Total        345\n",
      "\n",
      "------ sky ------\n",
      "Topic\n",
      "story       17\n",
      "football     4\n",
      "cricket      4\n",
      "f1           3\n",
      "golf         2\n",
      "tennis       2\n",
      "racing       2\n",
      "Total        34\n",
      "\n"
     ]
    }
   ],
   "source": [
    "bbc_topics_to_drop = {\"pidgin\", \"hausa\", \"swahili\", \"naidheachdan\",\"videos\",\"cymrufyw\"}\n",
    "df_BBC = process_news_data(urls, \"bbc\", bbc_topics_to_drop)\n",
    "\n",
    "sky_topics_to_drop = {\"arabic\", \"urdu\"}\n",
    "df_Sky = process_news_data(urls, \"sky\", sky_topics_to_drop)\n"
   ]
  },
  {
   "cell_type": "code",
   "execution_count": null,
   "metadata": {},
   "outputs": [],
   "source": [
    "titles to drop: [\"One-minute World News\",\"\"]\n",
    "\n",
    "title contains \"weekly\" : df_BBC[df_BBC['Title'].str.contains('weekly round-up', case=False)]\n"
   ]
  },
  {
   "cell_type": "code",
   "execution_count": 39,
   "metadata": {},
   "outputs": [
    {
     "data": {
      "text/html": [
       "<div>\n",
       "<style scoped>\n",
       "    .dataframe tbody tr th:only-of-type {\n",
       "        vertical-align: middle;\n",
       "    }\n",
       "\n",
       "    .dataframe tbody tr th {\n",
       "        vertical-align: top;\n",
       "    }\n",
       "\n",
       "    .dataframe thead th {\n",
       "        text-align: right;\n",
       "    }\n",
       "</style>\n",
       "<table border=\"1\" class=\"dataframe\">\n",
       "  <thead>\n",
       "    <tr style=\"text-align: right;\">\n",
       "      <th></th>\n",
       "      <th>Url</th>\n",
       "      <th>Last Modified</th>\n",
       "      <th>Title</th>\n",
       "      <th>Topic</th>\n",
       "    </tr>\n",
       "  </thead>\n",
       "  <tbody>\n",
       "    <tr>\n",
       "      <th>106</th>\n",
       "      <td>https://www.bbc.com/newsround/66176104</td>\n",
       "      <td>2024-05-25T08:25:50Z</td>\n",
       "      <td>Watch Newsround</td>\n",
       "      <td>newsround</td>\n",
       "    </tr>\n",
       "  </tbody>\n",
       "</table>\n",
       "</div>"
      ],
      "text/plain": [
       "                                        Url         Last Modified  \\\n",
       "106  https://www.bbc.com/newsround/66176104  2024-05-25T08:25:50Z   \n",
       "\n",
       "               Title      Topic  \n",
       "106  Watch Newsround  newsround  "
      ]
     },
     "execution_count": 39,
     "metadata": {},
     "output_type": "execute_result"
    }
   ],
   "source": [
    "df_BBC[df_BBC['Title']==\"Watch Newsround\"]"
   ]
  },
  {
   "cell_type": "code",
   "execution_count": null,
   "metadata": {},
   "outputs": [],
   "source": [
    "df_BBC[~df_BBC['Title'].str.contains('weekly round-up', case=False)].drop_duplicates(\"Title\").reset_index(inplace=True)"
   ]
  },
  {
   "cell_type": "code",
   "execution_count": 40,
   "metadata": {},
   "outputs": [
    {
     "name": "stdout",
     "output_type": "stream",
     "text": [
      "One-minute World News\n",
      "South America weather forecast\n",
      "General election 2024 poll tracker: How do the parties compare?\n",
      "RideLondon: Gas leak near finish line in Maldon\n",
      "Michael Gove steps down in mass exodus of MPs before election\n",
      "Defence Secretary Lloyd Austin to transfers powers due to medical procedure\n",
      "Childbirth: Wrexham woman left with stoma and PTSD\n",
      "Neurodivergent and queer author on purging Llanelli memories\n",
      "Football gossip: McKenna, Ten Hag, Pochettino, Maresca, Sancho, Salah, Kompany\n",
      "Extinct ‘mountain jewel’ plant returned to wild - in secret location\n",
      "Smartphone ban for kids is worth considering - MPs\n",
      "Papua New Guinea landslide: Race to rescue villagers trapped\n",
      "Royal Mail investigated by Ofcom for missing delivery targets\n",
      "Bournemouth stabbing at beach leaves woman dead\n",
      "South Africa elections: Some are losing faith in the ANC\n",
      "Rudimental's Locksmith meets 10-year-old carer at festival\n",
      "Gaza war: Israelis attack aid convoys sent for Palestinians\n",
      "Britain's Got Talent: Comedian ‘embraces’ his tics\n",
      "General election guide to Cambridgeshire and Peterborough \n",
      "Astrea schools in Cambridgeshire given 'good' Ofsted ratings\n",
      "Colchester United boss Danny Cowley coaches daughter to success\n",
      "Incinerator plan for Basildon industrial estate is rejected\n",
      "'Reckless' driver jailed for North Elham crash which killed woman\n",
      "Dancer Marc Brew paralysed in crash 'humbled' to inspire others\n",
      "Inflation: 'I drive a lorry to keep my sweet shop going'\n",
      "Colin Firth's wet shirt from Pride and Prejudice on display in Halifax\n",
      "Northamptonshire's new fire chief says 'move on' from sexism row\n",
      "Gaping Gill: Chance to be winched down 365ft underground cave\n",
      "Sand and gravel quarry off M1 in Northamptonshire turned down\n",
      "Keira Knightley, James Norton and Bridgerton costumes go on show\n",
      "Watch: The 25-year hunt for Victoria Hall's killer\n",
      "Scarborough: Man jailed over £250,000 cannabis farm\n",
      "Ipswich linocut prints created with a road roller\n",
      "Hull breastfeeding friendly trail map launched\n",
      "Asian hornets pose 'massive risk', Lincolnshire beekeeper warns\n",
      "In It Together: Port Talbot family opens back garden for festival\n",
      "Stilton cheese rolling - what's it all about?\n",
      "Historical artefacts celebrate 50 years of Lancashire County Council\n",
      "Chorley festival to mark Astley Hall's centenary\n",
      "Merseyrail train named in honour of Cunard ahead of Queen Anne ship ceremony\n",
      "Southport Pier to remain closed for another summer\n",
      "Weapons seized in operation to tackle knife crime in Devon and Cornwall\n",
      "Jethro memorial statue to be unveiled in Liskeard\n",
      "Laptops and SIM cards to be handed out to tackle digital divide\n",
      "Hampshire & Isle of Wight's Big Picture: 20 May - 26 May 2024\n",
      "Artist's animation aims to help people with hoarding disorder\n",
      "Turner Contemporary: Sculpture highlights importance of alt text\n",
      "LS Lowry seascapes exhibition in Berwick\n",
      "Duck family march to safety at Hardwick Hall\n",
      "Sapling trees knocked down in Huntingdon park\n",
      "LV18 lightship to reopen in Harwich after fire\n",
      "Fish and chip shop rise has lasting impact on King's Lynn\n",
      "Suffolk vegetable business says 'stop growing boring' seeds\n",
      "London tram service levels abysmal, Lib Dems say\n",
      "Little Steeping shooting: Man injured in village attack\n",
      "Lewisham Council published residents' details on website\n",
      "D-Day: Normandy veteran shares stories with Romford children\n",
      "Boy, 15, dies after being struck by car in Oldham\n",
      "Perranrporth shop owners confident ahead of summer season\n",
      "Jersey environmentally friendly mooring trial extended\n",
      "Man in critical condition after being hit by car in Swindon\n",
      "Wisbech free school due to open in September\n",
      "Roland Garros: Five stories to watch in 2024 including Nadal, Djokovic, Murray, Swiatek\n",
      "DeadEndia creator gives students tips on selling at MCM Comic Con\n",
      "Brian Low: Man charged over dog walker shooting death in Aberfeldy\n",
      "Bradford stabbing: Police make fresh appeal over 1981 murder\n",
      "Scotland's papers: Protesters target Hampden and pyro bans\n",
      "St Ives defibrillator installed after police help save man\n",
      "Stoke-on-Trent adult care home to close over funding issues\n",
      "In pictures: Wildfire-hit Corrimony Nature Reserve a year on\n",
      "Scarborough: Community woodland is digitally mapped\n",
      "Lonely Smallthorne widow checks in on isolated people\n",
      "Lance Bradley: Ospreys boss says Welsh rugby wants four sides \n",
      "Free sessions as South Holderness gym reopens after makeover\n",
      "RAF Coningsby: Helicopter crash simulated for training exercise\n",
      "Leasehold reforms become law but without ground rent cap\n",
      "Two further arrests after men shot and stabbed in Oldham\n",
      "Homes in Bristol evacuated over bomb fears after man arrested\n",
      "Hull drugs raid: Police seize suspected cannabis plants worth £200k\n",
      "Cantwell and Lundstram 'have to start' - gossip\n",
      "Hanlon and Stevenson both approached by Raith Rovers - gossip\n",
      "Chile arrests firefighter for blaze that killed 137 people\n",
      "Snodgrass booed following Naismith criticism - gossip\n",
      "Southampton: Fire crews tackle blaze at Zen Japanese restaurant\n",
      "Make-up and McDonald's: Dangerous driving caught on camera\n",
      "Flamingo Land baby hippo recovering after 'rocky' start\n",
      "Weather warning over rain and thunderstorms across East\n",
      "Poyntzpass: Man in his 60s dies after Newry Road crash \n",
      "Girl's life changed 'forever' after attempted rape in Salisbury\n",
      "NBA play-offs: Dallas Mavericks' Luka Doncic hits game-winner against Minnesota Timberwolves\n",
      "Police move Rangers fans away from Trongate ahead of Celtic march\n",
      "Thunderstorm warning for Wales on Sunday\n",
      "Channel migrants: Crossings top 10,000 so far this year\n",
      "Shropshire Council halved overspend but 'no room for error'\n",
      "Weather forecast for the UK\n",
      "Northern Ireland weather forecast\n",
      "Middle East weather forecast\n",
      "Europe weather forecast\n",
      "North America weather forecast\n",
      "Asia weather forecast\n",
      "Australasia weather forecast\n",
      "Watch Newsround\n",
      "London: Child dies in fall from upper floor flat in Kennington\n",
      "Taylor Swift: How film stars faded, and pop stars took over the planet\n",
      "Jodie Picoult: 'It's not a badge of honour to have books banned'\n",
      "Uvalde families sue Meta, video game creator and gunmaker\n",
      "Josh Taylor v Jack Catterall 2: Predictions for all-British rematch\n",
      "Belfast culture night's return being explored \n",
      "Church of Ireland: 'I'm saddened church rejected baptism changes'\n",
      "Pride festival: Chichester to host first Pride parade\n",
      "Derby's Markeaton Park high ropes to reopen\n",
      "Secamb: Electric vehicles unveiled by ambulance service\n",
      "Oxfordshire's Big Picture: 20 May - 26 May 2024\n",
      "Appleby free shuttle bus launches in bid to boost tourism\n",
      "Two paddling pools reopen for summer season in Devon\n",
      "Volunteer blood bikers prepare for 20,000th life saving delivery \n",
      "Clay Cross: Demolition of 'dated' leisure centre starts\n",
      "Police in Devon offer free security mark for bicycles\n",
      "CBBC's Hacker T Dog celebrates 15 years on screen\n",
      "Wolverhampton roadworks scheme worth £9.7m to begin\n",
      "Derelict Manchester mill could be turned into student flats\n",
      "MollyFest: Final music festival to honour murdered Molly McLaren\n",
      "Guernsey's Harbour Master to retire\n",
      "Ripley: Assistant referee nearly missed call for FA Cup final \n",
      "Takeaway demolished for Worcester's Arches development\n",
      "Gandalf and Girls Aloud feature in Manchester's Flower Festival trail\n",
      "Disused 19th Century properties to be demolished in Alderney\n",
      "Dorset's Big Picture: 20 May - 26 May 2024\n",
      "Festival run group Ravers2Runners kick off first event in Bristol\n",
      "Jersey Muay Thai boxer 'excited' for first Jersey title fight\n",
      "Southampton: Opposition to Dolphin Hotel student housing plans\n",
      "Bereaved men opening up at 'Grieving Pint' sessions\n",
      "Bikers invited to take part in Isle of Man TT course Legacy Lap\n",
      "Toy giraffe missing after RAF Brize Norton charity flight\n",
      "Shoppers in Hexham and Sunderland react to M&S store closures\n",
      "Horsham: Man says he will 'never forget being crushed by hay bales'\n",
      "Cotswold Wildlife Park's Lemur Week marked by 70th breeding success\n",
      "Leicester: Dozens of murals go on display around city\n",
      "Town's first Pride will celebrate 'inclusion' \n",
      "Seahorse find in Poole was one of biggest ever recorded - expert\n",
      "Nottingham: Events in city to mark 200 years since Lord Byron's death\n",
      "Wokingham: New wheelie bins arrive in waste collection change\n",
      "NBA play-offs: Luka Doncic gives Dallas Mavericks 2-0 lead over Minnesota Timberwolves\n",
      "Take That fans share excitement ahead of Nottinghamshire gigs\n",
      "United Ireland: New study challenges cost predictions\n",
      "'I was stalked like in Baby Reindeer'\n",
      "Don't Go To Bed Just Yet: Leeds United podcast on Wembley\n",
      "Trowbridge town crier 'totally lost for words' after award\n",
      "Wiltshire church displays 180 years worth of memorabilia\n",
      "Panacea Society: Centenary marks arrival of 'prophet's cradle'\n",
      "Boaters race to take part in model rally in Wicksteed Park\n",
      "Ongoing West Midlands rail disruption after attempted cable theft \n",
      "'We have nothing to lose' - Hearts eye Scottish Cup upset against Rangers\n",
      "Middlesbrough: Man charged with attempted murder over shooting\n",
      "Scottish gossip: Tavernier, Hanlon & Stevenson, Kilmarnock, Hearts and Aberdeen\n",
      "Jeremy Hunt and Rachel Reeves in election battle over tax cuts\n",
      "Brighton and Hove welcomes lifeguards to beaches for 2024\n",
      "Periods during exams were a 'nightmare'\n",
      "Man charged with terrorism offences after travelling to Syria\n",
      "Rishi Sunak sees the funny side of Downing Street soaking\n",
      "Man charged with arson after fire at Burslem supermarket\n",
      "Aberdeen open contract talks with McGrath - gossip\n",
      "Shropshire hospitals to be revamped as business plan approved\n",
      "Portales 'buzzing' for Dundee derby - gossip\n",
      "Wright dreaming of Europe after 'brilliant' qualification - gossip\n",
      "Your pictures of Scotland: Photographs from around the country\n"
     ]
    }
   ],
   "source": [
    "for i in df_BBC[~df_BBC['Title'].str.contains('weekly round-up', case=False)].drop_duplicates(\"Title\").Title:\n",
    "    print(i)"
   ]
  },
  {
   "cell_type": "code",
   "execution_count": 30,
   "metadata": {},
   "outputs": [
    {
     "name": "stdout",
     "output_type": "stream",
     "text": [
      "Sussex weekly round-up: 18 May - 24 May 2024 \n",
      "Surrey weekly round-up: 18 May - 24 May 2024 \n",
      "Kent weekly round-up: 18 May - 24 May 2024\n"
     ]
    }
   ],
   "source": [
    "for i in df_BBC[df_BBC['Title'].str.contains('weekly round-up', case=False)].Title:\n",
    "    print(i)"
   ]
  },
  {
   "cell_type": "markdown",
   "metadata": {},
   "source": [
    "## Data cleaning"
   ]
  },
  {
   "cell_type": "code",
   "execution_count": 12,
   "metadata": {},
   "outputs": [],
   "source": [
    "# news_sport = [\"news\",\"sport\"]\n",
    "# news_sport_urls = df_BBC[df_BBC.Topic.isin(news_sport)]\n",
    "# news_sport_urls.reset_index(inplace=True)"
   ]
  },
  {
   "cell_type": "code",
   "execution_count": 4,
   "metadata": {},
   "outputs": [],
   "source": [
    "def remove_elements(input_string: str) -> str:\n",
    "    \"\"\"\n",
    "    This function removes all HTML tags and their content from the input string,\n",
    "    and removes specific patterns such as \"Published X hours ago\" and \"Image source\".\n",
    "    \"\"\"\n",
    "    # Parse the input string as HTML\n",
    "    soup = BeautifulSoup(input_string, 'html.parser')\n",
    "    \n",
    "    # Remove <script>, <style>, and <picture> tags and their content\n",
    "    for script in soup([\"script\", \"style\", \"picture\"]):\n",
    "        script.decompose()\n",
    "    \n",
    "    # Extract text from the parsed HTML\n",
    "    cleaned_string = soup.get_text(separator=' ', strip=True)\n",
    "\n",
    "    # Define regular expressions to remove unwanted patterns\n",
    "    patterns = [\n",
    "        r'\\bPublished.*?\\bago\\b',  # Matches \"Published X hours ago\"\n",
    "        r'\\bImage source\\b',   # Matches \"Image source, ...\"\n",
    "        r'\\bImage caption\\b',  # Matches \"Image caption, ...\"\n",
    "        r'\\bMedia caption\\b',  # Matches \"Media caption, ...\"\n",
    "        r'\\bGetty Images\\b', \n",
    "        r'\\bBBC Wales News\\b',         # Matches \"BBC Wales News\"\n",
    "        r'\\bPublished\\s\\d{1,2}\\s\\w+\\b',\n",
    "        #r'\\bRelated Topics\\b.*',\n",
    "        r'\\bRelated Internet\\b.*', \n",
    "        r'\\bBBC News Staff\\b',\n",
    "        r'\\bFollow\\s.*?\\snews.*\\b',\n",
    "        r'\\b\\w+/\\w+\\b',\n",
    "        r'Follow\\sBBC.*'           \n",
    " \n",
    "    ]\n",
    "\n",
    "    # Remove the matched patterns from the text\n",
    "    for pattern in patterns:\n",
    "        cleaned_string = re.sub(pattern, '', cleaned_string, flags=re.DOTALL)\n",
    "    \n",
    "    # Additional cleanup: remove extra spaces and newlines\n",
    "    cleaned_string = re.sub(r'[\"\\'.,]+', '', cleaned_string)\n",
    "    cleaned_string = re.sub(r'\\s+', ' ', cleaned_string).strip()\n",
    "    cleaned_string = cleaned_string.replace(\"This video can not be played To play this video you need to enable JavaScript in your browser.\",\"\")\n",
    "    string2 = \"Sign up for our morning newsletter and get BBC News in your inbox.\"\n",
    "    cleaned_string = cleaned_string.replace(string2,\"\")\n",
    "\n",
    "    \n",
    "    article = []\n",
    "    for line in (i for i in cleaned_string.split(\"\\n\") if len(i) >= 10):\n",
    "        article.append(line)\n",
    "\n",
    "    return \" \".join(article)"
   ]
  },
  {
   "cell_type": "code",
   "execution_count": 30,
   "metadata": {},
   "outputs": [],
   "source": [
    "async def request_sentences_from_urls_async(urls, timeout=20):\n",
    "    articles_df = pd.DataFrame(columns=[\"url\",\"title\",\"content\"])\n",
    "\n",
    "    async with aiohttp.ClientSession() as session:\n",
    "        tasks = []\n",
    "        for idx, url in enumerate(urls.Url, start=1):\n",
    "            if (idx - 1) % 100 == 0:\n",
    "                logging.info(f\"\\nProcessing URL {((idx - 1)//100)+1}/{(len(urls)//100)+1}\")\n",
    "\n",
    "            tasks.append(fetch_url(session, url, timeout))\n",
    "\n",
    "        results = await asyncio.gather(*tasks)\n",
    "\n",
    "        for idx, (url, result) in enumerate(zip(urls.Url, results), start=1):\n",
    "            if result is None:\n",
    "                continue\n",
    "\n",
    "            try:\n",
    "                tree = etree.HTML(result)\n",
    "                article_element = tree.find(\".//article\")\n",
    "                if article_element is not None:\n",
    "                    outer_html = etree.tostring(article_element, encoding='unicode')\n",
    "                    article_body = remove_elements(outer_html)\n",
    "                    article = [line for line in article_body.split(\"\\n\") if len(line) >= 40]\n",
    "                    articles_df.loc[idx - 1] = (urls[\"url\"][idx - 1],urls[\"title\"][idx - 1],article)\n",
    "                else:\n",
    "                    # If no <article> element is found, try using BeautifulSoup with the specific ID\n",
    "                    soup = BeautifulSoup(result, 'html.parser')\n",
    "                    article_id = 'main-content'  # Replace with the actual ID you are targeting\n",
    "                    article_element = soup.find(id=article_id)\n",
    "                    if article_element:\n",
    "                        article_body = remove_elements(str(article_element))\n",
    "                        article = [line for line in article_body.split(\"\\n\") if len(line) >= 40]\n",
    "                        articles_df.loc[idx - 1] = (urls[\"url\"][idx - 1],urls[\"title\"][idx - 1],article)\n",
    "                    else:\n",
    "                        logging.warning(f\"No article content found on the page with ID {article_id}.\")\n",
    "            except Exception as e:\n",
    "                logging.error(f\"Error extracting article content from {url}: error: {e}\")\n",
    "\n",
    "\n",
    "    return articles_df"
   ]
  },
  {
   "cell_type": "code",
   "execution_count": 31,
   "metadata": {},
   "outputs": [
    {
     "name": "stderr",
     "output_type": "stream",
     "text": [
      "INFO:root:\n",
      "Processing URL 1/4\n",
      "INFO:root:\n",
      "Processing URL 2/4\n",
      "INFO:root:\n",
      "Processing URL 3/4\n",
      "INFO:root:\n",
      "Processing URL 4/4\n"
     ]
    }
   ],
   "source": [
    "timeout = 20  # Timeout value\n",
    "async def main():\n",
    "    articles = await request_sentences_from_urls_async(df_BBC, timeout)\n",
    "    return articles\n",
    "articles_df = await main()\n"
   ]
  },
  {
   "cell_type": "code",
   "execution_count": 43,
   "metadata": {},
   "outputs": [
    {
     "data": {
      "text/html": [
       "<div>\n",
       "<style scoped>\n",
       "    .dataframe tbody tr th:only-of-type {\n",
       "        vertical-align: middle;\n",
       "    }\n",
       "\n",
       "    .dataframe tbody tr th {\n",
       "        vertical-align: top;\n",
       "    }\n",
       "\n",
       "    .dataframe thead th {\n",
       "        text-align: right;\n",
       "    }\n",
       "</style>\n",
       "<table border=\"1\" class=\"dataframe\">\n",
       "  <thead>\n",
       "    <tr style=\"text-align: right;\">\n",
       "      <th></th>\n",
       "      <th>url</th>\n",
       "      <th>content</th>\n",
       "    </tr>\n",
       "  </thead>\n",
       "  <tbody>\n",
       "    <tr>\n",
       "      <th>0</th>\n",
       "      <td>One-minute World News</td>\n",
       "      <td>[One-minute World News This video can not be p...</td>\n",
       "    </tr>\n",
       "    <tr>\n",
       "      <th>1</th>\n",
       "      <td>South East England weather forecast</td>\n",
       "      <td>[South East England weather forecast This vide...</td>\n",
       "    </tr>\n",
       "    <tr>\n",
       "      <th>2</th>\n",
       "      <td>East Midlands weather forecast</td>\n",
       "      <td>[East Midlands weather forecast This video can...</td>\n",
       "    </tr>\n",
       "    <tr>\n",
       "      <th>3</th>\n",
       "      <td>South England weather forecast</td>\n",
       "      <td>[South England weather forecast This video can...</td>\n",
       "    </tr>\n",
       "    <tr>\n",
       "      <th>4</th>\n",
       "      <td>South England weather forecast</td>\n",
       "      <td>[South England weather forecast This video can...</td>\n",
       "    </tr>\n",
       "    <tr>\n",
       "      <th>...</th>\n",
       "      <td>...</td>\n",
       "      <td>...</td>\n",
       "    </tr>\n",
       "    <tr>\n",
       "      <th>340</th>\n",
       "      <td>Man Utd news: Should club keep Erik ten Hag?</td>\n",
       "      <td>[Should Man Utd keep Ten Hag? What information...</td>\n",
       "    </tr>\n",
       "    <tr>\n",
       "      <th>341</th>\n",
       "      <td>Man City 1-2 Man Utd: What should Sir Jim Ratc...</td>\n",
       "      <td>[What does Ratcliffe do now? PA Media Simon St...</td>\n",
       "    </tr>\n",
       "    <tr>\n",
       "      <th>342</th>\n",
       "      <td>Pep Guardiola: Manchester City boss says he ma...</td>\n",
       "      <td>[Guardiola admits tactical mistake in FA Cup f...</td>\n",
       "    </tr>\n",
       "    <tr>\n",
       "      <th>343</th>\n",
       "      <td>Headline here...</td>\n",
       "      <td>[Proud Kinghorn stars as Toulouse lift Champio...</td>\n",
       "    </tr>\n",
       "    <tr>\n",
       "      <th>344</th>\n",
       "      <td>Your pictures of Scotland: Photographs from ar...</td>\n",
       "      <td>[Your pictures of Scotland: 17 to 24 May John ...</td>\n",
       "    </tr>\n",
       "  </tbody>\n",
       "</table>\n",
       "<p>345 rows × 2 columns</p>\n",
       "</div>"
      ],
      "text/plain": [
       "                                                   url  \\\n",
       "0                                One-minute World News   \n",
       "1                  South East England weather forecast   \n",
       "2                       East Midlands weather forecast   \n",
       "3                       South England weather forecast   \n",
       "4                       South England weather forecast   \n",
       "..                                                 ...   \n",
       "340       Man Utd news: Should club keep Erik ten Hag?   \n",
       "341  Man City 1-2 Man Utd: What should Sir Jim Ratc...   \n",
       "342  Pep Guardiola: Manchester City boss says he ma...   \n",
       "343                                   Headline here...   \n",
       "344  Your pictures of Scotland: Photographs from ar...   \n",
       "\n",
       "                                               content  \n",
       "0    [One-minute World News This video can not be p...  \n",
       "1    [South East England weather forecast This vide...  \n",
       "2    [East Midlands weather forecast This video can...  \n",
       "3    [South England weather forecast This video can...  \n",
       "4    [South England weather forecast This video can...  \n",
       "..                                                 ...  \n",
       "340  [Should Man Utd keep Ten Hag? What information...  \n",
       "341  [What does Ratcliffe do now? PA Media Simon St...  \n",
       "342  [Guardiola admits tactical mistake in FA Cup f...  \n",
       "343  [Proud Kinghorn stars as Toulouse lift Champio...  \n",
       "344  [Your pictures of Scotland: 17 to 24 May John ...  \n",
       "\n",
       "[345 rows x 2 columns]"
      ]
     },
     "execution_count": 43,
     "metadata": {},
     "output_type": "execute_result"
    }
   ],
   "source": [
    "articles_df"
   ]
  },
  {
   "cell_type": "code",
   "execution_count": 35,
   "metadata": {},
   "outputs": [
    {
     "name": "stdout",
     "output_type": "stream",
     "text": [
      "345 345\n"
     ]
    },
    {
     "data": {
      "text/html": [
       "<div>\n",
       "<style scoped>\n",
       "    .dataframe tbody tr th:only-of-type {\n",
       "        vertical-align: middle;\n",
       "    }\n",
       "\n",
       "    .dataframe tbody tr th {\n",
       "        vertical-align: top;\n",
       "    }\n",
       "\n",
       "    .dataframe thead th {\n",
       "        text-align: right;\n",
       "    }\n",
       "</style>\n",
       "<table border=\"1\" class=\"dataframe\">\n",
       "  <thead>\n",
       "    <tr style=\"text-align: right;\">\n",
       "      <th></th>\n",
       "      <th>Url</th>\n",
       "      <th>Last Modified</th>\n",
       "      <th>Title</th>\n",
       "      <th>Topic</th>\n",
       "      <th>content</th>\n",
       "    </tr>\n",
       "  </thead>\n",
       "  <tbody>\n",
       "    <tr>\n",
       "      <th>0</th>\n",
       "      <td>https://www.bbc.com/news/10462520</td>\n",
       "      <td>2024-05-25T15:30:45Z</td>\n",
       "      <td>One-minute World News</td>\n",
       "      <td>news</td>\n",
       "      <td>One-minute World News This video can not be pl...</td>\n",
       "    </tr>\n",
       "    <tr>\n",
       "      <th>1</th>\n",
       "      <td>https://www.bbc.com/weather/forecast-video/214...</td>\n",
       "      <td>2024-05-25T17:25:07Z</td>\n",
       "      <td>South East England weather forecast</td>\n",
       "      <td>weather</td>\n",
       "      <td>South East England weather forecast This video...</td>\n",
       "    </tr>\n",
       "    <tr>\n",
       "      <th>2</th>\n",
       "      <td>https://www.bbc.com/weather/forecast-video/214...</td>\n",
       "      <td>2024-05-25T17:31:57Z</td>\n",
       "      <td>East Midlands weather forecast</td>\n",
       "      <td>weather</td>\n",
       "      <td>East Midlands weather forecast This video can ...</td>\n",
       "    </tr>\n",
       "    <tr>\n",
       "      <th>3</th>\n",
       "      <td>https://www.bbc.com/weather/forecast-video/247...</td>\n",
       "      <td>2024-05-25T17:11:35Z</td>\n",
       "      <td>South England weather forecast</td>\n",
       "      <td>weather</td>\n",
       "      <td>nan</td>\n",
       "    </tr>\n",
       "    <tr>\n",
       "      <th>4</th>\n",
       "      <td>https://www.bbc.com/weather/forecast-video/247...</td>\n",
       "      <td>2024-05-25T17:11:35Z</td>\n",
       "      <td>South England weather forecast</td>\n",
       "      <td>weather</td>\n",
       "      <td>nan</td>\n",
       "    </tr>\n",
       "    <tr>\n",
       "      <th>...</th>\n",
       "      <td>...</td>\n",
       "      <td>...</td>\n",
       "      <td>...</td>\n",
       "      <td>...</td>\n",
       "      <td>...</td>\n",
       "    </tr>\n",
       "    <tr>\n",
       "      <th>340</th>\n",
       "      <td>https://www.bbc.com/sport/football/articles/ck...</td>\n",
       "      <td>2024-05-25T18:25:45Z</td>\n",
       "      <td>Man Utd news: Should club keep Erik ten Hag?</td>\n",
       "      <td>sport</td>\n",
       "      <td>nan</td>\n",
       "    </tr>\n",
       "    <tr>\n",
       "      <th>341</th>\n",
       "      <td>https://www.bbc.com/sport/football/articles/cg...</td>\n",
       "      <td>2024-05-25T18:26:19Z</td>\n",
       "      <td>Man City 1-2 Man Utd: What should Sir Jim Ratc...</td>\n",
       "      <td>sport</td>\n",
       "      <td>nan</td>\n",
       "    </tr>\n",
       "    <tr>\n",
       "      <th>342</th>\n",
       "      <td>https://www.bbc.com/sport/football/articles/cl...</td>\n",
       "      <td>2024-05-25T18:27:43Z</td>\n",
       "      <td>Pep Guardiola: Manchester City boss says he ma...</td>\n",
       "      <td>sport</td>\n",
       "      <td>nan</td>\n",
       "    </tr>\n",
       "    <tr>\n",
       "      <th>343</th>\n",
       "      <td>https://www.bbc.com/sport/rugby-union/articles...</td>\n",
       "      <td>2024-05-25T18:34:20Z</td>\n",
       "      <td>Headline here...</td>\n",
       "      <td>sport</td>\n",
       "      <td>nan</td>\n",
       "    </tr>\n",
       "    <tr>\n",
       "      <th>344</th>\n",
       "      <td>https://www.bbc.com/news/articles/crgg5nee8m0o</td>\n",
       "      <td>2024-05-25T08:34:49Z</td>\n",
       "      <td>Your pictures of Scotland: Photographs from ar...</td>\n",
       "      <td>news</td>\n",
       "      <td>nan</td>\n",
       "    </tr>\n",
       "  </tbody>\n",
       "</table>\n",
       "<p>345 rows × 5 columns</p>\n",
       "</div>"
      ],
      "text/plain": [
       "                                                   Url         Last Modified  \\\n",
       "0                    https://www.bbc.com/news/10462520  2024-05-25T15:30:45Z   \n",
       "1    https://www.bbc.com/weather/forecast-video/214...  2024-05-25T17:25:07Z   \n",
       "2    https://www.bbc.com/weather/forecast-video/214...  2024-05-25T17:31:57Z   \n",
       "3    https://www.bbc.com/weather/forecast-video/247...  2024-05-25T17:11:35Z   \n",
       "4    https://www.bbc.com/weather/forecast-video/247...  2024-05-25T17:11:35Z   \n",
       "..                                                 ...                   ...   \n",
       "340  https://www.bbc.com/sport/football/articles/ck...  2024-05-25T18:25:45Z   \n",
       "341  https://www.bbc.com/sport/football/articles/cg...  2024-05-25T18:26:19Z   \n",
       "342  https://www.bbc.com/sport/football/articles/cl...  2024-05-25T18:27:43Z   \n",
       "343  https://www.bbc.com/sport/rugby-union/articles...  2024-05-25T18:34:20Z   \n",
       "344     https://www.bbc.com/news/articles/crgg5nee8m0o  2024-05-25T08:34:49Z   \n",
       "\n",
       "                                                 Title    Topic  \\\n",
       "0                                One-minute World News     news   \n",
       "1                  South East England weather forecast  weather   \n",
       "2                       East Midlands weather forecast  weather   \n",
       "3                       South England weather forecast  weather   \n",
       "4                       South England weather forecast  weather   \n",
       "..                                                 ...      ...   \n",
       "340       Man Utd news: Should club keep Erik ten Hag?    sport   \n",
       "341  Man City 1-2 Man Utd: What should Sir Jim Ratc...    sport   \n",
       "342  Pep Guardiola: Manchester City boss says he ma...    sport   \n",
       "343                                   Headline here...    sport   \n",
       "344  Your pictures of Scotland: Photographs from ar...     news   \n",
       "\n",
       "                                               content  \n",
       "0    One-minute World News This video can not be pl...  \n",
       "1    South East England weather forecast This video...  \n",
       "2    East Midlands weather forecast This video can ...  \n",
       "3                                                  nan  \n",
       "4                                                  nan  \n",
       "..                                                 ...  \n",
       "340                                                nan  \n",
       "341                                                nan  \n",
       "342                                                nan  \n",
       "343                                                nan  \n",
       "344                                                nan  \n",
       "\n",
       "[345 rows x 5 columns]"
      ]
     },
     "execution_count": 35,
     "metadata": {},
     "output_type": "execute_result"
    }
   ],
   "source": [
    "print(len(articles_df),len(df_BBC))\n",
    "for title, content in articles_df.:\n",
    "    # Find indices where the title matches\n",
    "    mask = df_BBC['Title'] == title\n",
    "    df_BBC.loc[mask, 'content'] = content\n",
    "df_BBC"
   ]
  },
  {
   "cell_type": "code",
   "execution_count": 29,
   "metadata": {},
   "outputs": [
    {
     "data": {
      "text/plain": [
       "'nan'"
      ]
     },
     "execution_count": 29,
     "metadata": {},
     "output_type": "execute_result"
    }
   ],
   "source": [
    "df_BBC.loc[3].content"
   ]
  },
  {
   "cell_type": "code",
   "execution_count": 66,
   "metadata": {},
   "outputs": [
    {
     "data": {
      "text/plain": [
       "'Hamas hostages: Stories of the people taken from Israel Share close panel Share page Copy link About sharing Related Topics Israel-Gaza war Family handout Amiram Cooper Guy Gilboa-Dalal and Tsachi Idan are being held in Gaza A total of 121 hostages remain unaccounted for after being kidnapped by Hamas on 7 October last year - at least 37 of them are presumed dead According to Israel 252 Israelis and foreigners were taken during the attacks Israel gives an official figure of 125 hostages being held in Gaza because it includes four people taken hostage in 2014 and 2015 Two of these are believed to have died Who are the released Israeli hostages? I’m not ready to lose hope: The hostages still in Gaza These are the stories of those hostages who are still being held which have either been confirmed by the BBC or credibly reported This list is regularly updated and names may change as some people feared kidnapped are confirmed to have been killed or released Last updated on 24 May 2024 at 10:11 BST Yagev Kirsht 34 was taken from his home in Kibbutz Nirim alongside his wife Rimon Buchstab Kirsht She has now been released Alexander Trupanov was taken hostage with his mother Lena Trupanov 50 his partner Sapir Cohen 29 and his grandmother Irina Tati 73 All were abducted from Kibbutz Nir Oz as they spent the Sabbath together according to a statement by Canadas Raoul Wallenburg Center for Human Rights Irina and Lena were released on Wednesday 29 November and Sapir was freed the next day Ariel Cunio his girlfriend Arbel Yahud and her brother Dolev are also thought to have been abducted in the same attack on Nir Oz Eitan Cunio Ariels brother who escaped Hamas told the Jewish Chronicle that his last message from Ariel said: We are in a horror movie David Cunio 33 another of Ariels brothers was also kidnapped from Nir Oz family say Davids wife Sharon Aloni Cunio and their three-year-old twin daughters Ema and Yuly were released on 27 November Sharons sister Daniele Aloni and her six-year-old daughter Emilia were both released on 24 November Doron Steinbrecher 30 a veterinary nurse was in her apartment in Kibbutz Kfar Aza when Hamas attacked the Times of Israel reported At 10:30 on 7 October the newspaper said she sent a voice message to friends: Theyve arrived they have me Family handout Doron Steinbrecher sent a voice message to friends during Hamas attack Naama Levy 19 was filmed being bundled into a jeep her hands tied behind her back The footage was released by Hamas and circulated widely on social media According to her mother the teenager had just begun her military service Yousef Zyadna a 53-year-old Bedouin dairy farmer was abducted from Kibbutz Holit and taken to Gaza along with his sons Hamza 22 and Bilal 18 and his daughter Aisha 16 Aisha and Bilal were released on Thursday 30 November Elad Katzir 47 was abducted from Nir Oz with his mother Hanna The IDF said it had recovered his body from Gaza on 6 April after he was murdered in captivity by Islamic Jihad Hanna was released in November Ohad Ben Ami 55 was kidnapped from Beeri with his wife Raz She was released by Hamas on 29 November Twin brothers Gali and Ziv Berman 26 were taken from Kfar Aza Ziv was messaging a friend as the attack happened Their family said the IDF has told them the brothers are being held in Gaza Their brother Liran told CBN news the pair had twin power and were the centre of attention wherever they went Iraq-born Shlomo Mansour 85 was taken captive from Kibbutz Kissufim where he lived and worked as a chicken coop manager His wife Mazal managed to escape Daniela Gilboa 19 sent messages saying that Kibbutz Nahal Oz where she was staying was under attack and asked her mother to pray for her Her boyfriend Roy Dadon told the Economist 1843 magazine that he believes he saw a glimpse of her in a video showing three girls being driven away in the back of an SUV Itay Chen 19 a dual US-Israeli citizen and IDF solider was on active duty with a tank unit on 7 October according to the Times of Israel The paper reported that his family was notified by the IDF that he is officially considered missing in action and probably being held hostage Another soldier in his unit Matan Angrest 21 is also presumed to be in Gaza Yosi Sharabi 51 was taken from Beeri with his brother Eli Sharabi 55 Elis wife and two daughters were murdered in the attack Ofir Engel the boyfriend of Yosis daughter Yuval was also taken but released on 29 November Agam Berger 19 was kidnapped from Nahal Oz She was seen being taken away in videos released by Hamas Edan Alexander 19 is an Israeli-US citizen who volunteered to join the Israeli army He was serving near the Gaza border at the time of Hamass attack Edans family said they had been told by Israeli officials that he had been taken to Gaza as a hostage Kaid Farhan Elkadi 53 lives with his family south of Rahat and worked as a security guard according to Israeli media Reports said his family believes he was kidnapped and taken to Gaza based on images shared by Hamas Family handout Ilana Gritzewsky and Matan Zanguaker were captured near the Gaza border family say Matan Zanguaker 24 was taken with his partner Ilana Gritzewsky 30 from Nir Oz according to Ilanas father external Ilana a Mexican national was released on Thursday 30 November Family handout The family of Eitan and Yair Horn believe they were taken from Nir Oz kibbutz Eitan Horn 37 and his brother Yair 45 both Argentinian citizens were also in Nir Oz at the time of the attack Their father Itzik said he believes they were kidnapped Yair is a construction worker while Eitan works in education Itai Svirsky 38 is thought to have been abducted when his elderly parents were killed in Beeri He had been visiting them for the holiday of Simhat Torah Keith Seigel 64 and his wife Adrienne - often known as Aviva - Seigel 62 were taken from their home in Kfar Aza Keiths brother Lee Seigel told the BBC Adrienne was released on 26 November Omri Miran 46 lived in Nahal Oz with his wife and two daughters Omri was led away by Hamas with his hands tied his wife Lishay told the Guardian newspaper She told him not to be a hero urging: Do whatever they want because I want you back Family handout Bipin Joshi was studying agriculture in Israel Bipin Joshi 23 a Nepalese student is believed to have been taken from Kibbutz Alumim Nepalese newspaper Setopati says he was one of 49 university students studying agriculture in Israel It says 10 students were killed in the attack Ilan Weiss 58 went missing from Kibbutz Beeri after he was last seen leaving the house to defend the community On 25 November his wife Shiri Weiss 53 and their daughter Noga 18 were freed from captivity in a hostage deal Amiram Cooper 85 and his wife Nurit 80 were taken from their home in Nir Oz their daughter-in-law Noa told the BBC The family last spoke to the couple during the Hamas attack Noa said when the couple were in their safe room The family later traced Amirams phone to Gaza On Monday 23 October Nurit was one of two women to be released Lotan Cooper Amiram and Nurit Cooper pictured with their granddaughter Gali Oded Lifshitz 83 and his wife Yocheved 85 were taken hostage from Nir Oz On Monday 23 October Yocheved was one of two elderly women to be freed After hearing the news of her mothers release their daughter Sharone - a London-based artist - said: While I cannot put into words the relief that she is now safe I will remain focused on securing the release of my father and all those - some 200 innocent people - who remain hostages in Gaza Haim Peri 79 was taken from his home in Nir Oz reports the Times of Israel external and freed hostage Yocheved Lifshitz said she saw that he was alive and well His son Lior Peri told Talk TV external that Haim had locked his wife inside the safe room before giving himself up to kidnappers Avraham Munder 78 was kidnapped from Nir Oz Israeli officials say external His wife Ruthi daughter and grandson have since been released Omer Neutra a 22-year-old Israeli-American and grandson of Holocaust survivors put off plans to go to college in the US to study in Israel and eventually joined the IDF He was serving as a tank commander near Gaza when Hamas attacked Omers parents say they were told by the Israeli embassy that he had been kidnapped Alex Danzig 75 a scholar and historian of the Holocaust was at his home in Nir Oz when it was attacked by Hamas We know for sure he was kidnapped his son Mati told the BBC Alex - whose older sister Edith is a Holocaust survivor - has spent the last 30 years working for Yad Vashem Israels Holocaust remembrance centre His disappearance has triggered a campaign for his release both in Israel and in Poland the country of his birth Mati Danzig Alex Danzig has spent decades educating people about the Holocaust Itzhk Elgarat 68 was kidnapped at the same time as Alex Danzig his brother Danny Elgert told Israels Kan 11 TV station adding that he had tracked his brothers phone to the border with Gaza Gadi Moses 79 was also abducted during the same attack on Nir Oz according to relatives and the Israeli aid agency where he worked as an agricultural expert Efrat Katz his partner was initially thought to have been captured as well but she was later found dead the Times of Israel reported Efrat was the mother of Doron Asher who was taken hostage and later released with her two daughters Ravid Katz 51 Doron Ashers brother was originally thought to have been taken hostage from Nir Oz but on 28 November his family confirmed that he had been killed on 7 October Nimrod Cohen 19 had studied software engineering in high school according to reports After he was kidnapped his father was invited to meet Pope Francis in Rome along with other hostages families Tsachi Idan 51 was last seen by his wife Gali as he was taken away by Hamas gunmen Their family had been ambushed in their safe room in Nahal Oz Their ordeal was live-streamed by Hamas Their eldest child Maayan - who had just turned 18 - was shot dead Gali told the BBC Family handout Tsachi Idan was ambushed with his wife and children and then led away Yarden Bibas 34 was abducted from Nir Oz His wife Shiri and their two young children Ariel and Kfir were also taken hostage but on 29 November Hamas claimed they had been killed in an Israeli air strike while in captivity The Israeli government has said it is checking the claim Ronen Engel 54 was taken from Kibbutz Nir Oz along with his wife Karina Engelbert 51 and their two daughters Mika 18 and Yuval 11 On 1 December the organisation representing the families said he had been murdered Karina Mika and Yuval were released on 27 November Karina Ariev a 19-year-old soldier was serving at an army base near Gaza when she was kidnapped Her sister Alexandra told the BBC she heard shooting as Karina called her during the attack and later saw a video showing Karina being taken away in a vehicle Family Handout Karina Ariev was at the Nahal Oz military base which was among the first to be attacked Ofer Kalderon 53 was taken by Hamas from Nir Oz On 27 November his two children Erez 12 and Sahar 16 were released Two other relatives 80-year-old Carmela Dan and her granddaughter Noya 12 were also believed to have been taken but Israeli authorities later announced they had been found dead Yoram Metzger 80 was a resident of Nir Oz He has diabetes and broke his hip six months ago his daughter-in-law said Yorams wife Tamar was released on 28 November Nadav Popplewell 51 and his mother Channah were taken hostage by Hamas said Channahs daughter Ayelet Svatitzky who was speaking to them on the phone when the gunmen burst in She said the captors sent pictures of her two relatives who both have diabetes with armed men in the background Channah has now been released Omri Miran 46 was abducted after his family opened the door to their secure shelter to an Israeli child who said he would be killed otherwise Omris wife Lishay Lavi said she saw him being taken away in handcuffs with three other hostages from Nahal Oz Liri Elbag 18 had just started military training as an Army lookout near the Gaza border when Hamas attacked her father Eli told the Associated Press Eli said he saw her in a video circulated later by Hamas crowded with others on the back of a military truck which had been seized by the gunmen A number of people are believed to have been abducted from the Supernova music festival in southern Israel Among them: Shlomi Ziv 40 was part of the security detail at the festival and was initially in contact with his sisters as the attack unfolded according to an interview with The Times of Israel A few weeks later the family learned he was officially considered to be a hostage the report says Alexander Lobanov 32 is a Russian-Israeli citizen who was kidnapped at the festival Ori Danino 25 is reported to have got away from the festival in his car but its believed he was captured after turning back in an attempt to save some people he had met there Almog Sarusi 26 was kidnapped from the music festival and his partner Shahar Gindi was killed according to Israeli media Almogs father Yigal was among the relatives of hostages who met with Israels prime minister in October Omer Shem Tov 21 called his parents as he was running away from gunfire and managed to get into a friends car His parents Shelly and Malki Shem Tov told Israeli media they lost contact with their son and the live location on his phone showed he was beyond the border in Gaza Idan Shtivi 28 an environmental sciences student was attending the festival to take pictures at music and yoga workshops being held by friends He escaped the site in his car but was attacked by Hamas along the route The bodies of two of his passengers were found and his family told the Jerusalem Post they suspect he was kidnapped Yosef Ohana 24 had been at the festival with a friend who told his mother he and Yosef had remained to help people escape the gunfire before running themselves Yosef was last seen hiding under a car and Israeli authorities have visited his mother to say he was kidnapped Andrei Kozlov 27 a Russian who moved to Israel in 2022 is missing from the Supernova festival where he was working as a security guard His mother told the De Taly publication the family was told by the IDF on October 26 that he was being held hostage Noa Argamani a Chinese-born Israeli citizen was also kidnapped from the festival Video footage - verified by her father Yaakov Argamani to Israels Channel 12 - shows the 25-year-old being taken away on the back of a motorbike screaming Dont kill me! Her boyfriend Avinatan Or 30 also appears in the video being marched away from her by Hamas the Times of Israel reported Family handout Eden Yerushalmis family say they were told she had been taken hostage Eden Yerushalmi 24 called her family during Hamass attack on the festival her sister May told CBS News The family say they were subsequently informed by the IDF that Eden had been abducted Jonathan Samerano 21 has been missing since 7am on the morning of the festival His family have been told to presume he is being held in Gaza Israeli media reported Family handout Guy Gilboa-Dalal was filmed in captivity in Gaza his family say Guy Gilboa-Dalal 22 attended the festival with his brother Guy appears in a hostage video that his family say confirms he is in Gaza Family handout Maxim Kharkins mother described speaking to him on the morning of 7 October Maxim Kharkin is aged 35 and a Russian speaker his mother told Russian media She added that he had called her at 07:00 on the morning of the attack Family handout Elkana Bohbot was seen in a video posted by Hamas Elkana Bohbot 34 had gone to the party with friends and before losing contact he spoke to his wife and mother telling them he was helping to evacuate the wounded the Times of Israel reported Hours later his family found a video of him posted online by Hamas which has been seen by BBC Verify Rom Braslavski 19 was working on security for the festival According to an account published by Hostages and Missing Families Forum he was trying to rescue an injured person in the attack when he was caught in a volley of fire He has not been heard from since Omer Wenkert 22 a restaurant manager sent a message to his family to say he was going to a safe shelter but then lost contact his father Shai Wenkert told the BBCs Today Programme Shai Wenkert said he had seen footage of his son in captivity including a photo of him handcuffed and wearing only underwear Family handout Evyatar Davids family say they were sent a video of him in captivity Evyatar David 23 was at the festival and on the morning of the attacks described fleeing from gunfire before losing contact with the outside world his brother says Later his family say Evyatars sister posted on Instagram appealing for information about his whereabouts She then received a text from an unknown number which contained video footage of Evyatar handcuffed on the floor of a dark room According to Israels foreign ministry he is being held captive by Hamas in Gaza Eitan Mor 23 lives in Jerusalem and was working as a security guard at the festival the Times of Israel said He reportedly texted his uncle after Hamas arrived and was last seen with a friend bringing others to safety Alon Ohel 22 a Serbian citizen took refuge in a shelter after the festival came under attack his family say They have seen footage of him being dragged away after a grenade attack Almog Meir Jan 21 tried to flee the festival He and a friend made it to the friends car but only managed to drive a short distance before being forced to stop Almogs family say they have seen a hostage video in which he appears Inbar Heiman a student aged 21 was seen by two young Israeli men being taken away from the festival on a motorcycle Hamas have released a video in which she is seen very briefly Hersh Goldberg-Polin 23 a dual US-Israeli citizen was badly injured in the attack his family told the BBC Eyewitness accounts say he was seen being forced onto a white pick-up truck - the last-known signal from his phone came from just inside Gaza Segev Kalfon 26 was running away from the festival across the highway when he was captured by Hamas according to the Hostages and Missing Families Forum Romi Lesham Gonen 23 was on the phone to her mother as she tried to escape from the Supernova festival Merav Leshem Gonan has recounted a conversation in which her daughter begged for help after being shot ABC News reports that Romis phone is now in Gaza Bar Kuperstein 21 last spoke to his family early on the morning of 7 October as the attack unfolded Later the same day his family say they identified him in a video of Israeli prisoners posted by Hamas Since then they say they have had no further information Eliya Cohen 26 was hiding with his girlfriend Ziv from the attack when Ziv felt him being pulled up and driven away by the gunmen Eliyas mother has told the video initiative #BringThemHomeNow The family then found a photo of Eliya in Gaza the Times of Israel reported Carmel Gat 39 is Jordans sister-in-law and also was seen by her father being taken by gunmen from Kibbutz Beeri Haaretz newspaper reported She has not been heard from since Ohad Yahalomi 49 was abducted from Nir Oz along with his 12-year-old son Eitan who was released during the November ceasefire Dror Or 48 was seen by a neighbour being dragged out of his home in Beeri according to their nephew Emmanuel Besorai along with his son and daughter On Saturday 25 November Drors son Noam 17 and daughter Alma 13 were released from captivity The body of Yonat 50 - Drors wife and the childrens mother - was identified among the 120 people murdered at the kibbutz Yonats brother told the Guardian newspaper Tal Shoham 38 was taken from Kibbutz Beeri His wife Adi also 38 her mother Dr Shoshan Haran 67 were released by Hamas on 25 November along with the couples children Nave eight and Yahel three Dr Harans husband Avshalom - an economist and dual citizen - was killed on 7 October Sagui Dekel-Chen 35 an American-Israeli citizen has been missing since Hamass attack on Nir Oz his father Jonathan told the BBC He said his son was not found among the dead and the only reasonable explanation is that he was taken to Gaza Jonathan Dekel-Chen Sagui Dekel-Chens father has not heard from him since Hamas attacked the kibbutz where he lived Thailands ambassador to Israel says 31 of its citizens were taken hostage - 23 of whom have now been released Those still being held are believed to include Watchara Sriuan 32 His mother Viewwaew told the Thaiger news site that the family had been informed he was being held captive Kiattisak Top Patee and a Mr Pongtorn (no first name given) have also been named by the Thai foreign ministry as hostages Hostages who have died A number of other people thought to have been held hostage are now confirmed to have died either during the 7 October attack or while in captivity On 24 May the Israeli army said that the bodies of three hostages had been recovered - Orion Hernandez 30 Chanan Yablonka 42 and Michel Nisenbaum 59 Over the month of May a number of other hostages bodies have also been found Their names are Shani Louk 23 Amit Buskila 27 Itzhak Gelerenter 58 Ron Benjamin 53 Lior Ruadaeff 61 and Eylakim Libman 23 The families of two Thai hostages Sonthaya Oakkharasr and Sudthisak Rinthalak were informed on 16 May that they were killed during the 7 October attack and their bodies were being held by Hamas in Gaza On 16 December the Israeli military expressed deep remorse after soldiers mistakenly killed three hostages in northern Gaza who had escaped from their captors They were named as Yotam Haim 28 Samer Talalka 22 and Alon Shamriz 26 The death of Tamir Adar 38 was announced on 5 January by the Hostages and Missing Persons Families Forum Other hostages confirmed to have died include Gadi Haggai Ron Scherman Nik Beizer Tal Chaimi an Israeli-Romanian citizen aged 41 Joshua Mollel a 19-year-old Tanzanian student 27-year-old Eden Zecharya and 36-year-old Ziv Dado Other fatalities include Sahar Baruch 25 Dror Kaplun 68 Aviv Atzili 49 Arye Zalmanovich 85 Ronen Engel 54 Maya Goren 56 Guy Iluz 26 Ofir Tzarfati 27 Ofra Keider 70 and Eliyahu Margalit 75 The bodies of 19-year-old soldier Noa Marciano and 65-year-old Yehudit Weiss were found by Israeli troops in buildings close to Al-Shifa Hospital in Gaza City In March the family of Uriel Baruch 35 said they had been informed by the Israel Defence Forces (IDF) that he was killed on 7 October in the attack on the Nova music festival and that his body was being held in Gaza He was married with two children Hostages whose death has been reported but not confirmed include Shiri Bibas 32 and her two young children Ariel and Kfir Research by Jamie Ryan and Emma Pengelly More on Israel-Gaza war From Gaza: ‘So crowded we can’t even sleep on our backs’: Gaza shelters at breaking point From Israel: How much closer is Israel to its goal in Gaza? History behind the story: The Israel-Palestinian conflict Are you personally affected by the issues raised in this story? If it is safe to do so please get in touch by emailing haveyoursay@bbccouk external Please include a contact number if you are willing to speak to a BBC journalist You can also get in touch in the following ways: WhatsApp: +44 7756 165803 Tweet: @BBC_HaveYourSay external Upload pictures or video external Please read our terms & conditions and privacy policy If you are reading this page and cant see the form you will need to visit the mobile version of the BBC website to submit your question or comment or you can email us at HaveYourSay@bbccouk external Please include your name age and location with any submission Related Topics Middle East Israel-Gaza war Israel Gaza Hamas More on this story Frank Gardner: Hostage crisis is toughest Israel has ever faced 2023 Gaza situation dire UN says as Israeli military admits security failures 2023 260 bodies recovered from horror movie festival scene 2023 Nobody could help us - Shock and anger in Israels Ashkelon 2023 How Hamas staged lightning assault no-one thought possible 2023'"
      ]
     },
     "execution_count": 66,
     "metadata": {},
     "output_type": "execute_result"
    }
   ],
   "source": [
    "idx = 75\n",
    "\n",
    "url = \"https://www.bbc.com/news/world-middle-east-67053011\"\n",
    "response = requests.get(url, timeout=timeout)\n",
    "tree = etree.HTML(response.content)\n",
    "article_element = tree.find(\".//article\")\n",
    "            \n",
    "if article_element is not None:\n",
    "    outer_html = etree.tostring(article_element, encoding='unicode')\n",
    "    \n",
    "    article_body = remove_elements(outer_html)\n",
    "    \n",
    "article_body\n",
    "\n"
   ]
  },
  {
   "cell_type": "code",
   "execution_count": 53,
   "metadata": {},
   "outputs": [
    {
     "data": {
      "text/plain": [
       "'<article class=\"ssrcss-1ag7mww-ArticleWrapper e1nh2i2l3\"><div class=\"ssrcss-1ocoo3l-Wrap e42f8511\"><div width=\"wide\" class=\"ssrcss-ahx90r-WrapWithWidth e42f8510\"><header data-component=\"legacy-header-block\" class=\"ssrcss-15i1622\"><h1 id=\"main-heading\" type=\"headline\" tabindex=\"-1\" class=\"ssrcss-1pcdslv-Heading e10rt3ze0\">Hamas hostages: Stories of the people taken from Israel</h1><div><ul role=\"list\" class=\"ssrcss-j4gvkq-MetadataStripContainer eh44mf03\"><div class=\"ssrcss-13nu8ri-GroupChildrenForWrapping eh44mf02\"><li role=\"listitem\" class=\"ssrcss-30fcoe-MetadataStripItem eh44mf01\"><div class=\"visually-hidden ssrcss-1f39n02-VisuallyHidden e16en2lz0\">Published</div><div class=\"ssrcss-m5j4pi-MetadataContent eh44mf00\"><span class=\"ssrcss-1pvwv4b-MetadataSnippet e4wm5bw3\"><span class=\"ssrcss-1if1g9v-MetadataText e4wm5bw1\"><time data-testid=\"timestamp\" datetime=\"2024-05-24T09:10:58.000Z\"><span data-testid=\"time-and-date:clock\" class=\"ssrcss-1mh4yp1-IconContainer e4wm5bw0\"><svg viewbox=\"0 0 32 32\" width=\"1em\" height=\"1em\" class=\"ssrcss-xi5oyi-StyledIcon e161cein1\" focusable=\"false\" aria-hidden=\"true\"><path d=\"M16 31c8.5 0 15-6.5 15-15S24.5 1 16 1 1 7.5 1 16s6.5 15 15 15m0-2.7C9 28.3 3.7 23 3.7 16S9 3.7 16 3.7 28.3 9 28.3 16 23 28.3 16 28.3m6.2-6.7 1-1.5-5.7-4.5-.6-8.6H15l-.7 10.5z\"/></svg></span>31 minutes ago</time></span></span></div></li></div></ul></div><div class=\"ssrcss-oak0za\"><div class=\"ssrcss-5tewi8-StyledInformationPanel eu74mg86\"><div><div data-testid=\"information-panel-button\"><button width=\"content-length\" type=\"button\" aria-haspopup=\"true\" aria-expanded=\"false\" class=\"ssrcss-rxucp1-Button eoocusk1\"><span data-testid=\"actions:share\" class=\"ssrcss-1a1fy59-IconWrapper eoocusk0\"><svg viewbox=\"0 0 32 32\" width=\"1em\" height=\"1em\" class=\"ssrcss-xi5oyi-StyledIcon e161cein1\" focusable=\"false\" aria-hidden=\"true\"><path d=\"M7.8 17 25.3 7l-1.2-2.3L6.6 15zm-1.2 0 17.5 10.3 1.2-2.3L7.8 15zm5.6-1c0-2.7-2.2-5-5-5-2.7 0-4.9 2.2-4.9 5 0 2.7 2.2 4.9 4.9 4.9 2.8 0 5-2.2 5-4.9M29.7 5.9c0-2.7-2.2-5-5-5-2.7 0-4.9 2.2-4.9 5 0 2.7 2.2 4.9 4.9 4.9 2.8 0 5-2.2 5-4.9m0 20.2c0-2.7-2.2-5-5-5-2.7 0-4.9 2.2-4.9 5 0 2.7 2.2 4.9 4.9 4.9 2.8.1 5-2.2 5-4.9\"/></svg><span class=\"visually-hidden ssrcss-1f39n02-VisuallyHidden e16en2lz0\">Share</span></span></button></div></div><div hidden=\"\" role=\"group\" aria-labelledby=\"share-tools-panel\" data-testid=\"information-panel-content\" class=\"ssrcss-dr79p0-StyledPanelContent eu74mg85\"><div class=\"ssrcss-4pcgwu-ContentWrapper eu74mg84\"><div class=\"ssrcss-1nt5rin-CloseButtonWrapper eu74mg82\"><button width=\"content-length\" type=\"button\" class=\"ssrcss-17x7euw-Button eoocusk1\"><span data-testid=\"actions:close\" class=\"ssrcss-1a1fy59-IconWrapper eoocusk0\"><svg viewbox=\"0 0 32 32\" width=\"1em\" height=\"1em\" class=\"ssrcss-xi5oyi-StyledIcon e161cein1\" focusable=\"false\" aria-hidden=\"true\"><path d=\"m30 4.6-2.8-2.8L2 27.4l2.8 2.8zM4.8 1.8 1.9 4.7l25.2 25.5 2.9-2.9z\"/></svg><span class=\"visually-hidden ssrcss-1f39n02-VisuallyHidden e16en2lz0\">close panel</span></span></button></div><div class=\"ssrcss-16sh5ob-PanelWrapper eu74mg83\"><div id=\"share-tools-panel\" aria-hidden=\"true\" class=\"ssrcss-1oeotj1-StyledTitleArea eu74mg81\">Share page</div><div><div><button width=\"full\" type=\"button\" aria-live=\"polite\" aria-relevant=\"text\" aria-atomic=\"true\" class=\"ssrcss-1p129wm-Button eoocusk1\"><span data-testid=\"actions:link\" class=\"ssrcss-1tz2bh9-IconWrapper eoocusk0\"><svg viewbox=\"0 0 32 32\" width=\"1em\" height=\"1em\" class=\"ssrcss-xi5oyi-StyledIcon e161cein1\" focusable=\"false\" aria-hidden=\"true\"><path d=\"m20.7 9.5-11 11.1 1.8 1.8 11.1-11.1zm.6 6.3-2 2c2.1 1.4 5.9.8 8.7-2l.6-.6c3-3 3.9-7.6-.1-11.7-4-4-8.6-3-11.6 0l-.6.5c-3 3-3.5 6.7-2 8.7l2-2c-.3-1.1-.2-2.7 2-4.9l.6-.6c2.4-2.4 5.4-2.5 7.9 0 2.5 2.6 2.4 5.5 0 7.9l-.6.6c-2.2 2.3-3.9 2.4-4.9 2.1m-5.5 5.5c.3 1 .2 2.7-2 4.8l-.6.6c-2.4 2.4-5.4 2.5-7.9 0s-2.4-5.5 0-7.9l.6-.6c2.1-2.1 3.8-2.3 4.9-2l2-2c-2-1.4-5.7-.9-8.7 2l-.6.6c-3 3-4 7.6 0 11.6s8.6 3.1 11.7.1l.6-.6c2.9-2.9 3.5-6.7 2-8.7z\"/></svg></span>Copy link</button></div></div><a href=\"https://www.bbc.co.uk/usingthebbc/terms/can-i-share-things-from-the-bbc\" class=\"ssrcss-18h2t1m-StyledLink ezys19s0\">About sharing</a></div></div></div></div><div class=\"ssrcss-smoc0a-StyledTagContainer ed0g1kj1\"><span class=\"visually-hidden ssrcss-1f39n02-VisuallyHidden e16en2lz0\">Related Topics</span><div class=\"ssrcss-17ehax8-Cluster e1ihwmse1\"><ul role=\"list\" spacing=\"2\" class=\"ssrcss-1ujonwb-ClusterItems e1ihwmse0\"><li><a href=\"/news/topics/c2vdnvdg6xxt\" class=\"ssrcss-w6az1r-StyledLink ed0g1kj0\">Israel-Gaza war</a></li></ul></div></div></div></header></div></div><div class=\"ssrcss-1ocoo3l-Wrap e42f8511\"><div width=\"wide\" class=\"ssrcss-ahx90r-WrapWithWidth e42f8510\"><div data-component=\"image-block\" class=\"ssrcss-1xq7is6-ComponentWrapper ep2nwvo1\"><figure class=\"ssrcss-8589xk-StyledFigure e34k3c23\"><div class=\"ssrcss-ab5fd8-StyledFigureContainer e34k3c21\"><span class=\"ssrcss-5zsoxt-Placeholder etlorgc0\"><picture><source srcset=\"https://ichef.bbci.co.uk/news/240/cpsprodpb/BDF7/production/_131813684_0755b1a7-dcab-4ac2-8cb5-0d9850e38281.jpg.webp 240w, https://ichef.bbci.co.uk/news/320/cpsprodpb/BDF7/production/_131813684_0755b1a7-dcab-4ac2-8cb5-0d9850e38281.jpg.webp 320w, https://ichef.bbci.co.uk/news/480/cpsprodpb/BDF7/production/_131813684_0755b1a7-dcab-4ac2-8cb5-0d9850e38281.jpg.webp 480w, https://ichef.bbci.co.uk/news/624/cpsprodpb/BDF7/production/_131813684_0755b1a7-dcab-4ac2-8cb5-0d9850e38281.jpg.webp 624w, https://ichef.bbci.co.uk/news/800/cpsprodpb/BDF7/production/_131813684_0755b1a7-dcab-4ac2-8cb5-0d9850e38281.jpg.webp 800w, https://ichef.bbci.co.uk/news/976/cpsprodpb/BDF7/production/_131813684_0755b1a7-dcab-4ac2-8cb5-0d9850e38281.jpg.webp 976w\" type=\"image/webp\"/><img alt=\"Composite image showing people abducted by Hamas: Amiram Cooper, Guy Gilboa-Dalal and Tsachi Idan\" loading=\"eager\" src=\"https://ichef.bbci.co.uk/news/976/cpsprodpb/BDF7/production/_131813684_0755b1a7-dcab-4ac2-8cb5-0d9850e38281.jpg\" srcset=\"https://ichef.bbci.co.uk/news/240/cpsprodpb/BDF7/production/_131813684_0755b1a7-dcab-4ac2-8cb5-0d9850e38281.jpg 240w, https://ichef.bbci.co.uk/news/320/cpsprodpb/BDF7/production/_131813684_0755b1a7-dcab-4ac2-8cb5-0d9850e38281.jpg 320w, https://ichef.bbci.co.uk/news/480/cpsprodpb/BDF7/production/_131813684_0755b1a7-dcab-4ac2-8cb5-0d9850e38281.jpg 480w, https://ichef.bbci.co.uk/news/624/cpsprodpb/BDF7/production/_131813684_0755b1a7-dcab-4ac2-8cb5-0d9850e38281.jpg 624w, https://ichef.bbci.co.uk/news/800/cpsprodpb/BDF7/production/_131813684_0755b1a7-dcab-4ac2-8cb5-0d9850e38281.jpg 800w, https://ichef.bbci.co.uk/news/976/cpsprodpb/BDF7/production/_131813684_0755b1a7-dcab-4ac2-8cb5-0d9850e38281.jpg 976w\" width=\"976\" height=\"549\" class=\"ssrcss-11yxrdo-Image edrdn950\"/></picture></span><span role=\"text\" class=\"ssrcss-tvuve5-StyledFigureCopyright e34k3c20\"><span class=\"visually-hidden ssrcss-1f39n02-VisuallyHidden e16en2lz0\">Image source, </span>Family handout</span></div><figcaption class=\"ssrcss-1mget3o-StyledFigureCaption e34k3c22\"><span class=\"visually-hidden ssrcss-1f39n02-VisuallyHidden e16en2lz0\">Image caption, </span><div spacing=\"6\" class=\"ssrcss-y7krbn-Stack e1y4nx260\"><p class=\"ssrcss-1q0x1qg-Paragraph e1jhz7w10\">Amiram Cooper, Guy Gilboa-Dalal and Tsachi Idan are being held in Gaza</p></div></figcaption></figure></div></div></div><div class=\"ssrcss-1ocoo3l-Wrap e42f8511\"><div width=\"wide\" class=\"ssrcss-ahx90r-WrapWithWidth e42f8510\"><div data-component=\"text-block\" class=\"ssrcss-5rhf4g-RichTextComponentWrapper ep2nwvo0\"><div class=\"ssrcss-7uxr49-RichTextContainer e5tfeyi1\"><p class=\"ssrcss-1q0x1qg-Paragraph e1jhz7w10\"><b class=\"ssrcss-1xjjfut-BoldText e5tfeyi3\">A total of 121 hostages remain unaccounted for after being kidnapped by Hamas on 7 October last year - at least 37 of them are presumed dead.</b></p><p class=\"ssrcss-1q0x1qg-Paragraph e1jhz7w10\">According to Israel, 252 Israelis and foreigners were taken during the attacks.</p><p class=\"ssrcss-1q0x1qg-Paragraph e1jhz7w10\">Israel gives an official figure of 125 hostages being held in Gaza because it includes four people taken hostage in 2014 and 2015. Two of these are believed to have died. </p></div></div></div></div><div class=\"ssrcss-1ocoo3l-Wrap e42f8511\"><div width=\"wide\" class=\"ssrcss-ahx90r-WrapWithWidth e42f8510\"><div data-component=\"text-block\" class=\"ssrcss-5rhf4g-RichTextComponentWrapper ep2nwvo0\"><div class=\"ssrcss-7uxr49-RichTextContainer e5tfeyi1\"><div class=\"ssrcss-1o5f7ft-BulletListContainer e5tfeyi0\"><ul role=\"list\"><li><p class=\"ssrcss-1q0x1qg-Paragraph e1jhz7w10\"><a href=\"https://www.bbc.co.uk/news/world-middle-east-67477240\" class=\"ssrcss-f6h2dj-InlineLink e1kn3p7n0\">Who are the released Israeli hostages?</a></p></li><li><p class=\"ssrcss-1q0x1qg-Paragraph e1jhz7w10\"><a href=\"https://www.bbc.co.uk/news/world-middle-east-67595798\" class=\"ssrcss-f6h2dj-InlineLink e1kn3p7n0\">\\'I’m not ready to lose hope\\': The hostages still in Gaza</a></p></li></ul></div></div></div></div></div><div class=\"ssrcss-1ocoo3l-Wrap e42f8511\"><div width=\"wide\" class=\"ssrcss-ahx90r-WrapWithWidth e42f8510\"><div data-component=\"text-block\" class=\"ssrcss-5rhf4g-RichTextComponentWrapper ep2nwvo0\"><div class=\"ssrcss-7uxr49-RichTextContainer e5tfeyi1\"><p class=\"ssrcss-1q0x1qg-Paragraph e1jhz7w10\">These are the stories of those hostages who are still being held, which have either been confirmed by the BBC or credibly reported.</p><p class=\"ssrcss-1q0x1qg-Paragraph e1jhz7w10\">This list is regularly updated and names may change, as some people feared kidnapped are confirmed to have been killed or released.</p><p class=\"ssrcss-1q0x1qg-Paragraph e1jhz7w10\"><i class=\"ssrcss-xbdn93-ItalicText e5tfeyi2\">Last updated on 24 May 2024 at 10:11 BST.</i></p></div></div></div></div><div class=\"ssrcss-1ocoo3l-Wrap e42f8511\"><div width=\"wide\" class=\"ssrcss-ahx90r-WrapWithWidth e42f8510\"><div data-component=\"image-block\" class=\"ssrcss-1pyuwv1-ComponentWrapper ep2nwvo1\"><figure class=\"ssrcss-8589xk-StyledFigure e34k3c23\"><div class=\"ssrcss-ab5fd8-StyledFigureContainer e34k3c21\"><span class=\"ssrcss-1g0hylz-Placeholder etlorgc0\"><span><noscript><picture><source srcset=\"https://ichef.bbci.co.uk/news/240/cpsprodpb/72FB/production/_112953492__90021446_test_grey_line_new-nc.png.webp 240w, https://ichef.bbci.co.uk/news/320/cpsprodpb/72FB/production/_112953492__90021446_test_grey_line_new-nc.png.webp 320w, https://ichef.bbci.co.uk/news/480/cpsprodpb/72FB/production/_112953492__90021446_test_grey_line_new-nc.png.webp 480w, https://ichef.bbci.co.uk/news/624/cpsprodpb/72FB/production/_112953492__90021446_test_grey_line_new-nc.png.webp 624w, https://ichef.bbci.co.uk/news/800/cpsprodpb/72FB/production/_112953492__90021446_test_grey_line_new-nc.png.webp 800w, https://ichef.bbci.co.uk/news/976/cpsprodpb/72FB/production/_112953492__90021446_test_grey_line_new-nc.png.webp 976w\" type=\"image/webp\"/><img alt=\"Short presentational grey line\" loading=\"lazy\" src=\"https://ichef.bbci.co.uk/news/624/cpsprodpb/72FB/production/_112953492__90021446_test_grey_line_new-nc.png\" srcset=\"https://ichef.bbci.co.uk/news/240/cpsprodpb/72FB/production/_112953492__90021446_test_grey_line_new-nc.png 240w, https://ichef.bbci.co.uk/news/320/cpsprodpb/72FB/production/_112953492__90021446_test_grey_line_new-nc.png 320w, https://ichef.bbci.co.uk/news/480/cpsprodpb/72FB/production/_112953492__90021446_test_grey_line_new-nc.png 480w, https://ichef.bbci.co.uk/news/624/cpsprodpb/72FB/production/_112953492__90021446_test_grey_line_new-nc.png 624w, https://ichef.bbci.co.uk/news/800/cpsprodpb/72FB/production/_112953492__90021446_test_grey_line_new-nc.png 800w, https://ichef.bbci.co.uk/news/976/cpsprodpb/72FB/production/_112953492__90021446_test_grey_line_new-nc.png 976w\" width=\"624\" height=\"23\" class=\"ssrcss-11yxrdo-Image edrdn950\"/></picture></noscript></span></span></div></figure></div></div></div><div class=\"ssrcss-1ocoo3l-Wrap e42f8511\"><div width=\"wide\" class=\"ssrcss-ahx90r-WrapWithWidth e42f8510\"><div data-component=\"text-block\" class=\"ssrcss-5rhf4g-RichTextComponentWrapper ep2nwvo0\"><div class=\"ssrcss-7uxr49-RichTextContainer e5tfeyi1\"><p class=\"ssrcss-1q0x1qg-Paragraph e1jhz7w10\"><b class=\"ssrcss-1xjjfut-BoldText e5tfeyi3\">Yagev Kirsht</b>, 34, was taken from his home in Kibbutz Nirim, alongside his wife, Rimon Buchstab Kirsht. She has now been released.</p><p class=\"ssrcss-1q0x1qg-Paragraph e1jhz7w10\"><b class=\"ssrcss-1xjjfut-BoldText e5tfeyi3\">Alexander Trupanov</b>, was taken hostage with his mother Lena Trupanov, 50, his partner Sapir Cohen, 29, and his grandmother Irina Tati, 73. All were abducted from Kibbutz Nir Oz as they spent the Sabbath together, according to a statement by Canada\\'s Raoul Wallenburg Center for Human Rights. Irina and Lena were released on Wednesday 29 November and Sapir was freed the next day. </p><p class=\"ssrcss-1q0x1qg-Paragraph e1jhz7w10\"><b class=\"ssrcss-1xjjfut-BoldText e5tfeyi3\">Ariel Cunio, </b>his girlfriend<b class=\"ssrcss-1xjjfut-BoldText e5tfeyi3\"> Arbel Yahud </b>and her brother <b class=\"ssrcss-1xjjfut-BoldText e5tfeyi3\">Dolev</b> are also thought to have been abducted in the same attack on Nir Oz. Eitan Cunio, Ariel\\'s brother who escaped Hamas, told the Jewish Chronicle that his last message from Ariel said: \"We are in a horror movie.\"</p><p class=\"ssrcss-1q0x1qg-Paragraph e1jhz7w10\"><b class=\"ssrcss-1xjjfut-BoldText e5tfeyi3\">David Cunio</b>, 33, another of Ariel\\'s brothers, was also kidnapped from Nir Oz, family say. David\\'s wife Sharon Aloni Cunio and their three-year-old twin daughters Ema and Yuly were released on 27 November. Sharon\\'s sister Daniele Aloni, and her six-year-old daughter Emilia were both released on 24 November.</p><p class=\"ssrcss-1q0x1qg-Paragraph e1jhz7w10\"><b class=\"ssrcss-1xjjfut-BoldText e5tfeyi3\">Doron Steinbrecher</b>, 30, a veterinary nurse, was in her apartment in Kibbutz Kfar Aza when Hamas attacked, the Times of Israel reported. At 10:30 on 7 October, the newspaper said, she sent a voice message to friends: \"They\\'ve arrived, they have me.\"</p></div></div></div></div><div class=\"ssrcss-1ocoo3l-Wrap e42f8511\"><div width=\"wide\" class=\"ssrcss-ahx90r-WrapWithWidth e42f8510\"><div data-component=\"image-block\" class=\"ssrcss-1pyuwv1-ComponentWrapper ep2nwvo1\"><figure class=\"ssrcss-8589xk-StyledFigure e34k3c23\"><div class=\"ssrcss-ab5fd8-StyledFigureContainer e34k3c21\"><span class=\"ssrcss-5zsoxt-Placeholder etlorgc0\"><span><noscript><picture><source srcset=\"https://ichef.bbci.co.uk/news/240/cpsprodpb/44DB/production/_131672671_2-doron.jpg.webp 240w, https://ichef.bbci.co.uk/news/320/cpsprodpb/44DB/production/_131672671_2-doron.jpg.webp 320w, https://ichef.bbci.co.uk/news/480/cpsprodpb/44DB/production/_131672671_2-doron.jpg.webp 480w, https://ichef.bbci.co.uk/news/624/cpsprodpb/44DB/production/_131672671_2-doron.jpg.webp 624w, https://ichef.bbci.co.uk/news/800/cpsprodpb/44DB/production/_131672671_2-doron.jpg.webp 800w, https://ichef.bbci.co.uk/news/976/cpsprodpb/44DB/production/_131672671_2-doron.jpg.webp 976w\" type=\"image/webp\"/><img alt=\"Doron Steinbrecher\" loading=\"lazy\" src=\"https://ichef.bbci.co.uk/news/1024/cpsprodpb/44DB/production/_131672671_2-doron.jpg\" srcset=\"https://ichef.bbci.co.uk/news/240/cpsprodpb/44DB/production/_131672671_2-doron.jpg 240w, https://ichef.bbci.co.uk/news/320/cpsprodpb/44DB/production/_131672671_2-doron.jpg 320w, https://ichef.bbci.co.uk/news/480/cpsprodpb/44DB/production/_131672671_2-doron.jpg 480w, https://ichef.bbci.co.uk/news/624/cpsprodpb/44DB/production/_131672671_2-doron.jpg 624w, https://ichef.bbci.co.uk/news/800/cpsprodpb/44DB/production/_131672671_2-doron.jpg 800w, https://ichef.bbci.co.uk/news/976/cpsprodpb/44DB/production/_131672671_2-doron.jpg 976w\" width=\"1024\" height=\"576\" class=\"ssrcss-11yxrdo-Image edrdn950\"/></picture></noscript></span></span><span role=\"text\" class=\"ssrcss-tvuve5-StyledFigureCopyright e34k3c20\"><span class=\"visually-hidden ssrcss-1f39n02-VisuallyHidden e16en2lz0\">Image source, </span>Family handout</span></div><figcaption class=\"ssrcss-1mget3o-StyledFigureCaption e34k3c22\"><span class=\"visually-hidden ssrcss-1f39n02-VisuallyHidden e16en2lz0\">Image caption, </span><div spacing=\"6\" class=\"ssrcss-y7krbn-Stack e1y4nx260\"><p class=\"ssrcss-1q0x1qg-Paragraph e1jhz7w10\">Doron Steinbrecher sent a voice message to friends during Hamas\\' attack</p></div></figcaption></figure></div></div></div><div class=\"ssrcss-1ocoo3l-Wrap e42f8511\"><div width=\"wide\" class=\"ssrcss-ahx90r-WrapWithWidth e42f8510\"><div data-component=\"text-block\" class=\"ssrcss-5rhf4g-RichTextComponentWrapper ep2nwvo0\"><div class=\"ssrcss-7uxr49-RichTextContainer e5tfeyi1\"><p class=\"ssrcss-1q0x1qg-Paragraph e1jhz7w10\"><b class=\"ssrcss-1xjjfut-BoldText e5tfeyi3\">Naama Levy</b>, 19, was filmed being bundled into a jeep, her hands tied behind her back. The footage was released by Hamas and circulated widely on social media. According to her mother, the teenager had just begun her military service. </p><p class=\"ssrcss-1q0x1qg-Paragraph e1jhz7w10\"><b class=\"ssrcss-1xjjfut-BoldText e5tfeyi3\">Yousef Zyadna</b>, a 53-year-old Bedouin dairy farmer, was abducted from Kibbutz Holit and taken to Gaza along with his sons <b class=\"ssrcss-1xjjfut-BoldText e5tfeyi3\">Hamza</b>, 22, and Bilal, 18, and his daughter, Aisha, 16. Aisha and Bilal were released on Thursday 30 November. </p><p class=\"ssrcss-1q0x1qg-Paragraph e1jhz7w10\"><b class=\"ssrcss-1xjjfut-BoldText e5tfeyi3\">Elad Katzir</b>, 47, was abducted from Nir Oz with his mother, Hanna. The IDF said it had recovered his body from Gaza on 6 April after he was \"murdered in captivity\" by Islamic Jihad. Hanna was released in November. </p><p class=\"ssrcss-1q0x1qg-Paragraph e1jhz7w10\"><b class=\"ssrcss-1xjjfut-BoldText e5tfeyi3\">Ohad Ben Ami</b>, 55, was kidnapped from Be\\'eri with his wife, Raz. She was released by Hamas on 29 November. </p><p class=\"ssrcss-1q0x1qg-Paragraph e1jhz7w10\">Twin brothers<b class=\"ssrcss-1xjjfut-BoldText e5tfeyi3\"> Gali and Ziv Berman</b>, 26, were taken from Kfar Aza. Ziv was messaging a friend as the attack happened. Their family said the IDF has told them the brothers are being held in Gaza. Their brother Liran told CBN news the pair had \"twin power\" and were the centre of attention wherever they went.</p><p class=\"ssrcss-1q0x1qg-Paragraph e1jhz7w10\">Iraq-born <b class=\"ssrcss-1xjjfut-BoldText e5tfeyi3\">Shlomo Mansour</b>, 85, was taken captive from Kibbutz Kissufim, where he lived and worked as a chicken coop manager. His wife, Mazal, managed to escape.</p><p class=\"ssrcss-1q0x1qg-Paragraph e1jhz7w10\"><b class=\"ssrcss-1xjjfut-BoldText e5tfeyi3\">Daniela Gilboa</b>, 19, sent messages saying that Kibbutz Nahal Oz, where she was staying, was under attack and asked her mother to pray for her. Her boyfriend, Roy Dadon, told the Economist 1843 magazine that he believes he saw a glimpse of her in a video showing three girls being driven away in the back of an SUV.</p><p class=\"ssrcss-1q0x1qg-Paragraph e1jhz7w10\"><b class=\"ssrcss-1xjjfut-BoldText e5tfeyi3\">Itay Chen</b>, 19, a dual US-Israeli citizen and IDF solider, was on active duty with a tank unit on 7 October, according to the Times of Israel. The paper reported that his family was notified by the IDF that he is officially considered missing in action and probably being held hostage. Another soldier in his unit, <b class=\"ssrcss-1xjjfut-BoldText e5tfeyi3\">Matan Angrest</b>, 21, is also presumed to be in Gaza.</p><p class=\"ssrcss-1q0x1qg-Paragraph e1jhz7w10\"><b class=\"ssrcss-1xjjfut-BoldText e5tfeyi3\">Yosi Sharabi</b>, 51, was taken from Be\\'eri with his brother, <b class=\"ssrcss-1xjjfut-BoldText e5tfeyi3\">Eli Sharabi</b>, 55. Eli\\'s <a href=\"https://www.bbc.co.uk/news/uk-67188397\" class=\"ssrcss-f6h2dj-InlineLink e1kn3p7n0\">wife and two daughters were murdered</a> in the attack. Ofir Engel, the boyfriend of Yosi\\'s daughter, Yuval, was also taken, but released on 29 November.</p><p class=\"ssrcss-1q0x1qg-Paragraph e1jhz7w10\"><b class=\"ssrcss-1xjjfut-BoldText e5tfeyi3\">Agam Berger</b>, 19, was kidnapped from Nahal Oz. She was seen being taken away in videos released by Hamas.</p><p class=\"ssrcss-1q0x1qg-Paragraph e1jhz7w10\"><b class=\"ssrcss-1xjjfut-BoldText e5tfeyi3\">Edan Alexander</b>, 19, is an Israeli-US citizen who volunteered to join the Israeli army. He was serving near the Gaza border at the time of Hamas\\'s attack. Edan\\'s family said they had been told by Israeli officials that he had been taken to Gaza as a hostage.</p><p class=\"ssrcss-1q0x1qg-Paragraph e1jhz7w10\"><b class=\"ssrcss-1xjjfut-BoldText e5tfeyi3\">Kaid Farhan Elkadi</b>, 53, lives with his family south of Rahat and worked as a security guard, according to Israeli media. Reports said his family believes he was kidnapped and taken to Gaza, based on images shared by Hamas.</p></div></div></div></div><div class=\"ssrcss-1ocoo3l-Wrap e42f8511\"><div width=\"wide\" class=\"ssrcss-ahx90r-WrapWithWidth e42f8510\"><div data-component=\"image-block\" class=\"ssrcss-1pyuwv1-ComponentWrapper ep2nwvo1\"><figure class=\"ssrcss-8589xk-StyledFigure e34k3c23\"><div class=\"ssrcss-ab5fd8-StyledFigureContainer e34k3c21\"><span class=\"ssrcss-1sq7g6q-Placeholder etlorgc0\"><span><noscript><picture><source srcset=\"https://ichef.bbci.co.uk/news/240/cpsprodpb/5B14/production/_131661332_2-ilana.jpg.webp 240w, https://ichef.bbci.co.uk/news/320/cpsprodpb/5B14/production/_131661332_2-ilana.jpg.webp 320w, https://ichef.bbci.co.uk/news/480/cpsprodpb/5B14/production/_131661332_2-ilana.jpg.webp 480w, https://ichef.bbci.co.uk/news/624/cpsprodpb/5B14/production/_131661332_2-ilana.jpg.webp 624w, https://ichef.bbci.co.uk/news/800/cpsprodpb/5B14/production/_131661332_2-ilana.jpg.webp 800w, https://ichef.bbci.co.uk/news/976/cpsprodpb/5B14/production/_131661332_2-ilana.jpg.webp 976w\" type=\"image/webp\"/><img alt=\"Ilana Gritzewsky and Matan Zanguaker\" loading=\"lazy\" src=\"https://ichef.bbci.co.uk/news/999/cpsprodpb/5B14/production/_131661332_2-ilana.jpg\" srcset=\"https://ichef.bbci.co.uk/news/240/cpsprodpb/5B14/production/_131661332_2-ilana.jpg 240w, https://ichef.bbci.co.uk/news/320/cpsprodpb/5B14/production/_131661332_2-ilana.jpg 320w, https://ichef.bbci.co.uk/news/480/cpsprodpb/5B14/production/_131661332_2-ilana.jpg 480w, https://ichef.bbci.co.uk/news/624/cpsprodpb/5B14/production/_131661332_2-ilana.jpg 624w, https://ichef.bbci.co.uk/news/800/cpsprodpb/5B14/production/_131661332_2-ilana.jpg 800w, https://ichef.bbci.co.uk/news/976/cpsprodpb/5B14/production/_131661332_2-ilana.jpg 976w\" width=\"999\" height=\"625.374\" class=\"ssrcss-11yxrdo-Image edrdn950\"/></picture></noscript></span></span><span role=\"text\" class=\"ssrcss-tvuve5-StyledFigureCopyright e34k3c20\"><span class=\"visually-hidden ssrcss-1f39n02-VisuallyHidden e16en2lz0\">Image source, </span>Family handout</span></div><figcaption class=\"ssrcss-1mget3o-StyledFigureCaption e34k3c22\"><span class=\"visually-hidden ssrcss-1f39n02-VisuallyHidden e16en2lz0\">Image caption, </span><div spacing=\"6\" class=\"ssrcss-y7krbn-Stack e1y4nx260\"><p class=\"ssrcss-1q0x1qg-Paragraph e1jhz7w10\">Ilana Gritzewsky and Matan Zanguaker were captured near the Gaza border, family say</p></div></figcaption></figure></div></div></div><div class=\"ssrcss-1ocoo3l-Wrap e42f8511\"><div width=\"wide\" class=\"ssrcss-ahx90r-WrapWithWidth e42f8510\"><div data-component=\"text-block\" class=\"ssrcss-5rhf4g-RichTextComponentWrapper ep2nwvo0\"><div class=\"ssrcss-7uxr49-RichTextContainer e5tfeyi1\"><p class=\"ssrcss-1q0x1qg-Paragraph e1jhz7w10\"><b class=\"ssrcss-1xjjfut-BoldText e5tfeyi3\">Matan Zanguaker</b>, 24, was taken with his partner Ilana Gritzewsky, 30, from Nir Oz, <a href=\"https://mexiconewsdaily.com/news/2-mexicans-held-hostage-by-hamas-in-gaza/\" class=\"ssrcss-f6h2dj-InlineLink e1kn3p7n0\">according to Ilana\\'s father<span class=\"visually-hidden ssrcss-1f39n02-VisuallyHidden e16en2lz0\">, <!-- -->external</span></a>. Ilana, a Mexican national, was released on Thursday 30 November. </p></div></div><div id=\"piano-inline1\"/></div></div><div class=\"ssrcss-1ocoo3l-Wrap e42f8511\"><div width=\"wide\" class=\"ssrcss-ahx90r-WrapWithWidth e42f8510\"><div data-component=\"image-block\" class=\"ssrcss-1pyuwv1-ComponentWrapper ep2nwvo1\"><figure class=\"ssrcss-8589xk-StyledFigure e34k3c23\"><div class=\"ssrcss-ab5fd8-StyledFigureContainer e34k3c21\"><span class=\"ssrcss-1uyknzj-Placeholder etlorgc0\"><span><noscript><picture><source srcset=\"https://ichef.bbci.co.uk/news/240/cpsprodpb/1418C/production/_131661328_horn-yair.jpg.webp 240w, https://ichef.bbci.co.uk/news/320/cpsprodpb/1418C/production/_131661328_horn-yair.jpg.webp 320w, https://ichef.bbci.co.uk/news/480/cpsprodpb/1418C/production/_131661328_horn-yair.jpg.webp 480w, https://ichef.bbci.co.uk/news/624/cpsprodpb/1418C/production/_131661328_horn-yair.jpg.webp 624w, https://ichef.bbci.co.uk/news/800/cpsprodpb/1418C/production/_131661328_horn-yair.jpg.webp 800w, https://ichef.bbci.co.uk/news/976/cpsprodpb/1418C/production/_131661328_horn-yair.jpg.webp 976w\" type=\"image/webp\"/><img alt=\"Eitan and Yair Horn\" loading=\"lazy\" src=\"https://ichef.bbci.co.uk/news/1024/cpsprodpb/1418C/production/_131661328_horn-yair.jpg\" srcset=\"https://ichef.bbci.co.uk/news/240/cpsprodpb/1418C/production/_131661328_horn-yair.jpg 240w, https://ichef.bbci.co.uk/news/320/cpsprodpb/1418C/production/_131661328_horn-yair.jpg 320w, https://ichef.bbci.co.uk/news/480/cpsprodpb/1418C/production/_131661328_horn-yair.jpg 480w, https://ichef.bbci.co.uk/news/624/cpsprodpb/1418C/production/_131661328_horn-yair.jpg 624w, https://ichef.bbci.co.uk/news/800/cpsprodpb/1418C/production/_131661328_horn-yair.jpg 800w, https://ichef.bbci.co.uk/news/976/cpsprodpb/1418C/production/_131661328_horn-yair.jpg 976w\" width=\"1024\" height=\"577\" class=\"ssrcss-11yxrdo-Image edrdn950\"/></picture></noscript></span></span><span role=\"text\" class=\"ssrcss-tvuve5-StyledFigureCopyright e34k3c20\"><span class=\"visually-hidden ssrcss-1f39n02-VisuallyHidden e16en2lz0\">Image source, </span>Family handout</span></div><figcaption class=\"ssrcss-1mget3o-StyledFigureCaption e34k3c22\"><span class=\"visually-hidden ssrcss-1f39n02-VisuallyHidden e16en2lz0\">Image caption, </span><div spacing=\"6\" class=\"ssrcss-y7krbn-Stack e1y4nx260\"><p class=\"ssrcss-1q0x1qg-Paragraph e1jhz7w10\">The family of Eitan and Yair Horn believe they were taken from Nir Oz kibbutz</p></div></figcaption></figure></div></div></div><div class=\"ssrcss-1ocoo3l-Wrap e42f8511\"><div width=\"wide\" class=\"ssrcss-ahx90r-WrapWithWidth e42f8510\"><div data-component=\"text-block\" class=\"ssrcss-5rhf4g-RichTextComponentWrapper ep2nwvo0\"><div class=\"ssrcss-7uxr49-RichTextContainer e5tfeyi1\"><p class=\"ssrcss-1q0x1qg-Paragraph e1jhz7w10\"><b class=\"ssrcss-1xjjfut-BoldText e5tfeyi3\">Eitan Horn</b>, 37, and his brother<b class=\"ssrcss-1xjjfut-BoldText e5tfeyi3\"> Yair</b>, 45, both Argentinian citizens, were also in Nir Oz at the time of the attack. Their father Itzik said he believes they were kidnapped. Yair is a construction worker while Eitan works in education. </p><p class=\"ssrcss-1q0x1qg-Paragraph e1jhz7w10\"><b class=\"ssrcss-1xjjfut-BoldText e5tfeyi3\">Itai Svirsky</b>, 38, is thought to have been abducted when his elderly parents were killed in Be\\'eri. He had been visiting them for the holiday of Simhat Torah.</p><p class=\"ssrcss-1q0x1qg-Paragraph e1jhz7w10\"><b class=\"ssrcss-1xjjfut-BoldText e5tfeyi3\">Keith Seigel</b>, 64, and his wife Adrienne - often known as Aviva - Seigel, 62, were taken from their home in Kfar Aza, Keith\\'s brother Lee Seigel told the BBC. Adrienne was released on 26 November. </p><p class=\"ssrcss-1q0x1qg-Paragraph e1jhz7w10\"><b class=\"ssrcss-1xjjfut-BoldText e5tfeyi3\">Omri Miran</b>, 46, lived in Nahal Oz with his wife and two daughters. Omri was led away by Hamas with his hands tied, his wife Lishay told the Guardian newspaper. She told him not to be a hero, urging: \"Do whatever they want because I want you back.\"</p></div></div></div></div><div class=\"ssrcss-1ocoo3l-Wrap e42f8511\"><div width=\"wide\" class=\"ssrcss-ahx90r-WrapWithWidth e42f8510\"><div data-component=\"image-block\" class=\"ssrcss-1pyuwv1-ComponentWrapper ep2nwvo1\"><figure class=\"ssrcss-8589xk-StyledFigure e34k3c23\"><div class=\"ssrcss-ab5fd8-StyledFigureContainer e34k3c21\"><span class=\"ssrcss-5zsoxt-Placeholder etlorgc0\"><span><noscript><picture><source srcset=\"https://ichef.bbci.co.uk/news/240/cpsprodpb/15CE5/production/_131671398_image-4.png.webp 240w, https://ichef.bbci.co.uk/news/320/cpsprodpb/15CE5/production/_131671398_image-4.png.webp 320w, https://ichef.bbci.co.uk/news/480/cpsprodpb/15CE5/production/_131671398_image-4.png.webp 480w, https://ichef.bbci.co.uk/news/624/cpsprodpb/15CE5/production/_131671398_image-4.png.webp 624w, https://ichef.bbci.co.uk/news/800/cpsprodpb/15CE5/production/_131671398_image-4.png.webp 800w, https://ichef.bbci.co.uk/news/976/cpsprodpb/15CE5/production/_131671398_image-4.png.webp 976w\" type=\"image/webp\"/><img alt=\"Bipin Joshi\" loading=\"lazy\" src=\"https://ichef.bbci.co.uk/news/976/cpsprodpb/15CE5/production/_131671398_image-4.png\" srcset=\"https://ichef.bbci.co.uk/news/240/cpsprodpb/15CE5/production/_131671398_image-4.png 240w, https://ichef.bbci.co.uk/news/320/cpsprodpb/15CE5/production/_131671398_image-4.png 320w, https://ichef.bbci.co.uk/news/480/cpsprodpb/15CE5/production/_131671398_image-4.png 480w, https://ichef.bbci.co.uk/news/624/cpsprodpb/15CE5/production/_131671398_image-4.png 624w, https://ichef.bbci.co.uk/news/800/cpsprodpb/15CE5/production/_131671398_image-4.png 800w, https://ichef.bbci.co.uk/news/976/cpsprodpb/15CE5/production/_131671398_image-4.png 976w\" width=\"976\" height=\"549\" class=\"ssrcss-11yxrdo-Image edrdn950\"/></picture></noscript></span></span><span role=\"text\" class=\"ssrcss-tvuve5-StyledFigureCopyright e34k3c20\"><span class=\"visually-hidden ssrcss-1f39n02-VisuallyHidden e16en2lz0\">Image source, </span>Family handout</span></div><figcaption class=\"ssrcss-1mget3o-StyledFigureCaption e34k3c22\"><span class=\"visually-hidden ssrcss-1f39n02-VisuallyHidden e16en2lz0\">Image caption, </span><div spacing=\"6\" class=\"ssrcss-y7krbn-Stack e1y4nx260\"><p class=\"ssrcss-1q0x1qg-Paragraph e1jhz7w10\">Bipin Joshi was studying agriculture in Israel</p></div></figcaption></figure></div></div></div><div class=\"ssrcss-1ocoo3l-Wrap e42f8511\"><div width=\"wide\" class=\"ssrcss-ahx90r-WrapWithWidth e42f8510\"><div data-component=\"text-block\" class=\"ssrcss-5rhf4g-RichTextComponentWrapper ep2nwvo0\"><div class=\"ssrcss-7uxr49-RichTextContainer e5tfeyi1\"><p class=\"ssrcss-1q0x1qg-Paragraph e1jhz7w10\"><b class=\"ssrcss-1xjjfut-BoldText e5tfeyi3\">Bipin Joshi,</b> 23, a Nepalese student, is believed to have been taken from Kibbutz Alumim. Nepalese newspaper Setopati says he was one of 49 university students studying agriculture in Israel. It says 10 students were killed in the attack.</p><p class=\"ssrcss-1q0x1qg-Paragraph e1jhz7w10\"><b class=\"ssrcss-1xjjfut-BoldText e5tfeyi3\">Ilan Weiss</b>, 58, went missing from Kibbutz Be\\'eri after he was last seen leaving the house to defend the community. On 25 November, his wife Shiri Weiss, 53, and their daughter, Noga, 18, were freed from captivity in a hostage deal.</p><p class=\"ssrcss-1q0x1qg-Paragraph e1jhz7w10\"><b class=\"ssrcss-1xjjfut-BoldText e5tfeyi3\">Amiram Cooper</b>, 85, and his wife Nurit, 80, were taken from their home in Nir Oz, their daughter-in-law Noa told the BBC. The family last spoke to the couple during the Hamas attack, Noa said, when the couple were in their safe room. The family later traced Amiram\\'s phone to Gaza. On Monday 23 October, Nurit was one of two women to be released.</p></div></div></div></div><div class=\"ssrcss-1ocoo3l-Wrap e42f8511\"><div width=\"wide\" class=\"ssrcss-ahx90r-WrapWithWidth e42f8510\"><div data-component=\"image-block\" class=\"ssrcss-1pyuwv1-ComponentWrapper ep2nwvo1\"><figure class=\"ssrcss-8589xk-StyledFigure e34k3c23\"><div class=\"ssrcss-ab5fd8-StyledFigureContainer e34k3c21\"><span class=\"ssrcss-5zsoxt-Placeholder etlorgc0\"><span><noscript><picture><source srcset=\"https://ichef.bbci.co.uk/news/240/cpsprodpb/8AAD/production/_131410553_6a3adeea-4004-4ca0-bcc6-aa1a1f6df7d1.jpg.webp 240w, https://ichef.bbci.co.uk/news/320/cpsprodpb/8AAD/production/_131410553_6a3adeea-4004-4ca0-bcc6-aa1a1f6df7d1.jpg.webp 320w, https://ichef.bbci.co.uk/news/480/cpsprodpb/8AAD/production/_131410553_6a3adeea-4004-4ca0-bcc6-aa1a1f6df7d1.jpg.webp 480w, https://ichef.bbci.co.uk/news/624/cpsprodpb/8AAD/production/_131410553_6a3adeea-4004-4ca0-bcc6-aa1a1f6df7d1.jpg.webp 624w, https://ichef.bbci.co.uk/news/800/cpsprodpb/8AAD/production/_131410553_6a3adeea-4004-4ca0-bcc6-aa1a1f6df7d1.jpg.webp 800w, https://ichef.bbci.co.uk/news/976/cpsprodpb/8AAD/production/_131410553_6a3adeea-4004-4ca0-bcc6-aa1a1f6df7d1.jpg.webp 976w\" type=\"image/webp\"/><img alt=\"Amiram and Nurit Cooper, pictured with their granddaughter, Gali\" loading=\"lazy\" src=\"https://ichef.bbci.co.uk/news/976/cpsprodpb/8AAD/production/_131410553_6a3adeea-4004-4ca0-bcc6-aa1a1f6df7d1.jpg\" srcset=\"https://ichef.bbci.co.uk/news/240/cpsprodpb/8AAD/production/_131410553_6a3adeea-4004-4ca0-bcc6-aa1a1f6df7d1.jpg 240w, https://ichef.bbci.co.uk/news/320/cpsprodpb/8AAD/production/_131410553_6a3adeea-4004-4ca0-bcc6-aa1a1f6df7d1.jpg 320w, https://ichef.bbci.co.uk/news/480/cpsprodpb/8AAD/production/_131410553_6a3adeea-4004-4ca0-bcc6-aa1a1f6df7d1.jpg 480w, https://ichef.bbci.co.uk/news/624/cpsprodpb/8AAD/production/_131410553_6a3adeea-4004-4ca0-bcc6-aa1a1f6df7d1.jpg 624w, https://ichef.bbci.co.uk/news/800/cpsprodpb/8AAD/production/_131410553_6a3adeea-4004-4ca0-bcc6-aa1a1f6df7d1.jpg 800w, https://ichef.bbci.co.uk/news/976/cpsprodpb/8AAD/production/_131410553_6a3adeea-4004-4ca0-bcc6-aa1a1f6df7d1.jpg 976w\" width=\"976\" height=\"549\" class=\"ssrcss-11yxrdo-Image edrdn950\"/></picture></noscript></span></span><span role=\"text\" class=\"ssrcss-tvuve5-StyledFigureCopyright e34k3c20\"><span class=\"visually-hidden ssrcss-1f39n02-VisuallyHidden e16en2lz0\">Image source, </span>Lotan Cooper</span></div><figcaption class=\"ssrcss-1mget3o-StyledFigureCaption e34k3c22\"><span class=\"visually-hidden ssrcss-1f39n02-VisuallyHidden e16en2lz0\">Image caption, </span><div spacing=\"6\" class=\"ssrcss-y7krbn-Stack e1y4nx260\"><p class=\"ssrcss-1q0x1qg-Paragraph e1jhz7w10\">Amiram and Nurit Cooper, pictured with their granddaughter, Gali</p></div></figcaption></figure></div></div></div><div class=\"ssrcss-1ocoo3l-Wrap e42f8511\"><div width=\"wide\" class=\"ssrcss-ahx90r-WrapWithWidth e42f8510\"><div data-component=\"text-block\" class=\"ssrcss-5rhf4g-RichTextComponentWrapper ep2nwvo0\"><div class=\"ssrcss-7uxr49-RichTextContainer e5tfeyi1\"><p class=\"ssrcss-1q0x1qg-Paragraph e1jhz7w10\"><b class=\"ssrcss-1xjjfut-BoldText e5tfeyi3\">Oded Lifshitz</b>, 83, and his wife Yocheved, 85 were taken hostage from Nir Oz. On Monday 23 October, Yocheved was one of two elderly women to be freed. After hearing the news of her mother\\'s release, their daughter Sharone - a London-based artist - said: \"While I cannot put into words the relief that she is now safe, I will remain focused on securing the release of my father and all those - some 200 innocent people - who remain hostages in Gaza.\"</p><p class=\"ssrcss-1q0x1qg-Paragraph e1jhz7w10\"><b class=\"ssrcss-1xjjfut-BoldText e5tfeyi3\">Haim Peri, </b>79, was taken from his home in Nir Oz, <a href=\"https://www.timesofisrael.com/taken-captive-chaim-peri-film-lecturer-and-activist/\" class=\"ssrcss-f6h2dj-InlineLink e1kn3p7n0\">reports the Times of Israel<span class=\"visually-hidden ssrcss-1f39n02-VisuallyHidden e16en2lz0\">, <!-- -->external</span></a>, and freed hostage <a href=\"https://www.bbc.co.uk/news/world-middle-east-67204479\" class=\"ssrcss-f6h2dj-InlineLink e1kn3p7n0\">Yocheved Lifshitz</a> said she saw that he was alive and well. His son Lior Peri told <a href=\"https://www.facebook.com/liorperi666/posts/pfbid02Ux2xeorjrrcke5d5EkBxcGzTF82hwSkDWrv9rL1AGmuNuFioJhmb46wMBHjNgHMfl\" class=\"ssrcss-f6h2dj-InlineLink e1kn3p7n0\">Talk TV<span class=\"visually-hidden ssrcss-1f39n02-VisuallyHidden e16en2lz0\">, <!-- -->external</span></a> that Haim had locked his wife inside the safe room before giving himself up to kidnappers. </p><p class=\"ssrcss-1q0x1qg-Paragraph e1jhz7w10\"><b class=\"ssrcss-1xjjfut-BoldText e5tfeyi3\">Avraham Munder</b>, 78, was kidnapped from Nir Oz, <a href=\"https://twitter.com/IsraelinBoston/status/1716469274972139836?ref_src=twsrc%5Etfw%7Ctwcamp%5Etweetembed%7Ctwterm%5E1716469274972139836%7Ctwgr%5E9ddf5c8e84275e136b7fca83d27cccfb868977e3%7Ctwcon%5Es1_&amp;ref_url=https%3A%2F%2Fwww.thejc.com%2Fnews%2Fisrael%2Ffamily-and-friends-of-israeli-child-express-horror-of-him-spending-ninth-birthday-as-hamas-hostage-6oqhcw1VkaEQpICH575hmG\" class=\"ssrcss-f6h2dj-InlineLink e1kn3p7n0\">Israeli officials say<span class=\"visually-hidden ssrcss-1f39n02-VisuallyHidden e16en2lz0\">, <!-- -->external</span></a>. His wife Ruthi, daughter and grandson have since been released.</p><p class=\"ssrcss-1q0x1qg-Paragraph e1jhz7w10\"><b class=\"ssrcss-1xjjfut-BoldText e5tfeyi3\">Omer Neutra</b>, a 22-year-old Israeli-American and grandson of Holocaust survivors, put off plans to go to college in the US to study in Israel, and eventually joined the IDF. He was serving as a tank commander near Gaza when Hamas attacked. Omer\\'s parents say they were told by the Israeli embassy that he had been kidnapped.</p><p class=\"ssrcss-1q0x1qg-Paragraph e1jhz7w10\"><b class=\"ssrcss-1xjjfut-BoldText e5tfeyi3\">Alex Danzig, </b>75, a scholar and historian of the Holocaust, was at his home in Nir Oz, when it was attacked by Hamas. \"We know for sure he was kidnapped,\" his son Mati <a href=\"https://www.bbc.co.uk/news/world-middle-east-67135168\" class=\"ssrcss-f6h2dj-InlineLink e1kn3p7n0\">told the BBC</a>. Alex - whose older sister Edith is a Holocaust survivor - has spent the last 30 years working for Yad Vashem, Israel\\'s Holocaust remembrance centre. His disappearance has triggered a campaign for his release, both in Israel and in Poland, the country of his birth.</p></div></div></div></div><div class=\"ssrcss-1ocoo3l-Wrap e42f8511\"><div width=\"wide\" class=\"ssrcss-ahx90r-WrapWithWidth e42f8510\"><div data-component=\"image-block\" class=\"ssrcss-1pyuwv1-ComponentWrapper ep2nwvo1\"><figure class=\"ssrcss-8589xk-StyledFigure e34k3c23\"><div class=\"ssrcss-ab5fd8-StyledFigureContainer e34k3c21\"><span class=\"ssrcss-5zsoxt-Placeholder etlorgc0\"><span><noscript><picture><source srcset=\"https://ichef.bbci.co.uk/news/240/cpsprodpb/D2A6/production/_131462935_whatsappimage2023-10-17at20.00.45_bafac962.jpg.webp 240w, https://ichef.bbci.co.uk/news/320/cpsprodpb/D2A6/production/_131462935_whatsappimage2023-10-17at20.00.45_bafac962.jpg.webp 320w, https://ichef.bbci.co.uk/news/480/cpsprodpb/D2A6/production/_131462935_whatsappimage2023-10-17at20.00.45_bafac962.jpg.webp 480w, https://ichef.bbci.co.uk/news/624/cpsprodpb/D2A6/production/_131462935_whatsappimage2023-10-17at20.00.45_bafac962.jpg.webp 624w, https://ichef.bbci.co.uk/news/800/cpsprodpb/D2A6/production/_131462935_whatsappimage2023-10-17at20.00.45_bafac962.jpg.webp 800w, https://ichef.bbci.co.uk/news/976/cpsprodpb/D2A6/production/_131462935_whatsappimage2023-10-17at20.00.45_bafac962.jpg.webp 976w\" type=\"image/webp\"/><img alt=\"Alex Danzig lecturing\" loading=\"lazy\" src=\"https://ichef.bbci.co.uk/news/976/cpsprodpb/D2A6/production/_131462935_whatsappimage2023-10-17at20.00.45_bafac962.jpg\" srcset=\"https://ichef.bbci.co.uk/news/240/cpsprodpb/D2A6/production/_131462935_whatsappimage2023-10-17at20.00.45_bafac962.jpg 240w, https://ichef.bbci.co.uk/news/320/cpsprodpb/D2A6/production/_131462935_whatsappimage2023-10-17at20.00.45_bafac962.jpg 320w, https://ichef.bbci.co.uk/news/480/cpsprodpb/D2A6/production/_131462935_whatsappimage2023-10-17at20.00.45_bafac962.jpg 480w, https://ichef.bbci.co.uk/news/624/cpsprodpb/D2A6/production/_131462935_whatsappimage2023-10-17at20.00.45_bafac962.jpg 624w, https://ichef.bbci.co.uk/news/800/cpsprodpb/D2A6/production/_131462935_whatsappimage2023-10-17at20.00.45_bafac962.jpg 800w, https://ichef.bbci.co.uk/news/976/cpsprodpb/D2A6/production/_131462935_whatsappimage2023-10-17at20.00.45_bafac962.jpg 976w\" width=\"976\" height=\"549\" class=\"ssrcss-11yxrdo-Image edrdn950\"/></picture></noscript></span></span><span role=\"text\" class=\"ssrcss-tvuve5-StyledFigureCopyright e34k3c20\"><span class=\"visually-hidden ssrcss-1f39n02-VisuallyHidden e16en2lz0\">Image source, </span>Mati Danzig</span></div><figcaption class=\"ssrcss-1mget3o-StyledFigureCaption e34k3c22\"><span class=\"visually-hidden ssrcss-1f39n02-VisuallyHidden e16en2lz0\">Image caption, </span><div spacing=\"6\" class=\"ssrcss-y7krbn-Stack e1y4nx260\"><p class=\"ssrcss-1q0x1qg-Paragraph e1jhz7w10\">Alex Danzig has spent decades educating people about the Holocaust</p></div></figcaption></figure></div></div></div><div class=\"ssrcss-1ocoo3l-Wrap e42f8511\"><div width=\"wide\" class=\"ssrcss-ahx90r-WrapWithWidth e42f8510\"><div data-component=\"text-block\" class=\"ssrcss-5rhf4g-RichTextComponentWrapper ep2nwvo0\"><div class=\"ssrcss-7uxr49-RichTextContainer e5tfeyi1\"><p class=\"ssrcss-1q0x1qg-Paragraph e1jhz7w10\"><b class=\"ssrcss-1xjjfut-BoldText e5tfeyi3\">Itzhk Elgarat, </b>68, was kidnapped at the same time as Alex Danzig, his brother Danny Elgert told Israel\\'s Kan 11 TV station, adding that he had tracked his brother\\'s phone to the border with Gaza.</p><p class=\"ssrcss-1q0x1qg-Paragraph e1jhz7w10\"><b class=\"ssrcss-1xjjfut-BoldText e5tfeyi3\">Gadi Moses</b>, 79, was also abducted during the same attack on Nir Oz, according to relatives and the Israeli aid agency where he worked as an agricultural expert. Efrat Katz, his partner, was initially thought to have been captured as well, but she was later found dead, the Times of Israel reported. Efrat was the mother of Doron Asher, who was taken hostage and later released with her two daughters. Ravid Katz, 51, Doron Asher\\'s brother, was originally thought to have been taken hostage from Nir Oz, but on 28 November his family confirmed that he had been killed on 7 October.</p><p class=\"ssrcss-1q0x1qg-Paragraph e1jhz7w10\"><b class=\"ssrcss-1xjjfut-BoldText e5tfeyi3\">Nimrod Cohen</b>, 19, had studied software engineering in high school, according to reports. After he was kidnapped, his father was invited to meet Pope Francis in Rome along with other hostages\\' families.</p><p class=\"ssrcss-1q0x1qg-Paragraph e1jhz7w10\"><b class=\"ssrcss-1xjjfut-BoldText e5tfeyi3\">Tsachi Idan, </b>51, was last seen by his wife, Gali, as he was taken away by Hamas gunmen. Their family had been ambushed in their safe room in Nahal Oz. Their ordeal was live-streamed by Hamas. Their eldest child, Maayan - who had just turned 18 - was shot dead, Gali told the BBC.  </p></div></div></div></div><div class=\"ssrcss-1ocoo3l-Wrap e42f8511\"><div width=\"wide\" class=\"ssrcss-ahx90r-WrapWithWidth e42f8510\"><div data-component=\"image-block\" class=\"ssrcss-1pyuwv1-ComponentWrapper ep2nwvo1\"><figure class=\"ssrcss-8589xk-StyledFigure e34k3c23\"><div class=\"ssrcss-ab5fd8-StyledFigureContainer e34k3c21\"><span class=\"ssrcss-5zsoxt-Placeholder etlorgc0\"><span><noscript><picture><source srcset=\"https://ichef.bbci.co.uk/news/240/cpsprodpb/14EA6/production/_131507658_tsachibestprofile.jpg.webp 240w, https://ichef.bbci.co.uk/news/320/cpsprodpb/14EA6/production/_131507658_tsachibestprofile.jpg.webp 320w, https://ichef.bbci.co.uk/news/480/cpsprodpb/14EA6/production/_131507658_tsachibestprofile.jpg.webp 480w, https://ichef.bbci.co.uk/news/624/cpsprodpb/14EA6/production/_131507658_tsachibestprofile.jpg.webp 624w, https://ichef.bbci.co.uk/news/800/cpsprodpb/14EA6/production/_131507658_tsachibestprofile.jpg.webp 800w, https://ichef.bbci.co.uk/news/976/cpsprodpb/14EA6/production/_131507658_tsachibestprofile.jpg.webp 976w\" type=\"image/webp\"/><img alt=\"Tsachi Idan\" loading=\"lazy\" src=\"https://ichef.bbci.co.uk/news/976/cpsprodpb/14EA6/production/_131507658_tsachibestprofile.jpg\" srcset=\"https://ichef.bbci.co.uk/news/240/cpsprodpb/14EA6/production/_131507658_tsachibestprofile.jpg 240w, https://ichef.bbci.co.uk/news/320/cpsprodpb/14EA6/production/_131507658_tsachibestprofile.jpg 320w, https://ichef.bbci.co.uk/news/480/cpsprodpb/14EA6/production/_131507658_tsachibestprofile.jpg 480w, https://ichef.bbci.co.uk/news/624/cpsprodpb/14EA6/production/_131507658_tsachibestprofile.jpg 624w, https://ichef.bbci.co.uk/news/800/cpsprodpb/14EA6/production/_131507658_tsachibestprofile.jpg 800w, https://ichef.bbci.co.uk/news/976/cpsprodpb/14EA6/production/_131507658_tsachibestprofile.jpg 976w\" width=\"976\" height=\"549\" class=\"ssrcss-11yxrdo-Image edrdn950\"/></picture></noscript></span></span><span role=\"text\" class=\"ssrcss-tvuve5-StyledFigureCopyright e34k3c20\"><span class=\"visually-hidden ssrcss-1f39n02-VisuallyHidden e16en2lz0\">Image source, </span>Family handout</span></div><figcaption class=\"ssrcss-1mget3o-StyledFigureCaption e34k3c22\"><span class=\"visually-hidden ssrcss-1f39n02-VisuallyHidden e16en2lz0\">Image caption, </span><div spacing=\"6\" class=\"ssrcss-y7krbn-Stack e1y4nx260\"><p class=\"ssrcss-1q0x1qg-Paragraph e1jhz7w10\">Tsachi Idan was ambushed with his wife and children and then led away</p></div></figcaption></figure></div></div></div><div class=\"ssrcss-1ocoo3l-Wrap e42f8511\"><div width=\"wide\" class=\"ssrcss-ahx90r-WrapWithWidth e42f8510\"><div data-component=\"text-block\" class=\"ssrcss-5rhf4g-RichTextComponentWrapper ep2nwvo0\"><div class=\"ssrcss-7uxr49-RichTextContainer e5tfeyi1\"><p class=\"ssrcss-1q0x1qg-Paragraph e1jhz7w10\"><b class=\"ssrcss-1xjjfut-BoldText e5tfeyi3\">Yarden Bibas, </b>34, was <a href=\"https://www.bbc.co.uk/news/world-middle-east-67064742\" class=\"ssrcss-f6h2dj-InlineLink e1kn3p7n0\">abducted from Nir Oz</a>. His wife, Shiri, and their two young children, Ariel and Kfir, were also taken hostage, but on 29 November, Hamas claimed they had been killed in an Israeli air strike while in captivity. The Israeli government has said it is checking the claim. </p><p class=\"ssrcss-1q0x1qg-Paragraph e1jhz7w10\"><b class=\"ssrcss-1xjjfut-BoldText e5tfeyi3\">Ronen Engel</b>, 54, was taken from Kibbutz Nir Oz along with his wife, Karina Engelbert, 51, and their two daughters, Mika, 18 and Yuval, 11. On 1 December, the organisation representing the families said he had been murdered. Karina, Mika and Yuval were released on 27 November.</p><p class=\"ssrcss-1q0x1qg-Paragraph e1jhz7w10\"><b class=\"ssrcss-1xjjfut-BoldText e5tfeyi3\">Karina Ariev</b>, a 19-year-old soldier, was serving at an army base near Gaza when she was kidnapped. Her sister Alexandra told the BBC she heard shooting as Karina called her during the attack, and later saw a video showing Karina being taken away in a vehicle.</p></div></div></div></div><div class=\"ssrcss-1ocoo3l-Wrap e42f8511\"><div width=\"wide\" class=\"ssrcss-ahx90r-WrapWithWidth e42f8510\"><div data-component=\"image-block\" class=\"ssrcss-1pyuwv1-ComponentWrapper ep2nwvo1\"><figure class=\"ssrcss-8589xk-StyledFigure e34k3c23\"><div class=\"ssrcss-ab5fd8-StyledFigureContainer e34k3c21\"><span class=\"ssrcss-5zsoxt-Placeholder etlorgc0\"><span><noscript><picture><source srcset=\"https://ichef.bbci.co.uk/news/240/cpsprodpb/173D4/production/_131488159_karinaaviev.jpg.webp 240w, https://ichef.bbci.co.uk/news/320/cpsprodpb/173D4/production/_131488159_karinaaviev.jpg.webp 320w, https://ichef.bbci.co.uk/news/480/cpsprodpb/173D4/production/_131488159_karinaaviev.jpg.webp 480w, https://ichef.bbci.co.uk/news/624/cpsprodpb/173D4/production/_131488159_karinaaviev.jpg.webp 624w, https://ichef.bbci.co.uk/news/800/cpsprodpb/173D4/production/_131488159_karinaaviev.jpg.webp 800w, https://ichef.bbci.co.uk/news/976/cpsprodpb/173D4/production/_131488159_karinaaviev.jpg.webp 976w\" type=\"image/webp\"/><img alt=\"A family photo of Karina Ariev, kidnapped from an Israeli military base near Gaza\" loading=\"lazy\" src=\"https://ichef.bbci.co.uk/news/976/cpsprodpb/173D4/production/_131488159_karinaaviev.jpg\" srcset=\"https://ichef.bbci.co.uk/news/240/cpsprodpb/173D4/production/_131488159_karinaaviev.jpg 240w, https://ichef.bbci.co.uk/news/320/cpsprodpb/173D4/production/_131488159_karinaaviev.jpg 320w, https://ichef.bbci.co.uk/news/480/cpsprodpb/173D4/production/_131488159_karinaaviev.jpg 480w, https://ichef.bbci.co.uk/news/624/cpsprodpb/173D4/production/_131488159_karinaaviev.jpg 624w, https://ichef.bbci.co.uk/news/800/cpsprodpb/173D4/production/_131488159_karinaaviev.jpg 800w, https://ichef.bbci.co.uk/news/976/cpsprodpb/173D4/production/_131488159_karinaaviev.jpg 976w\" width=\"976\" height=\"549\" class=\"ssrcss-11yxrdo-Image edrdn950\"/></picture></noscript></span></span><span role=\"text\" class=\"ssrcss-tvuve5-StyledFigureCopyright e34k3c20\"><span class=\"visually-hidden ssrcss-1f39n02-VisuallyHidden e16en2lz0\">Image source, </span>Family Handout</span></div><figcaption class=\"ssrcss-1mget3o-StyledFigureCaption e34k3c22\"><span class=\"visually-hidden ssrcss-1f39n02-VisuallyHidden e16en2lz0\">Image caption, </span><div spacing=\"6\" class=\"ssrcss-y7krbn-Stack e1y4nx260\"><p class=\"ssrcss-1q0x1qg-Paragraph e1jhz7w10\">Karina Ariev was at the Nahal Oz military base, which was among the first to be attacked</p></div></figcaption></figure></div></div></div><div class=\"ssrcss-1ocoo3l-Wrap e42f8511\"><div width=\"wide\" class=\"ssrcss-ahx90r-WrapWithWidth e42f8510\"><div data-component=\"text-block\" class=\"ssrcss-5rhf4g-RichTextComponentWrapper ep2nwvo0\"><div class=\"ssrcss-7uxr49-RichTextContainer e5tfeyi1\"><p class=\"ssrcss-1q0x1qg-Paragraph e1jhz7w10\"><b class=\"ssrcss-1xjjfut-BoldText e5tfeyi3\">Ofer Kalderon</b>, 53, was taken by Hamas from Nir Oz. On 27 November his two children, Erez, 12, and Sahar, 16, were released. Two other relatives, 80-year-old Carmela Dan and her granddaughter, Noya, 12, were also believed to have been taken, but Israeli authorities later announced they had been found dead.</p><p class=\"ssrcss-1q0x1qg-Paragraph e1jhz7w10\"><b class=\"ssrcss-1xjjfut-BoldText e5tfeyi3\">Yoram Metzger</b>, 80, was a resident of Nir Oz. He has diabetes and broke his hip six months ago, his daughter-in-law said. Yoram\\'s wife Tamar was released on 28 November.</p><p class=\"ssrcss-1q0x1qg-Paragraph e1jhz7w10\"><b class=\"ssrcss-1xjjfut-BoldText e5tfeyi3\">Nadav Popplewell</b>, 51, and his mother Channah were taken hostage by Hamas, said Channah\\'s daughter Ayelet Svatitzky, who was speaking to them on the phone when the gunmen burst in. She said the captors sent pictures of her two relatives, who both have diabetes, with armed men in the background. Channah has now been released.</p><p class=\"ssrcss-1q0x1qg-Paragraph e1jhz7w10\"><b class=\"ssrcss-1xjjfut-BoldText e5tfeyi3\">Omri Miran</b>, 46, was abducted after his family opened the door to their secure shelter to an Israeli child, who said he would be killed otherwise. Omri\\'s wife, Lishay Lavi, said she saw him being taken away in handcuffs with three other hostages from Nahal Oz.</p><p class=\"ssrcss-1q0x1qg-Paragraph e1jhz7w10\"><b class=\"ssrcss-1xjjfut-BoldText e5tfeyi3\">Liri Elbag</b>, 18, had just started military training as an Army lookout near the Gaza border when Hamas attacked, her father Eli told the Associated Press. Eli said he saw her in a video circulated later by Hamas, crowded with others on the back of a military truck which had been seized by the gunmen.</p></div></div><div id=\"piano-inline2\"/></div></div><div class=\"ssrcss-1ocoo3l-Wrap e42f8511\"><div width=\"wide\" class=\"ssrcss-ahx90r-WrapWithWidth e42f8510\"><div data-component=\"image-block\" class=\"ssrcss-1pyuwv1-ComponentWrapper ep2nwvo1\"><figure class=\"ssrcss-8589xk-StyledFigure e34k3c23\"><div class=\"ssrcss-ab5fd8-StyledFigureContainer e34k3c21\"><span class=\"ssrcss-1g0hylz-Placeholder etlorgc0\"><span><noscript><picture><source srcset=\"https://ichef.bbci.co.uk/news/240/cpsprodpb/72FB/production/_112953492__90021446_test_grey_line_new-nc.png.webp 240w, https://ichef.bbci.co.uk/news/320/cpsprodpb/72FB/production/_112953492__90021446_test_grey_line_new-nc.png.webp 320w, https://ichef.bbci.co.uk/news/480/cpsprodpb/72FB/production/_112953492__90021446_test_grey_line_new-nc.png.webp 480w, https://ichef.bbci.co.uk/news/624/cpsprodpb/72FB/production/_112953492__90021446_test_grey_line_new-nc.png.webp 624w, https://ichef.bbci.co.uk/news/800/cpsprodpb/72FB/production/_112953492__90021446_test_grey_line_new-nc.png.webp 800w, https://ichef.bbci.co.uk/news/976/cpsprodpb/72FB/production/_112953492__90021446_test_grey_line_new-nc.png.webp 976w\" type=\"image/webp\"/><img alt=\"Short presentational grey line\" loading=\"lazy\" src=\"https://ichef.bbci.co.uk/news/624/cpsprodpb/72FB/production/_112953492__90021446_test_grey_line_new-nc.png\" srcset=\"https://ichef.bbci.co.uk/news/240/cpsprodpb/72FB/production/_112953492__90021446_test_grey_line_new-nc.png 240w, https://ichef.bbci.co.uk/news/320/cpsprodpb/72FB/production/_112953492__90021446_test_grey_line_new-nc.png 320w, https://ichef.bbci.co.uk/news/480/cpsprodpb/72FB/production/_112953492__90021446_test_grey_line_new-nc.png 480w, https://ichef.bbci.co.uk/news/624/cpsprodpb/72FB/production/_112953492__90021446_test_grey_line_new-nc.png 624w, https://ichef.bbci.co.uk/news/800/cpsprodpb/72FB/production/_112953492__90021446_test_grey_line_new-nc.png 800w, https://ichef.bbci.co.uk/news/976/cpsprodpb/72FB/production/_112953492__90021446_test_grey_line_new-nc.png 976w\" width=\"624\" height=\"23\" class=\"ssrcss-11yxrdo-Image edrdn950\"/></picture></noscript></span></span></div></figure></div></div></div><div class=\"ssrcss-1ocoo3l-Wrap e42f8511\"><div width=\"wide\" class=\"ssrcss-ahx90r-WrapWithWidth e42f8510\"><div data-component=\"text-block\" class=\"ssrcss-5rhf4g-RichTextComponentWrapper ep2nwvo0\"><div class=\"ssrcss-7uxr49-RichTextContainer e5tfeyi1\"><p class=\"ssrcss-1q0x1qg-Paragraph e1jhz7w10\">A number of people are believed to have been abducted from the <a href=\"https://www.bbc.co.uk/news/world-middle-east-67047034\" class=\"ssrcss-f6h2dj-InlineLink e1kn3p7n0\">Supernova music festival</a> in southern Israel. Among them:</p><p class=\"ssrcss-1q0x1qg-Paragraph e1jhz7w10\"><b class=\"ssrcss-1xjjfut-BoldText e5tfeyi3\">Shlomi Ziv, </b>40, was part of the security detail at the festival and was initially in contact with his sisters as the attack unfolded, according to an interview with The Times of Israel. A few weeks later the family learned he was officially considered to be a hostage, the report says.   </p><p class=\"ssrcss-1q0x1qg-Paragraph e1jhz7w10\"><b class=\"ssrcss-1xjjfut-BoldText e5tfeyi3\">Alexander Lobanov</b>, 32, is a Russian-Israeli citizen who was kidnapped at the festival. </p><p class=\"ssrcss-1q0x1qg-Paragraph e1jhz7w10\"><b class=\"ssrcss-1xjjfut-BoldText e5tfeyi3\">Ori Danino</b>, 25, is reported to have got away from the festival in his car, but it\\'s believed he was captured after turning back in an attempt to save some people he had met there.</p><p class=\"ssrcss-1q0x1qg-Paragraph e1jhz7w10\"><b class=\"ssrcss-1xjjfut-BoldText e5tfeyi3\">Almog Sarusi</b>, 26, was kidnapped from the music festival and his partner Shahar Gindi was killed, according to Israeli media. Almog\\'s father, Yigal, was among the relatives of hostages who met with Israel\\'s prime minister in October. </p><p class=\"ssrcss-1q0x1qg-Paragraph e1jhz7w10\"><b class=\"ssrcss-1xjjfut-BoldText e5tfeyi3\">Omer Shem Tov, </b>21, called his parents as he was running away from gunfire and managed to get into a friend\\'s car. His parents, Shelly and Malki Shem Tov, told Israeli media they lost contact with their son and the live location on his phone showed he was beyond the border in Gaza. </p><p class=\"ssrcss-1q0x1qg-Paragraph e1jhz7w10\"><b class=\"ssrcss-1xjjfut-BoldText e5tfeyi3\">Idan Shtivi</b>, 28, an environmental sciences student, was attending the festival to take pictures at music and yoga workshops being held by friends. He escaped the site in his car but was attacked by Hamas along the route. The bodies of two of his passengers were found, and his family told the Jerusalem Post they suspect he was kidnapped.</p><p class=\"ssrcss-1q0x1qg-Paragraph e1jhz7w10\"><b class=\"ssrcss-1xjjfut-BoldText e5tfeyi3\">Yosef Ohana</b>, 24, had been at the festival with a friend, who told his mother he and Yosef had remained to help people escape the gunfire before running themselves. Yosef was last seen hiding under a car, and Israeli authorities have visited his mother to say he was kidnapped.</p><p class=\"ssrcss-1q0x1qg-Paragraph e1jhz7w10\"><b class=\"ssrcss-1xjjfut-BoldText e5tfeyi3\">Andrei Kozlov</b>, 27, a Russian who moved to Israel in 2022, is missing from the Supernova festival, where he was working as a security guard. His mother told the De Taly publication the family was told by the IDF on October 26 that he was being held hostage. </p><p class=\"ssrcss-1q0x1qg-Paragraph e1jhz7w10\"><b class=\"ssrcss-1xjjfut-BoldText e5tfeyi3\">Noa Argamani</b>, a Chinese-born Israeli citizen, was also kidnapped from the festival. Video footage - verified by her father Yaakov Argamani to Israel\\'s Channel 12 - shows the 25-year-old being taken away on the back of a motorbike screaming, \"Don\\'t kill me!\" Her boyfriend <b class=\"ssrcss-1xjjfut-BoldText e5tfeyi3\">Avinatan Or</b>, 30, also appears in the video being marched away from her by Hamas, the Times of Israel reported.</p></div></div></div></div><div class=\"ssrcss-1ocoo3l-Wrap e42f8511\"><div width=\"wide\" class=\"ssrcss-ahx90r-WrapWithWidth e42f8510\"><div data-component=\"image-block\" class=\"ssrcss-1pyuwv1-ComponentWrapper ep2nwvo1\"><figure class=\"ssrcss-8589xk-StyledFigure e34k3c23\"><div class=\"ssrcss-ab5fd8-StyledFigureContainer e34k3c21\"><span class=\"ssrcss-5zsoxt-Placeholder etlorgc0\"><span><noscript><picture><source srcset=\"https://ichef.bbci.co.uk/news/240/cpsprodpb/75F4/production/_131669103_eden-edit.jpg.webp 240w, https://ichef.bbci.co.uk/news/320/cpsprodpb/75F4/production/_131669103_eden-edit.jpg.webp 320w, https://ichef.bbci.co.uk/news/480/cpsprodpb/75F4/production/_131669103_eden-edit.jpg.webp 480w, https://ichef.bbci.co.uk/news/624/cpsprodpb/75F4/production/_131669103_eden-edit.jpg.webp 624w, https://ichef.bbci.co.uk/news/800/cpsprodpb/75F4/production/_131669103_eden-edit.jpg.webp 800w, https://ichef.bbci.co.uk/news/976/cpsprodpb/75F4/production/_131669103_eden-edit.jpg.webp 976w\" type=\"image/webp\"/><img alt=\"Eden Yerushalmi\" loading=\"lazy\" src=\"https://ichef.bbci.co.uk/news/1024/cpsprodpb/75F4/production/_131669103_eden-edit.jpg\" srcset=\"https://ichef.bbci.co.uk/news/240/cpsprodpb/75F4/production/_131669103_eden-edit.jpg 240w, https://ichef.bbci.co.uk/news/320/cpsprodpb/75F4/production/_131669103_eden-edit.jpg 320w, https://ichef.bbci.co.uk/news/480/cpsprodpb/75F4/production/_131669103_eden-edit.jpg 480w, https://ichef.bbci.co.uk/news/624/cpsprodpb/75F4/production/_131669103_eden-edit.jpg 624w, https://ichef.bbci.co.uk/news/800/cpsprodpb/75F4/production/_131669103_eden-edit.jpg 800w, https://ichef.bbci.co.uk/news/976/cpsprodpb/75F4/production/_131669103_eden-edit.jpg 976w\" width=\"1024\" height=\"576\" class=\"ssrcss-11yxrdo-Image edrdn950\"/></picture></noscript></span></span><span role=\"text\" class=\"ssrcss-tvuve5-StyledFigureCopyright e34k3c20\"><span class=\"visually-hidden ssrcss-1f39n02-VisuallyHidden e16en2lz0\">Image source, </span>Family handout</span></div><figcaption class=\"ssrcss-1mget3o-StyledFigureCaption e34k3c22\"><span class=\"visually-hidden ssrcss-1f39n02-VisuallyHidden e16en2lz0\">Image caption, </span><div spacing=\"6\" class=\"ssrcss-y7krbn-Stack e1y4nx260\"><p class=\"ssrcss-1q0x1qg-Paragraph e1jhz7w10\">Eden Yerushalmi\\'s family say they were told she had been taken hostage</p></div></figcaption></figure></div></div></div><div class=\"ssrcss-1ocoo3l-Wrap e42f8511\"><div width=\"wide\" class=\"ssrcss-ahx90r-WrapWithWidth e42f8510\"><div data-component=\"text-block\" class=\"ssrcss-5rhf4g-RichTextComponentWrapper ep2nwvo0\"><div class=\"ssrcss-7uxr49-RichTextContainer e5tfeyi1\"><p class=\"ssrcss-1q0x1qg-Paragraph e1jhz7w10\"><b class=\"ssrcss-1xjjfut-BoldText e5tfeyi3\">Eden Yerushalmi</b>, 24, called her family during Hamas\\'s attack on the festival, her sister May told CBS News. The family say they were subsequently informed by the IDF that Eden had been abducted.</p><p class=\"ssrcss-1q0x1qg-Paragraph e1jhz7w10\"><b class=\"ssrcss-1xjjfut-BoldText e5tfeyi3\">Jonathan Samerano</b>, 21, has been missing since 7am on the morning of the festival. His family have been told to presume he is being held in Gaza, Israeli media reported.</p></div></div></div></div><div class=\"ssrcss-1ocoo3l-Wrap e42f8511\"><div width=\"wide\" class=\"ssrcss-ahx90r-WrapWithWidth e42f8510\"><div data-component=\"image-block\" class=\"ssrcss-1pyuwv1-ComponentWrapper ep2nwvo1\"><figure class=\"ssrcss-8589xk-StyledFigure e34k3c23\"><div class=\"ssrcss-ab5fd8-StyledFigureContainer e34k3c21\"><span class=\"ssrcss-1105681-Placeholder etlorgc0\"><span><noscript><picture><source srcset=\"https://ichef.bbci.co.uk/news/240/cpsprodpb/E534/production/_131667685_guy976.jpg.webp 240w, https://ichef.bbci.co.uk/news/320/cpsprodpb/E534/production/_131667685_guy976.jpg.webp 320w, https://ichef.bbci.co.uk/news/480/cpsprodpb/E534/production/_131667685_guy976.jpg.webp 480w, https://ichef.bbci.co.uk/news/624/cpsprodpb/E534/production/_131667685_guy976.jpg.webp 624w, https://ichef.bbci.co.uk/news/800/cpsprodpb/E534/production/_131667685_guy976.jpg.webp 800w, https://ichef.bbci.co.uk/news/976/cpsprodpb/E534/production/_131667685_guy976.jpg.webp 976w\" type=\"image/webp\"/><img alt=\"Guy Gilboa-Dalal\" loading=\"lazy\" src=\"https://ichef.bbci.co.uk/news/976/cpsprodpb/E534/production/_131667685_guy976.jpg\" srcset=\"https://ichef.bbci.co.uk/news/240/cpsprodpb/E534/production/_131667685_guy976.jpg 240w, https://ichef.bbci.co.uk/news/320/cpsprodpb/E534/production/_131667685_guy976.jpg 320w, https://ichef.bbci.co.uk/news/480/cpsprodpb/E534/production/_131667685_guy976.jpg 480w, https://ichef.bbci.co.uk/news/624/cpsprodpb/E534/production/_131667685_guy976.jpg 624w, https://ichef.bbci.co.uk/news/800/cpsprodpb/E534/production/_131667685_guy976.jpg 800w, https://ichef.bbci.co.uk/news/976/cpsprodpb/E534/production/_131667685_guy976.jpg 976w\" width=\"976\" height=\"976\" class=\"ssrcss-11yxrdo-Image edrdn950\"/></picture></noscript></span></span><span role=\"text\" class=\"ssrcss-tvuve5-StyledFigureCopyright e34k3c20\"><span class=\"visually-hidden ssrcss-1f39n02-VisuallyHidden e16en2lz0\">Image source, </span>Family handout</span></div><figcaption class=\"ssrcss-1mget3o-StyledFigureCaption e34k3c22\"><span class=\"visually-hidden ssrcss-1f39n02-VisuallyHidden e16en2lz0\">Image caption, </span><div spacing=\"6\" class=\"ssrcss-y7krbn-Stack e1y4nx260\"><p class=\"ssrcss-1q0x1qg-Paragraph e1jhz7w10\">Guy Gilboa-Dalal was filmed in captivity in Gaza, his family say</p></div></figcaption></figure></div></div></div><div class=\"ssrcss-1ocoo3l-Wrap e42f8511\"><div width=\"wide\" class=\"ssrcss-ahx90r-WrapWithWidth e42f8510\"><div data-component=\"text-block\" class=\"ssrcss-5rhf4g-RichTextComponentWrapper ep2nwvo0\"><div class=\"ssrcss-7uxr49-RichTextContainer e5tfeyi1\"><p class=\"ssrcss-1q0x1qg-Paragraph e1jhz7w10\"><b class=\"ssrcss-1xjjfut-BoldText e5tfeyi3\">Guy Gilboa-Dalal</b>, 22, attended the festival with his brother. Guy appears in a hostage video that his family say confirms he is in Gaza.</p></div></div></div></div><div class=\"ssrcss-1ocoo3l-Wrap e42f8511\"><div width=\"wide\" class=\"ssrcss-ahx90r-WrapWithWidth e42f8510\"><div data-component=\"image-block\" class=\"ssrcss-1pyuwv1-ComponentWrapper ep2nwvo1\"><figure class=\"ssrcss-8589xk-StyledFigure e34k3c23\"><div class=\"ssrcss-ab5fd8-StyledFigureContainer e34k3c21\"><span class=\"ssrcss-5zsoxt-Placeholder etlorgc0\"><span><noscript><picture><source srcset=\"https://ichef.bbci.co.uk/news/240/cpsprodpb/7004/production/_131667682_maxim976.jpg.webp 240w, https://ichef.bbci.co.uk/news/320/cpsprodpb/7004/production/_131667682_maxim976.jpg.webp 320w, https://ichef.bbci.co.uk/news/480/cpsprodpb/7004/production/_131667682_maxim976.jpg.webp 480w, https://ichef.bbci.co.uk/news/624/cpsprodpb/7004/production/_131667682_maxim976.jpg.webp 624w, https://ichef.bbci.co.uk/news/800/cpsprodpb/7004/production/_131667682_maxim976.jpg.webp 800w, https://ichef.bbci.co.uk/news/976/cpsprodpb/7004/production/_131667682_maxim976.jpg.webp 976w\" type=\"image/webp\"/><img alt=\"Maxim Kharkin\" loading=\"lazy\" src=\"https://ichef.bbci.co.uk/news/976/cpsprodpb/7004/production/_131667682_maxim976.jpg\" srcset=\"https://ichef.bbci.co.uk/news/240/cpsprodpb/7004/production/_131667682_maxim976.jpg 240w, https://ichef.bbci.co.uk/news/320/cpsprodpb/7004/production/_131667682_maxim976.jpg 320w, https://ichef.bbci.co.uk/news/480/cpsprodpb/7004/production/_131667682_maxim976.jpg 480w, https://ichef.bbci.co.uk/news/624/cpsprodpb/7004/production/_131667682_maxim976.jpg 624w, https://ichef.bbci.co.uk/news/800/cpsprodpb/7004/production/_131667682_maxim976.jpg 800w, https://ichef.bbci.co.uk/news/976/cpsprodpb/7004/production/_131667682_maxim976.jpg 976w\" width=\"976\" height=\"549\" class=\"ssrcss-11yxrdo-Image edrdn950\"/></picture></noscript></span></span><span role=\"text\" class=\"ssrcss-tvuve5-StyledFigureCopyright e34k3c20\"><span class=\"visually-hidden ssrcss-1f39n02-VisuallyHidden e16en2lz0\">Image source, </span>Family handout</span></div><figcaption class=\"ssrcss-1mget3o-StyledFigureCaption e34k3c22\"><span class=\"visually-hidden ssrcss-1f39n02-VisuallyHidden e16en2lz0\">Image caption, </span><div spacing=\"6\" class=\"ssrcss-y7krbn-Stack e1y4nx260\"><p class=\"ssrcss-1q0x1qg-Paragraph e1jhz7w10\">Maxim Kharkin\\'s mother described speaking to him on the morning of 7 October</p></div></figcaption></figure></div></div></div><div class=\"ssrcss-1ocoo3l-Wrap e42f8511\"><div width=\"wide\" class=\"ssrcss-ahx90r-WrapWithWidth e42f8510\"><div data-component=\"text-block\" class=\"ssrcss-5rhf4g-RichTextComponentWrapper ep2nwvo0\"><div class=\"ssrcss-7uxr49-RichTextContainer e5tfeyi1\"><p class=\"ssrcss-1q0x1qg-Paragraph e1jhz7w10\"><b class=\"ssrcss-1xjjfut-BoldText e5tfeyi3\">Maxim Kharkin</b> is aged 35 and a Russian speaker, his mother told Russian media. She added that he had called her at 07:00 on the morning of the attack.</p></div></div></div></div><div class=\"ssrcss-1ocoo3l-Wrap e42f8511\"><div width=\"wide\" class=\"ssrcss-ahx90r-WrapWithWidth e42f8510\"><div data-component=\"image-block\" class=\"ssrcss-1pyuwv1-ComponentWrapper ep2nwvo1\"><figure class=\"ssrcss-8589xk-StyledFigure e34k3c23\"><div class=\"ssrcss-ab5fd8-StyledFigureContainer e34k3c21\"><span class=\"ssrcss-15ra3c2-Placeholder etlorgc0\"><span><noscript><picture><source srcset=\"https://ichef.bbci.co.uk/news/240/cpsprodpb/1085C/production/_131667676_elkana_976.png.webp 240w, https://ichef.bbci.co.uk/news/320/cpsprodpb/1085C/production/_131667676_elkana_976.png.webp 320w, https://ichef.bbci.co.uk/news/480/cpsprodpb/1085C/production/_131667676_elkana_976.png.webp 480w, https://ichef.bbci.co.uk/news/624/cpsprodpb/1085C/production/_131667676_elkana_976.png.webp 624w, https://ichef.bbci.co.uk/news/800/cpsprodpb/1085C/production/_131667676_elkana_976.png.webp 800w, https://ichef.bbci.co.uk/news/976/cpsprodpb/1085C/production/_131667676_elkana_976.png.webp 976w\" type=\"image/webp\"/><img alt=\"Elkana Bohbot\" loading=\"lazy\" src=\"https://ichef.bbci.co.uk/news/976/cpsprodpb/1085C/production/_131667676_elkana_976.png\" srcset=\"https://ichef.bbci.co.uk/news/240/cpsprodpb/1085C/production/_131667676_elkana_976.png 240w, https://ichef.bbci.co.uk/news/320/cpsprodpb/1085C/production/_131667676_elkana_976.png 320w, https://ichef.bbci.co.uk/news/480/cpsprodpb/1085C/production/_131667676_elkana_976.png 480w, https://ichef.bbci.co.uk/news/624/cpsprodpb/1085C/production/_131667676_elkana_976.png 624w, https://ichef.bbci.co.uk/news/800/cpsprodpb/1085C/production/_131667676_elkana_976.png 800w, https://ichef.bbci.co.uk/news/976/cpsprodpb/1085C/production/_131667676_elkana_976.png 976w\" width=\"976\" height=\"700\" class=\"ssrcss-11yxrdo-Image edrdn950\"/></picture></noscript></span></span><span role=\"text\" class=\"ssrcss-tvuve5-StyledFigureCopyright e34k3c20\"><span class=\"visually-hidden ssrcss-1f39n02-VisuallyHidden e16en2lz0\">Image source, </span>Family handout</span></div><figcaption class=\"ssrcss-1mget3o-StyledFigureCaption e34k3c22\"><span class=\"visually-hidden ssrcss-1f39n02-VisuallyHidden e16en2lz0\">Image caption, </span><div spacing=\"6\" class=\"ssrcss-y7krbn-Stack e1y4nx260\"><p class=\"ssrcss-1q0x1qg-Paragraph e1jhz7w10\">Elkana Bohbot was seen in a video posted by Hamas</p></div></figcaption></figure></div></div></div><div class=\"ssrcss-1ocoo3l-Wrap e42f8511\"><div width=\"wide\" class=\"ssrcss-ahx90r-WrapWithWidth e42f8510\"><div data-component=\"text-block\" class=\"ssrcss-5rhf4g-RichTextComponentWrapper ep2nwvo0\"><div class=\"ssrcss-7uxr49-RichTextContainer e5tfeyi1\"><p class=\"ssrcss-1q0x1qg-Paragraph e1jhz7w10\"><b class=\"ssrcss-1xjjfut-BoldText e5tfeyi3\">Elkana Bohbot</b>, 34, had gone to the party with friends and, before losing contact, he spoke to his wife and mother telling them he was helping to evacuate the wounded, the Times of Israel reported. Hours later, his family found a video of him posted online by Hamas, which has been seen by BBC Verify. </p><p class=\"ssrcss-1q0x1qg-Paragraph e1jhz7w10\"><b class=\"ssrcss-1xjjfut-BoldText e5tfeyi3\">Rom Braslavski</b>, 19, was working on security for the festival. According to an account published by Hostages and Missing Families Forum, he was trying to rescue an injured person in the attack when he was caught in a volley of fire. He has not been heard from since.</p><p class=\"ssrcss-1q0x1qg-Paragraph e1jhz7w10\"><b class=\"ssrcss-1xjjfut-BoldText e5tfeyi3\">Omer Wenkert</b>, 22<b class=\"ssrcss-1xjjfut-BoldText e5tfeyi3\">,</b> a restaurant manager, sent a message to his family to say he was going to a safe shelter but then lost contact, his father Shai Wenkert told the BBC\\'s Today Programme. Shai Wenkert said he had seen footage of his son in captivity, including a photo of him handcuffed and wearing only underwear. </p></div></div></div></div><div class=\"ssrcss-1ocoo3l-Wrap e42f8511\"><div width=\"wide\" class=\"ssrcss-ahx90r-WrapWithWidth e42f8510\"><div data-component=\"image-block\" class=\"ssrcss-1pyuwv1-ComponentWrapper ep2nwvo1\"><figure class=\"ssrcss-8589xk-StyledFigure e34k3c23\"><div class=\"ssrcss-ab5fd8-StyledFigureContainer e34k3c21\"><span class=\"ssrcss-5zsoxt-Placeholder etlorgc0\"><span><noscript><picture><source srcset=\"https://ichef.bbci.co.uk/news/240/cpsprodpb/DBE3/production/_131519265_new-szoczxto.jpg.webp 240w, https://ichef.bbci.co.uk/news/320/cpsprodpb/DBE3/production/_131519265_new-szoczxto.jpg.webp 320w, https://ichef.bbci.co.uk/news/480/cpsprodpb/DBE3/production/_131519265_new-szoczxto.jpg.webp 480w, https://ichef.bbci.co.uk/news/624/cpsprodpb/DBE3/production/_131519265_new-szoczxto.jpg.webp 624w, https://ichef.bbci.co.uk/news/800/cpsprodpb/DBE3/production/_131519265_new-szoczxto.jpg.webp 800w, https://ichef.bbci.co.uk/news/976/cpsprodpb/DBE3/production/_131519265_new-szoczxto.jpg.webp 976w\" type=\"image/webp\"/><img alt=\"Evyatar David\" loading=\"lazy\" src=\"https://ichef.bbci.co.uk/news/1024/cpsprodpb/DBE3/production/_131519265_new-szoczxto.jpg\" srcset=\"https://ichef.bbci.co.uk/news/240/cpsprodpb/DBE3/production/_131519265_new-szoczxto.jpg 240w, https://ichef.bbci.co.uk/news/320/cpsprodpb/DBE3/production/_131519265_new-szoczxto.jpg 320w, https://ichef.bbci.co.uk/news/480/cpsprodpb/DBE3/production/_131519265_new-szoczxto.jpg 480w, https://ichef.bbci.co.uk/news/624/cpsprodpb/DBE3/production/_131519265_new-szoczxto.jpg 624w, https://ichef.bbci.co.uk/news/800/cpsprodpb/DBE3/production/_131519265_new-szoczxto.jpg 800w, https://ichef.bbci.co.uk/news/976/cpsprodpb/DBE3/production/_131519265_new-szoczxto.jpg 976w\" width=\"1024\" height=\"576\" class=\"ssrcss-11yxrdo-Image edrdn950\"/></picture></noscript></span></span><span role=\"text\" class=\"ssrcss-tvuve5-StyledFigureCopyright e34k3c20\"><span class=\"visually-hidden ssrcss-1f39n02-VisuallyHidden e16en2lz0\">Image source, </span>Family handout</span></div><figcaption class=\"ssrcss-1mget3o-StyledFigureCaption e34k3c22\"><span class=\"visually-hidden ssrcss-1f39n02-VisuallyHidden e16en2lz0\">Image caption, </span><div spacing=\"6\" class=\"ssrcss-y7krbn-Stack e1y4nx260\"><p class=\"ssrcss-1q0x1qg-Paragraph e1jhz7w10\">Evyatar David\\'s family say they were sent a video of him in captivity</p></div></figcaption></figure></div></div></div><div class=\"ssrcss-1ocoo3l-Wrap e42f8511\"><div width=\"wide\" class=\"ssrcss-ahx90r-WrapWithWidth e42f8510\"><div data-component=\"text-block\" class=\"ssrcss-5rhf4g-RichTextComponentWrapper ep2nwvo0\"><div class=\"ssrcss-7uxr49-RichTextContainer e5tfeyi1\"><p class=\"ssrcss-1q0x1qg-Paragraph e1jhz7w10\"><b class=\"ssrcss-1xjjfut-BoldText e5tfeyi3\">Evyatar David</b>, 23, was at the festival and on the morning of the attacks, described fleeing from gunfire before losing contact with the outside world, his brother says. Later, his family say, Evyatar\\'s sister posted on Instagram appealing for information about his whereabouts. She then received a text from an unknown number, which contained video footage of Evyatar handcuffed on the floor of a dark room. According to Israel\\'s foreign ministry he is being held captive by Hamas in Gaza.</p><p class=\"ssrcss-1q0x1qg-Paragraph e1jhz7w10\"><b class=\"ssrcss-1xjjfut-BoldText e5tfeyi3\">Eitan Mor</b>, 23, lives in Jerusalem, and was working as a security guard at the festival, the Times of Israel said. He reportedly texted his uncle after Hamas arrived and was last seen with a friend bringing others to safety.</p><p class=\"ssrcss-1q0x1qg-Paragraph e1jhz7w10\"><b class=\"ssrcss-1xjjfut-BoldText e5tfeyi3\">Alon Ohel</b>, 22, a Serbian citizen, took refuge in a shelter after the festival came under attack, his family say. They have seen footage of him being dragged away after a grenade attack.</p><p class=\"ssrcss-1q0x1qg-Paragraph e1jhz7w10\"><b class=\"ssrcss-1xjjfut-BoldText e5tfeyi3\">Almog Meir Jan</b>, 21, tried to flee the festival. He and a friend made it to the friend\\'s car but only managed to drive a short distance before being forced to stop. Almog\\'s family say they have seen a hostage video in which he appears. </p><p class=\"ssrcss-1q0x1qg-Paragraph e1jhz7w10\"><b class=\"ssrcss-1xjjfut-BoldText e5tfeyi3\">Inbar Heiman</b>, a student aged 21, was seen by two young Israeli men being taken away from the festival on a motorcycle. Hamas have released a video in which she is seen very briefly. </p><p class=\"ssrcss-1q0x1qg-Paragraph e1jhz7w10\"><b class=\"ssrcss-1xjjfut-BoldText e5tfeyi3\">Hersh Goldberg-Polin</b>, 23, a dual US-Israeli citizen, was badly injured in the attack, his family told the BBC. Eyewitness accounts say  he was seen being forced onto a white pick-up truck - the last-known signal from his phone came from just inside Gaza.</p><p class=\"ssrcss-1q0x1qg-Paragraph e1jhz7w10\"><b class=\"ssrcss-1xjjfut-BoldText e5tfeyi3\">Segev Kalfon</b>, 26, was running away from the festival, across the highway, when he was captured by Hamas, according to the Hostages and Missing Families Forum.</p><p class=\"ssrcss-1q0x1qg-Paragraph e1jhz7w10\"><b class=\"ssrcss-1xjjfut-BoldText e5tfeyi3\">Romi Lesham Gonen</b>, 23, was on the phone to her mother as she tried to escape from the Supernova festival. Merav Leshem Gonan has recounted a conversation in which her daughter begged for help after being shot. ABC News reports that Romi\\'s phone is now in Gaza. </p><p class=\"ssrcss-1q0x1qg-Paragraph e1jhz7w10\"><b class=\"ssrcss-1xjjfut-BoldText e5tfeyi3\">Bar Kuperstein</b>, 21, last spoke to his family early on the morning of 7 October, as the attack unfolded. Later the same day, his family say they identified him in a video of Israeli prisoners, posted by Hamas. Since then, they say they have had no further information.</p><p class=\"ssrcss-1q0x1qg-Paragraph e1jhz7w10\"><b class=\"ssrcss-1xjjfut-BoldText e5tfeyi3\">Eliya Cohen</b>, 26, was hiding with his girlfriend Ziv from the attack, when Ziv felt him being pulled up and driven away by the gunmen, Eliya\\'s mother has told the video initiative #BringThemHomeNow. The family then found a photo of Eliya in Gaza, the Times of Israel reported.  </p></div></div><div id=\"piano-inline3\"/></div></div><div class=\"ssrcss-1ocoo3l-Wrap e42f8511\"><div width=\"wide\" class=\"ssrcss-ahx90r-WrapWithWidth e42f8510\"><div data-component=\"image-block\" class=\"ssrcss-1pyuwv1-ComponentWrapper ep2nwvo1\"><figure class=\"ssrcss-8589xk-StyledFigure e34k3c23\"><div class=\"ssrcss-ab5fd8-StyledFigureContainer e34k3c21\"><span class=\"ssrcss-1g0hylz-Placeholder etlorgc0\"><span><noscript><picture><source srcset=\"https://ichef.bbci.co.uk/news/240/cpsprodpb/72FB/production/_112953492__90021446_test_grey_line_new-nc.png.webp 240w, https://ichef.bbci.co.uk/news/320/cpsprodpb/72FB/production/_112953492__90021446_test_grey_line_new-nc.png.webp 320w, https://ichef.bbci.co.uk/news/480/cpsprodpb/72FB/production/_112953492__90021446_test_grey_line_new-nc.png.webp 480w, https://ichef.bbci.co.uk/news/624/cpsprodpb/72FB/production/_112953492__90021446_test_grey_line_new-nc.png.webp 624w, https://ichef.bbci.co.uk/news/800/cpsprodpb/72FB/production/_112953492__90021446_test_grey_line_new-nc.png.webp 800w, https://ichef.bbci.co.uk/news/976/cpsprodpb/72FB/production/_112953492__90021446_test_grey_line_new-nc.png.webp 976w\" type=\"image/webp\"/><img alt=\"Short presentational grey line\" loading=\"lazy\" src=\"https://ichef.bbci.co.uk/news/624/cpsprodpb/72FB/production/_112953492__90021446_test_grey_line_new-nc.png\" srcset=\"https://ichef.bbci.co.uk/news/240/cpsprodpb/72FB/production/_112953492__90021446_test_grey_line_new-nc.png 240w, https://ichef.bbci.co.uk/news/320/cpsprodpb/72FB/production/_112953492__90021446_test_grey_line_new-nc.png 320w, https://ichef.bbci.co.uk/news/480/cpsprodpb/72FB/production/_112953492__90021446_test_grey_line_new-nc.png 480w, https://ichef.bbci.co.uk/news/624/cpsprodpb/72FB/production/_112953492__90021446_test_grey_line_new-nc.png 624w, https://ichef.bbci.co.uk/news/800/cpsprodpb/72FB/production/_112953492__90021446_test_grey_line_new-nc.png 800w, https://ichef.bbci.co.uk/news/976/cpsprodpb/72FB/production/_112953492__90021446_test_grey_line_new-nc.png 976w\" width=\"624\" height=\"23\" class=\"ssrcss-11yxrdo-Image edrdn950\"/></picture></noscript></span></span></div></figure></div></div></div><div class=\"ssrcss-1ocoo3l-Wrap e42f8511\"><div width=\"wide\" class=\"ssrcss-ahx90r-WrapWithWidth e42f8510\"><div data-component=\"text-block\" class=\"ssrcss-5rhf4g-RichTextComponentWrapper ep2nwvo0\"><div class=\"ssrcss-7uxr49-RichTextContainer e5tfeyi1\"><p class=\"ssrcss-1q0x1qg-Paragraph e1jhz7w10\"><b class=\"ssrcss-1xjjfut-BoldText e5tfeyi3\">Carmel Gat, </b>39, is Jordan\\'s sister-in-law, and also was seen by her father being taken by gunmen from Kibbutz Be\\'eri, Haaretz newspaper reported. She has not been heard from since. </p><p class=\"ssrcss-1q0x1qg-Paragraph e1jhz7w10\"><b class=\"ssrcss-1xjjfut-BoldText e5tfeyi3\">Ohad Yahalomi, </b>49, was abducted from Nir Oz, along with his 12-year-old son, Eitan, who was released during the November ceasefire. </p><p class=\"ssrcss-1q0x1qg-Paragraph e1jhz7w10\"><b class=\"ssrcss-1xjjfut-BoldText e5tfeyi3\">Dror Or</b>, 48, was seen by a neighbour being dragged out of his home in Be\\'eri, according to their nephew Emmanuel Besorai, along with his son and daughter. On Saturday 25 November Dror\\'s son Noam<b class=\"ssrcss-1xjjfut-BoldText e5tfeyi3\">, </b>17, and daughter Alma, 13, were released from captivity. The body of Yonat, 50 - Dror\\'s wife and the children\\'s mother - was identified among the 120 people murdered at the kibbutz, Yonat\\'s brother told the Guardian newspaper.</p><p class=\"ssrcss-1q0x1qg-Paragraph e1jhz7w10\"><b class=\"ssrcss-1xjjfut-BoldText e5tfeyi3\">Tal Shoham</b>, 38, was taken from Kibbutz Be\\'eri. His wife Adi, also 38, her mother Dr Shoshan Haran, 67, were released by Hamas on 25 November, along with the couple\\'s children Nave, eight, and Yahel, three. Dr Haran\\'s husband, Avshalom - an economist and dual German/Israeli citizen - was killed on 7 October.</p><p class=\"ssrcss-1q0x1qg-Paragraph e1jhz7w10\"><b class=\"ssrcss-1xjjfut-BoldText e5tfeyi3\">Sagui Dekel-Chen</b>, 35, an American-Israeli citizen, has been missing since Hamas\\'s attack on Nir Oz, his father Jonathan told the BBC. He said his son was not found among the dead and the \"only reasonable explanation\" is that he was taken to Gaza.</p></div></div></div></div><div class=\"ssrcss-1ocoo3l-Wrap e42f8511\"><div width=\"wide\" class=\"ssrcss-ahx90r-WrapWithWidth e42f8510\"><div data-component=\"image-block\" class=\"ssrcss-1pyuwv1-ComponentWrapper ep2nwvo1\"><figure class=\"ssrcss-8589xk-StyledFigure e34k3c23\"><div class=\"ssrcss-ab5fd8-StyledFigureContainer e34k3c21\"><span class=\"ssrcss-5zsoxt-Placeholder etlorgc0\"><span><noscript><picture><source srcset=\"https://ichef.bbci.co.uk/news/240/cpsprodpb/D624/production/_131402845_sagui.jpg.webp 240w, https://ichef.bbci.co.uk/news/320/cpsprodpb/D624/production/_131402845_sagui.jpg.webp 320w, https://ichef.bbci.co.uk/news/480/cpsprodpb/D624/production/_131402845_sagui.jpg.webp 480w, https://ichef.bbci.co.uk/news/624/cpsprodpb/D624/production/_131402845_sagui.jpg.webp 624w, https://ichef.bbci.co.uk/news/800/cpsprodpb/D624/production/_131402845_sagui.jpg.webp 800w, https://ichef.bbci.co.uk/news/976/cpsprodpb/D624/production/_131402845_sagui.jpg.webp 976w\" type=\"image/webp\"/><img alt=\"Sagui Dekel-Chen\" loading=\"lazy\" src=\"https://ichef.bbci.co.uk/news/976/cpsprodpb/D624/production/_131402845_sagui.jpg\" srcset=\"https://ichef.bbci.co.uk/news/240/cpsprodpb/D624/production/_131402845_sagui.jpg 240w, https://ichef.bbci.co.uk/news/320/cpsprodpb/D624/production/_131402845_sagui.jpg 320w, https://ichef.bbci.co.uk/news/480/cpsprodpb/D624/production/_131402845_sagui.jpg 480w, https://ichef.bbci.co.uk/news/624/cpsprodpb/D624/production/_131402845_sagui.jpg 624w, https://ichef.bbci.co.uk/news/800/cpsprodpb/D624/production/_131402845_sagui.jpg 800w, https://ichef.bbci.co.uk/news/976/cpsprodpb/D624/production/_131402845_sagui.jpg 976w\" width=\"976\" height=\"549\" class=\"ssrcss-11yxrdo-Image edrdn950\"/></picture></noscript></span></span><span role=\"text\" class=\"ssrcss-tvuve5-StyledFigureCopyright e34k3c20\"><span class=\"visually-hidden ssrcss-1f39n02-VisuallyHidden e16en2lz0\">Image source, </span>Jonathan Dekel-Chen</span></div><figcaption class=\"ssrcss-1mget3o-StyledFigureCaption e34k3c22\"><span class=\"visually-hidden ssrcss-1f39n02-VisuallyHidden e16en2lz0\">Image caption, </span><div spacing=\"6\" class=\"ssrcss-y7krbn-Stack e1y4nx260\"><p class=\"ssrcss-1q0x1qg-Paragraph e1jhz7w10\">Sagui Dekel-Chen\\'s father has not heard from him since Hamas attacked the kibbutz where he lived</p></div></figcaption></figure></div></div></div><div class=\"ssrcss-1ocoo3l-Wrap e42f8511\"><div width=\"wide\" class=\"ssrcss-ahx90r-WrapWithWidth e42f8510\"><div data-component=\"text-block\" class=\"ssrcss-5rhf4g-RichTextComponentWrapper ep2nwvo0\"><div class=\"ssrcss-7uxr49-RichTextContainer e5tfeyi1\"><p class=\"ssrcss-1q0x1qg-Paragraph e1jhz7w10\">Thailand\\'s ambassador to Israel says 31 of its citizens were taken hostage - 23 of whom have now been released. </p><p class=\"ssrcss-1q0x1qg-Paragraph e1jhz7w10\">Those still being held are believed to include <b class=\"ssrcss-1xjjfut-BoldText e5tfeyi3\">Watchara Sriuan,</b> 32. His mother, Viewwaew, told the Thaiger news site that the family had been informed he was being held captive. </p><p class=\"ssrcss-1q0x1qg-Paragraph e1jhz7w10\"><b class=\"ssrcss-1xjjfut-BoldText e5tfeyi3\">Kiattisak \"Top\" Patee </b>and a<b class=\"ssrcss-1xjjfut-BoldText e5tfeyi3\"> Mr Pongtorn (no first name given) </b>have also been named by the Thai foreign ministry as hostages. </p></div></div></div></div><div class=\"ssrcss-1ocoo3l-Wrap e42f8511\"><div width=\"wide\" class=\"ssrcss-ahx90r-WrapWithWidth e42f8510\"><div data-component=\"subheadline-block\" class=\"ssrcss-z0dilw-ComponentWrapper-HeadlineComponentWrapper egtrm1f0\"><h2 id=\"Hostages-who-have-died\" tabindex=\"-1\" class=\"ssrcss-1ipj56t-Heading e10rt3ze0\"><span role=\"text\">Hostages who have died</span></h2></div></div></div><div class=\"ssrcss-1ocoo3l-Wrap e42f8511\"><div width=\"wide\" class=\"ssrcss-ahx90r-WrapWithWidth e42f8510\"><div data-component=\"text-block\" class=\"ssrcss-5rhf4g-RichTextComponentWrapper ep2nwvo0\"><div class=\"ssrcss-7uxr49-RichTextContainer e5tfeyi1\"><p class=\"ssrcss-1q0x1qg-Paragraph e1jhz7w10\">A number of other people thought to have been held hostage are now confirmed to have died, either during the 7 October attack or while in captivity. </p><p class=\"ssrcss-1q0x1qg-Paragraph e1jhz7w10\">On 24 May, the Israeli army said that the bodies of three hostages had been recovered - Orion Hernandez, 30, Chanan Yablonka, 42, and Michel Nisenbaum, 59.</p><p class=\"ssrcss-1q0x1qg-Paragraph e1jhz7w10\">Over the month of May, a number of other hostages\\' bodies have also been found.</p><p class=\"ssrcss-1q0x1qg-Paragraph e1jhz7w10\">Their names are Shani Louk, 23, Amit Buskila, 27, Itzhak Gelerenter, 58, Ron Benjamin, 53, Lior Ruadaeff, 61, and Eylakim Libman, 23. </p><p class=\"ssrcss-1q0x1qg-Paragraph e1jhz7w10\">The families of two Thai hostages, Sonthaya Oakkharasr and Sudthisak Rinthalak, were informed on 16 May that they were killed during the 7 October attack and their bodies were being held by Hamas in Gaza.</p><p class=\"ssrcss-1q0x1qg-Paragraph e1jhz7w10\">On 16 December, the Israeli military expressed \"deep remorse\" after soldiers mistakenly killed three hostages in northern Gaza who had escaped from their captors. They were named as Yotam Haim, 28, Samer Talalka, 22, and Alon Shamriz, 26.</p><p class=\"ssrcss-1q0x1qg-Paragraph e1jhz7w10\">The death of Tamir Adar, 38, was announced on 5 January by the Hostages and Missing Persons Families Forum. Other hostages confirmed to have died include Gadi Haggai, Ron Scherman, Nik Beizer, Tal Chaimi, an Israeli-Romanian citizen aged 41, Joshua Mollel, a 19-year-old Tanzanian student, 27-year-old Eden Zecharya, and 36-year-old Ziv Dado.</p><p class=\"ssrcss-1q0x1qg-Paragraph e1jhz7w10\">Other fatalities include Sahar Baruch, 25, Dror Kaplun, 68, Aviv Atzili, 49, Arye Zalmanovich, 85, Ronen Engel, 54, Maya Goren, 56, Guy Iluz, 26, Ofir Tzarfati, 27, Ofra Keider, 70, and Eliyahu Margalit, 75. </p><p class=\"ssrcss-1q0x1qg-Paragraph e1jhz7w10\">The bodies of 19-year-old soldier Noa Marciano and 65-year-old Yehudit Weiss were found by Israeli troops in buildings close to Al-Shifa Hospital in Gaza City.</p><p class=\"ssrcss-1q0x1qg-Paragraph e1jhz7w10\">In March, the family of Uriel Baruch, 35, said they had been informed by the Israel Defence Forces (IDF) that he was killed on 7 October in the attack on the Nova music festival, and that his body was being held in Gaza. He was married with two children.</p><p class=\"ssrcss-1q0x1qg-Paragraph e1jhz7w10\">Hostages whose death has been reported, but not confirmed, include Shiri Bibas, 32, and her two young children, Ariel and Kfir. </p><p class=\"ssrcss-1q0x1qg-Paragraph e1jhz7w10\"><i class=\"ssrcss-xbdn93-ItalicText e5tfeyi2\">Research by Jamie Ryan and Emma Pengelly</i></p></div></div></div></div><div class=\"ssrcss-1ocoo3l-Wrap e42f8511\"><div width=\"wide\" class=\"ssrcss-ahx90r-WrapWithWidth e42f8510\"><div data-component=\"image-block\" class=\"ssrcss-1pyuwv1-ComponentWrapper ep2nwvo1\"><figure class=\"ssrcss-8589xk-StyledFigure e34k3c23\"><div class=\"ssrcss-ab5fd8-StyledFigureContainer e34k3c21\"><span class=\"ssrcss-kwl2rq-Placeholder etlorgc0\"><span><noscript><picture><source srcset=\"https://ichef.bbci.co.uk/news/240/cpsprodpb/1FCD/production/_105914180_line976-nc.png.webp 240w, https://ichef.bbci.co.uk/news/320/cpsprodpb/1FCD/production/_105914180_line976-nc.png.webp 320w, https://ichef.bbci.co.uk/news/480/cpsprodpb/1FCD/production/_105914180_line976-nc.png.webp 480w, https://ichef.bbci.co.uk/news/624/cpsprodpb/1FCD/production/_105914180_line976-nc.png.webp 624w, https://ichef.bbci.co.uk/news/800/cpsprodpb/1FCD/production/_105914180_line976-nc.png.webp 800w, https://ichef.bbci.co.uk/news/976/cpsprodpb/1FCD/production/_105914180_line976-nc.png.webp 976w\" type=\"image/webp\"/><img alt=\"line\" loading=\"lazy\" src=\"https://ichef.bbci.co.uk/news/624/cpsprodpb/1FCD/production/_105914180_line976-nc.png\" srcset=\"https://ichef.bbci.co.uk/news/240/cpsprodpb/1FCD/production/_105914180_line976-nc.png 240w, https://ichef.bbci.co.uk/news/320/cpsprodpb/1FCD/production/_105914180_line976-nc.png 320w, https://ichef.bbci.co.uk/news/480/cpsprodpb/1FCD/production/_105914180_line976-nc.png 480w, https://ichef.bbci.co.uk/news/624/cpsprodpb/1FCD/production/_105914180_line976-nc.png 624w, https://ichef.bbci.co.uk/news/800/cpsprodpb/1FCD/production/_105914180_line976-nc.png 800w, https://ichef.bbci.co.uk/news/976/cpsprodpb/1FCD/production/_105914180_line976-nc.png 976w\" width=\"624\" height=\"2\" class=\"ssrcss-11yxrdo-Image edrdn950\"/></picture></noscript></span></span></div></figure></div></div></div><div class=\"ssrcss-1ocoo3l-Wrap e42f8511\"><div width=\"wide\" class=\"ssrcss-ahx90r-WrapWithWidth e42f8510\"><div data-component=\"subheadline-block\" class=\"ssrcss-z0dilw-ComponentWrapper-HeadlineComponentWrapper egtrm1f0\"><h2 id=\"More-on-IsraelGaza-war\" tabindex=\"-1\" class=\"ssrcss-1ipj56t-Heading e10rt3ze0\"><span role=\"text\">More on Israel-Gaza war</span></h2></div></div></div><div class=\"ssrcss-1ocoo3l-Wrap e42f8511\"><div width=\"wide\" class=\"ssrcss-ahx90r-WrapWithWidth e42f8510\"><div data-component=\"text-block\" class=\"ssrcss-5rhf4g-RichTextComponentWrapper ep2nwvo0\"><div class=\"ssrcss-7uxr49-RichTextContainer e5tfeyi1\"><div class=\"ssrcss-1o5f7ft-BulletListContainer e5tfeyi0\"><ul role=\"list\"><li><p class=\"ssrcss-1q0x1qg-Paragraph e1jhz7w10\">From Gaza: <a href=\"https://www.bbc.co.uk/news/world-middle-east-67391335\" class=\"ssrcss-f6h2dj-InlineLink e1kn3p7n0\">‘So crowded we can’t even sleep on our backs’: Gaza shelters at breaking point</a></p></li><li><p class=\"ssrcss-1q0x1qg-Paragraph e1jhz7w10\">From Israel: <a href=\"https://www.bbc.co.uk/news/world-middle-east-67373293\" class=\"ssrcss-f6h2dj-InlineLink e1kn3p7n0\">How much closer is Israel to its goal in Gaza?</a></p></li><li><p class=\"ssrcss-1q0x1qg-Paragraph e1jhz7w10\">History behind the story: <a href=\"https://www.bbc.co.uk/news/newsbeat-44124396\" class=\"ssrcss-f6h2dj-InlineLink e1kn3p7n0\">The Israel-Palestinian conflict</a></p></li></ul></div></div></div></div></div><div class=\"ssrcss-1ocoo3l-Wrap e42f8511\"><div width=\"wide\" class=\"ssrcss-ahx90r-WrapWithWidth e42f8510\"><div data-component=\"image-block\" class=\"ssrcss-1pyuwv1-ComponentWrapper ep2nwvo1\"><figure class=\"ssrcss-8589xk-StyledFigure e34k3c23\"><div class=\"ssrcss-ab5fd8-StyledFigureContainer e34k3c21\"><span class=\"ssrcss-ez55ce-Placeholder etlorgc0\"><span><noscript><picture><source srcset=\"https://ichef.bbci.co.uk/news/240/cpsprodpb/1739F/production/_113753159_yqa_get_in_touch_top_no_yqa_text_640-nc.png.webp 240w, https://ichef.bbci.co.uk/news/320/cpsprodpb/1739F/production/_113753159_yqa_get_in_touch_top_no_yqa_text_640-nc.png.webp 320w, https://ichef.bbci.co.uk/news/480/cpsprodpb/1739F/production/_113753159_yqa_get_in_touch_top_no_yqa_text_640-nc.png.webp 480w, https://ichef.bbci.co.uk/news/624/cpsprodpb/1739F/production/_113753159_yqa_get_in_touch_top_no_yqa_text_640-nc.png.webp 624w, https://ichef.bbci.co.uk/news/800/cpsprodpb/1739F/production/_113753159_yqa_get_in_touch_top_no_yqa_text_640-nc.png.webp 800w, https://ichef.bbci.co.uk/news/976/cpsprodpb/1739F/production/_113753159_yqa_get_in_touch_top_no_yqa_text_640-nc.png.webp 976w\" type=\"image/webp\"/><img alt=\"Banner saying \\'Get in touch\\'\" loading=\"lazy\" src=\"https://ichef.bbci.co.uk/news/2048/cpsprodpb/1739F/production/_113753159_yqa_get_in_touch_top_no_yqa_text_640-nc.png\" srcset=\"https://ichef.bbci.co.uk/news/240/cpsprodpb/1739F/production/_113753159_yqa_get_in_touch_top_no_yqa_text_640-nc.png 240w, https://ichef.bbci.co.uk/news/320/cpsprodpb/1739F/production/_113753159_yqa_get_in_touch_top_no_yqa_text_640-nc.png 320w, https://ichef.bbci.co.uk/news/480/cpsprodpb/1739F/production/_113753159_yqa_get_in_touch_top_no_yqa_text_640-nc.png 480w, https://ichef.bbci.co.uk/news/624/cpsprodpb/1739F/production/_113753159_yqa_get_in_touch_top_no_yqa_text_640-nc.png 624w, https://ichef.bbci.co.uk/news/800/cpsprodpb/1739F/production/_113753159_yqa_get_in_touch_top_no_yqa_text_640-nc.png 800w, https://ichef.bbci.co.uk/news/976/cpsprodpb/1739F/production/_113753159_yqa_get_in_touch_top_no_yqa_text_640-nc.png 976w\" width=\"2048\" height=\"244.26666666666668\" class=\"ssrcss-11yxrdo-Image edrdn950\"/></picture></noscript></span></span></div></figure></div></div></div><div class=\"ssrcss-1ocoo3l-Wrap e42f8511\"><div width=\"wide\" class=\"ssrcss-ahx90r-WrapWithWidth e42f8510\"><div data-component=\"text-block\" class=\"ssrcss-5rhf4g-RichTextComponentWrapper ep2nwvo0\"><div class=\"ssrcss-7uxr49-RichTextContainer e5tfeyi1\"><p class=\"ssrcss-1q0x1qg-Paragraph e1jhz7w10\"><b class=\"ssrcss-1xjjfut-BoldText e5tfeyi3\">Are you personally affected by the issues raised in this story? If it is safe to do so, please get in touch by emailing </b><a href=\"mailto:haveyoursay@bbc.co.uk?subject=IsraelGaza\" class=\"ssrcss-f6h2dj-InlineLink e1kn3p7n0\">haveyoursay@bbc.co.uk<span class=\"visually-hidden ssrcss-1f39n02-VisuallyHidden e16en2lz0\">, <!-- -->external</span></a><b class=\"ssrcss-1xjjfut-BoldText e5tfeyi3\">.</b></p><p class=\"ssrcss-1q0x1qg-Paragraph e1jhz7w10\">Please include a contact number if you are willing to speak to a BBC journalist. You can also get in touch in the following ways:</p></div></div></div></div><div class=\"ssrcss-1ocoo3l-Wrap e42f8511\"><div width=\"wide\" class=\"ssrcss-ahx90r-WrapWithWidth e42f8510\"><div data-component=\"text-block\" class=\"ssrcss-5rhf4g-RichTextComponentWrapper ep2nwvo0\"><div class=\"ssrcss-7uxr49-RichTextContainer e5tfeyi1\"><div class=\"ssrcss-1o5f7ft-BulletListContainer e5tfeyi0\"><ul role=\"list\"><li><p class=\"ssrcss-1q0x1qg-Paragraph e1jhz7w10\">WhatsApp: <b class=\"ssrcss-1xjjfut-BoldText e5tfeyi3\">+44 7756 165803</b></p></li><li><p class=\"ssrcss-1q0x1qg-Paragraph e1jhz7w10\">Tweet: <a href=\"http://twitter.com/BBC_HaveYourSay\" class=\"ssrcss-f6h2dj-InlineLink e1kn3p7n0\">@BBC_HaveYourSay<span class=\"visually-hidden ssrcss-1f39n02-VisuallyHidden e16en2lz0\">, <!-- -->external</span></a></p></li><li><p class=\"ssrcss-1q0x1qg-Paragraph e1jhz7w10\"><a href=\"https://tinyurl.com/e66rejtn\" class=\"ssrcss-f6h2dj-InlineLink e1kn3p7n0\">Upload pictures or video<span class=\"visually-hidden ssrcss-1f39n02-VisuallyHidden e16en2lz0\">, <!-- -->external</span></a></p></li><li><p class=\"ssrcss-1q0x1qg-Paragraph e1jhz7w10\">Please read our <a href=\"http://www.bbc.co.uk/usingthebbc/terms/\" class=\"ssrcss-f6h2dj-InlineLink e1kn3p7n0\">terms &amp; conditions</a> and <a href=\"http://www.bbc.co.uk/usingthebbc/privacy-policy/\" class=\"ssrcss-f6h2dj-InlineLink e1kn3p7n0\">privacy policy</a></p></li></ul></div></div></div></div></div><div class=\"ssrcss-1ocoo3l-Wrap e42f8511\"><div width=\"wide\" class=\"ssrcss-ahx90r-WrapWithWidth e42f8510\"><div data-component=\"include-block\" class=\"ssrcss-mi5ytq-ComponentWrapper-IncludeComponentWrapper e1vuxjf42\"><div data-component=\"include-html\">\\n  \\n  \\n  \\n  <div id=\"hearken-curiosity-35428\" class=\"curiosity-module\" style=\"margin-top: 1.5em;\"/>\\n  \\n\\n</div></div></div></div><div class=\"ssrcss-1ocoo3l-Wrap e42f8511\"><div width=\"wide\" class=\"ssrcss-ahx90r-WrapWithWidth e42f8510\"/></div><div class=\"ssrcss-1ocoo3l-Wrap e42f8511\"><div width=\"wide\" class=\"ssrcss-ahx90r-WrapWithWidth e42f8510\"><div data-component=\"text-block\" class=\"ssrcss-5rhf4g-RichTextComponentWrapper ep2nwvo0\"><div class=\"ssrcss-7uxr49-RichTextContainer e5tfeyi1\"><p class=\"ssrcss-1q0x1qg-Paragraph e1jhz7w10\">If you are reading this page and can\\'t see the form you will need to visit the mobile version of the <a href=\"https://www.bbc.co.uk/news\" class=\"ssrcss-f6h2dj-InlineLink e1kn3p7n0\">BBC website</a> to submit your question or comment or you can email us at <a href=\"mailto:Haveyoursay@bbc.co.uk\" class=\"ssrcss-f6h2dj-InlineLink e1kn3p7n0\">HaveYourSay@bbc.co.uk<span class=\"visually-hidden ssrcss-1f39n02-VisuallyHidden e16en2lz0\">, <!-- -->external</span></a>. Please include your name, age and location with any submission. </p></div></div></div></div><div class=\"ssrcss-1ocoo3l-Wrap e42f8511\"><div width=\"wide\" class=\"ssrcss-ahx90r-WrapWithWidth e42f8510\"/></div><div class=\"ssrcss-1ocoo3l-Wrap e42f8511\"><div width=\"wide\" class=\"ssrcss-ahx90r-WrapWithWidth e42f8510\"><div data-component=\"topic-list\" class=\"ssrcss-7lrs3r-TopicListWrapper etw6iwl1\"><div class=\"ssrcss-smoc0a-StyledTagContainer ed0g1kj1\"><div class=\"ssrcss-50vlbt-TopicListHeaderWrapper etw6iwl0\"><h2 type=\"normal\" class=\"ssrcss-1hh51ad-Heading e10rt3ze0\">Related Topics</h2></div><div class=\"ssrcss-17ehax8-Cluster e1ihwmse1\"><ul role=\"list\" spacing=\"2\" class=\"ssrcss-1ujonwb-ClusterItems e1ihwmse0\"><li><a href=\"/news/world/middle_east\" class=\"ssrcss-w6az1r-StyledLink ed0g1kj0\">Middle East</a></li><li><a href=\"/news/topics/c2vdnvdg6xxt\" class=\"ssrcss-w6az1r-StyledLink ed0g1kj0\">Israel-Gaza war</a></li><li><a href=\"/news/topics/c302m85q5ljt\" class=\"ssrcss-w6az1r-StyledLink ed0g1kj0\">Israel</a></li><li><a href=\"/news/topics/cgv64vq5z82t\" class=\"ssrcss-w6az1r-StyledLink ed0g1kj0\">Gaza</a></li><li><a href=\"/news/topics/cnx753jen5zt\" class=\"ssrcss-w6az1r-StyledLink ed0g1kj0\">Hamas</a></li></ul></div></div></div></div></div><div class=\"ssrcss-1ocoo3l-Wrap e42f8511\"><div width=\"wide\" class=\"ssrcss-ahx90r-WrapWithWidth e42f8510\"><div data-component=\"links-block\" class=\"ssrcss-1e40jn6-LinksComponentWrapper e3eyuya0\"><section class=\"ssrcss-msolhr-LinksWrapper e3eyuya5\"><div class=\"ssrcss-1lqqmgw-LinksHeadingWrapper e3eyuya4\"><h2 type=\"normal\" class=\"ssrcss-1hh51ad-Heading e10rt3ze0\">More on this story</h2></div><ul role=\"list\" class=\"ssrcss-1ypkflt-EndOfContentLinksGrid e3eyuya2\"><li class=\"ssrcss-547yr3-PromoItem e3eyuya1\"><div data-testid=\"promo\" class=\"ssrcss-15xtq0e-Promo e1vyq2e80\"><div class=\"ssrcss-1i933za-PromoSwitchLayoutAtBreakpoints et5qctl0\"><div class=\"ssrcss-1d68cot-PromoContent exn3ah99\"><div spacing=\"2\" class=\"ssrcss-1f3bvyz-Stack e1y4nx260\"><a href=\"https://www.bbc.com/news/world-middle-east-67084408\" class=\"ssrcss-1mrs5ns-PromoLink exn3ah91\"><span role=\"text\"><p class=\"ssrcss-15dlehh-PromoHeadline exn3ah96\"><span aria-hidden=\"false\">Frank Gardner: Hostage crisis is toughest Israel has ever faced</span></p></span></a></div><div spacing=\"2\" class=\"ssrcss-1f3bvyz-Stack e1y4nx260\"><div><ul role=\"list\" class=\"ssrcss-j4gvkq-MetadataStripContainer eh44mf03\"><div class=\"ssrcss-13nu8ri-GroupChildrenForWrapping eh44mf02\"><li role=\"listitem\" class=\"ssrcss-30fcoe-MetadataStripItem eh44mf01\"><div class=\"visually-hidden ssrcss-1f39n02-VisuallyHidden e16en2lz0\">Published</div><div class=\"ssrcss-m5j4pi-MetadataContent eh44mf00\"><span class=\"ssrcss-1pvwv4b-MetadataSnippet e4wm5bw3\"><span class=\"ssrcss-1if1g9v-MetadataText e4wm5bw1\">11 October 2023</span></span></div></li></div></ul></div></div></div><div class=\"ssrcss-z60stg-PromoImageContainer en81kx34\"><div class=\"ssrcss-17h6w1t-PromoImageContainerInner en81kx32\"><div class=\"ssrcss-fec6qv-ImageWrapper en81kx33\"><span class=\"ssrcss-5zsoxt-Placeholder etlorgc0\"><span><noscript><picture><source srcset=\"https://ichef.bbci.co.uk/news/240/cpsprodpb/12A1/production/_131396740_d88a58a025b378124ad3629cd7902ceee3d834990_0_3744_24961000x667.jpg.webp 240w, https://ichef.bbci.co.uk/news/320/cpsprodpb/12A1/production/_131396740_d88a58a025b378124ad3629cd7902ceee3d834990_0_3744_24961000x667.jpg.webp 320w, https://ichef.bbci.co.uk/news/480/cpsprodpb/12A1/production/_131396740_d88a58a025b378124ad3629cd7902ceee3d834990_0_3744_24961000x667.jpg.webp 480w, https://ichef.bbci.co.uk/news/624/cpsprodpb/12A1/production/_131396740_d88a58a025b378124ad3629cd7902ceee3d834990_0_3744_24961000x667.jpg.webp 624w, https://ichef.bbci.co.uk/news/800/cpsprodpb/12A1/production/_131396740_d88a58a025b378124ad3629cd7902ceee3d834990_0_3744_24961000x667.jpg.webp 800w, https://ichef.bbci.co.uk/news/976/cpsprodpb/12A1/production/_131396740_d88a58a025b378124ad3629cd7902ceee3d834990_0_3744_24961000x667.jpg.webp 976w\" type=\"image/webp\"/><img alt=\"Hamas members, july 2023\" loading=\"lazy\" src=\"https://ichef.bbci.co.uk/news/976/cpsprodpb/12A1/production/_131396740_d88a58a025b378124ad3629cd7902ceee3d834990_0_3744_24961000x667.jpg\" srcset=\"https://ichef.bbci.co.uk/news/240/cpsprodpb/12A1/production/_131396740_d88a58a025b378124ad3629cd7902ceee3d834990_0_3744_24961000x667.jpg 240w, https://ichef.bbci.co.uk/news/320/cpsprodpb/12A1/production/_131396740_d88a58a025b378124ad3629cd7902ceee3d834990_0_3744_24961000x667.jpg 320w, https://ichef.bbci.co.uk/news/480/cpsprodpb/12A1/production/_131396740_d88a58a025b378124ad3629cd7902ceee3d834990_0_3744_24961000x667.jpg 480w, https://ichef.bbci.co.uk/news/624/cpsprodpb/12A1/production/_131396740_d88a58a025b378124ad3629cd7902ceee3d834990_0_3744_24961000x667.jpg 624w, https://ichef.bbci.co.uk/news/800/cpsprodpb/12A1/production/_131396740_d88a58a025b378124ad3629cd7902ceee3d834990_0_3744_24961000x667.jpg 800w, https://ichef.bbci.co.uk/news/976/cpsprodpb/12A1/production/_131396740_d88a58a025b378124ad3629cd7902ceee3d834990_0_3744_24961000x667.jpg 976w\" width=\"976\" height=\"549\" class=\"ssrcss-11yxrdo-Image edrdn950\"/></picture></noscript></span></span></div></div></div></div></div></li><li class=\"ssrcss-547yr3-PromoItem e3eyuya1\"><div data-testid=\"promo\" class=\"ssrcss-15xtq0e-Promo e1vyq2e80\"><div class=\"ssrcss-1i933za-PromoSwitchLayoutAtBreakpoints et5qctl0\"><div class=\"ssrcss-1d68cot-PromoContent exn3ah99\"><div spacing=\"2\" class=\"ssrcss-1f3bvyz-Stack e1y4nx260\"><a href=\"https://www.bbc.com/news/live/world-middle-east-67073970\" class=\"ssrcss-1mrs5ns-PromoLink exn3ah91\"><span role=\"text\"><p class=\"ssrcss-15dlehh-PromoHeadline exn3ah96\"><span aria-hidden=\"false\">Gaza situation dire, UN says, as Israeli military admits security failures</span></p></span></a></div><div spacing=\"2\" class=\"ssrcss-1f3bvyz-Stack e1y4nx260\"><div><ul role=\"list\" class=\"ssrcss-j4gvkq-MetadataStripContainer eh44mf03\"><div class=\"ssrcss-13nu8ri-GroupChildrenForWrapping eh44mf02\"><li role=\"listitem\" class=\"ssrcss-30fcoe-MetadataStripItem eh44mf01\"><div class=\"visually-hidden ssrcss-1f39n02-VisuallyHidden e16en2lz0\">Published</div><div class=\"ssrcss-m5j4pi-MetadataContent eh44mf00\"><span class=\"ssrcss-1pvwv4b-MetadataSnippet e4wm5bw3\"><span class=\"ssrcss-1if1g9v-MetadataText e4wm5bw1\">11 October 2023</span></span></div></li></div></ul></div></div></div><div class=\"ssrcss-z60stg-PromoImageContainer en81kx34\"><div class=\"ssrcss-17h6w1t-PromoImageContainerInner en81kx32\"><div class=\"ssrcss-fec6qv-ImageWrapper en81kx33\"><span class=\"ssrcss-5zsoxt-Placeholder etlorgc0\"><span><noscript><picture><source srcset=\"https://ichef.bbci.co.uk/news/240/cpsprodpb/B77A/production/_131407964_0bc92d57064558cb2727ef08125bd217b37d3cf10_0_7128_47521000x667.jpg.webp 240w, https://ichef.bbci.co.uk/news/320/cpsprodpb/B77A/production/_131407964_0bc92d57064558cb2727ef08125bd217b37d3cf10_0_7128_47521000x667.jpg.webp 320w, https://ichef.bbci.co.uk/news/480/cpsprodpb/B77A/production/_131407964_0bc92d57064558cb2727ef08125bd217b37d3cf10_0_7128_47521000x667.jpg.webp 480w, https://ichef.bbci.co.uk/news/624/cpsprodpb/B77A/production/_131407964_0bc92d57064558cb2727ef08125bd217b37d3cf10_0_7128_47521000x667.jpg.webp 624w, https://ichef.bbci.co.uk/news/800/cpsprodpb/B77A/production/_131407964_0bc92d57064558cb2727ef08125bd217b37d3cf10_0_7128_47521000x667.jpg.webp 800w, https://ichef.bbci.co.uk/news/976/cpsprodpb/B77A/production/_131407964_0bc92d57064558cb2727ef08125bd217b37d3cf10_0_7128_47521000x667.jpg.webp 976w\" type=\"image/webp\"/><img alt=\"Smoke rises following an Israeli air strike in northern Gaza City\" loading=\"lazy\" src=\"https://ichef.bbci.co.uk/news/976/cpsprodpb/B77A/production/_131407964_0bc92d57064558cb2727ef08125bd217b37d3cf10_0_7128_47521000x667.jpg\" srcset=\"https://ichef.bbci.co.uk/news/240/cpsprodpb/B77A/production/_131407964_0bc92d57064558cb2727ef08125bd217b37d3cf10_0_7128_47521000x667.jpg 240w, https://ichef.bbci.co.uk/news/320/cpsprodpb/B77A/production/_131407964_0bc92d57064558cb2727ef08125bd217b37d3cf10_0_7128_47521000x667.jpg 320w, https://ichef.bbci.co.uk/news/480/cpsprodpb/B77A/production/_131407964_0bc92d57064558cb2727ef08125bd217b37d3cf10_0_7128_47521000x667.jpg 480w, https://ichef.bbci.co.uk/news/624/cpsprodpb/B77A/production/_131407964_0bc92d57064558cb2727ef08125bd217b37d3cf10_0_7128_47521000x667.jpg 624w, https://ichef.bbci.co.uk/news/800/cpsprodpb/B77A/production/_131407964_0bc92d57064558cb2727ef08125bd217b37d3cf10_0_7128_47521000x667.jpg 800w, https://ichef.bbci.co.uk/news/976/cpsprodpb/B77A/production/_131407964_0bc92d57064558cb2727ef08125bd217b37d3cf10_0_7128_47521000x667.jpg 976w\" width=\"976\" height=\"549\" class=\"ssrcss-11yxrdo-Image edrdn950\"/></picture></noscript></span></span></div></div></div></div></div></li><li class=\"ssrcss-547yr3-PromoItem e3eyuya1\"><div data-testid=\"promo\" class=\"ssrcss-15xtq0e-Promo e1vyq2e80\"><div class=\"ssrcss-1i933za-PromoSwitchLayoutAtBreakpoints et5qctl0\"><div class=\"ssrcss-1d68cot-PromoContent exn3ah99\"><div spacing=\"2\" class=\"ssrcss-1f3bvyz-Stack e1y4nx260\"><a href=\"https://www.bbc.com/news/world-middle-east-67047034\" class=\"ssrcss-1mrs5ns-PromoLink exn3ah91\"><span role=\"text\"><p class=\"ssrcss-15dlehh-PromoHeadline exn3ah96\"><span aria-hidden=\"false\">260 bodies recovered from \\'horror movie\\' festival scene</span></p></span></a></div><div spacing=\"2\" class=\"ssrcss-1f3bvyz-Stack e1y4nx260\"><div><ul role=\"list\" class=\"ssrcss-j4gvkq-MetadataStripContainer eh44mf03\"><div class=\"ssrcss-13nu8ri-GroupChildrenForWrapping eh44mf02\"><li role=\"listitem\" class=\"ssrcss-30fcoe-MetadataStripItem eh44mf01\"><div class=\"visually-hidden ssrcss-1f39n02-VisuallyHidden e16en2lz0\">Published</div><div class=\"ssrcss-m5j4pi-MetadataContent eh44mf00\"><span class=\"ssrcss-1pvwv4b-MetadataSnippet e4wm5bw3\"><span class=\"ssrcss-1if1g9v-MetadataText e4wm5bw1\">9 October 2023</span></span></div></li></div></ul></div></div></div><div class=\"ssrcss-z60stg-PromoImageContainer en81kx34\"><div class=\"ssrcss-17h6w1t-PromoImageContainerInner en81kx32\"><div class=\"ssrcss-fec6qv-ImageWrapper en81kx33\"><span class=\"ssrcss-5zsoxt-Placeholder etlorgc0\"><span><noscript><picture><source srcset=\"https://ichef.bbci.co.uk/news/240/cpsprodpb/EEE4/production/_131365116_festival-index2-social.jpg.webp 240w, https://ichef.bbci.co.uk/news/320/cpsprodpb/EEE4/production/_131365116_festival-index2-social.jpg.webp 320w, https://ichef.bbci.co.uk/news/480/cpsprodpb/EEE4/production/_131365116_festival-index2-social.jpg.webp 480w, https://ichef.bbci.co.uk/news/624/cpsprodpb/EEE4/production/_131365116_festival-index2-social.jpg.webp 624w, https://ichef.bbci.co.uk/news/800/cpsprodpb/EEE4/production/_131365116_festival-index2-social.jpg.webp 800w, https://ichef.bbci.co.uk/news/976/cpsprodpb/EEE4/production/_131365116_festival-index2-social.jpg.webp 976w\" type=\"image/webp\"/><img alt=\"Partygoer runs for life\" loading=\"lazy\" src=\"https://ichef.bbci.co.uk/news/976/cpsprodpb/EEE4/production/_131365116_festival-index2-social.jpg\" srcset=\"https://ichef.bbci.co.uk/news/240/cpsprodpb/EEE4/production/_131365116_festival-index2-social.jpg 240w, https://ichef.bbci.co.uk/news/320/cpsprodpb/EEE4/production/_131365116_festival-index2-social.jpg 320w, https://ichef.bbci.co.uk/news/480/cpsprodpb/EEE4/production/_131365116_festival-index2-social.jpg 480w, https://ichef.bbci.co.uk/news/624/cpsprodpb/EEE4/production/_131365116_festival-index2-social.jpg 624w, https://ichef.bbci.co.uk/news/800/cpsprodpb/EEE4/production/_131365116_festival-index2-social.jpg 800w, https://ichef.bbci.co.uk/news/976/cpsprodpb/EEE4/production/_131365116_festival-index2-social.jpg 976w\" width=\"976\" height=\"549\" class=\"ssrcss-11yxrdo-Image edrdn950\"/></picture></noscript></span></span></div></div></div></div></div></li><li class=\"ssrcss-547yr3-PromoItem e3eyuya1\"><div data-testid=\"promo\" class=\"ssrcss-15xtq0e-Promo e1vyq2e80\"><div class=\"ssrcss-1i933za-PromoSwitchLayoutAtBreakpoints et5qctl0\"><div class=\"ssrcss-1d68cot-PromoContent exn3ah99\"><div spacing=\"2\" class=\"ssrcss-1f3bvyz-Stack e1y4nx260\"><a href=\"https://www.bbc.com/news/world-middle-east-67048672\" class=\"ssrcss-1mrs5ns-PromoLink exn3ah91\"><span role=\"text\"><p class=\"ssrcss-15dlehh-PromoHeadline exn3ah96\"><span aria-hidden=\"false\">\\'Nobody could help us\\' - Shock and anger in Israel\\'s Ashkelon</span></p></span></a></div><div spacing=\"2\" class=\"ssrcss-1f3bvyz-Stack e1y4nx260\"><div><ul role=\"list\" class=\"ssrcss-j4gvkq-MetadataStripContainer eh44mf03\"><div class=\"ssrcss-13nu8ri-GroupChildrenForWrapping eh44mf02\"><li role=\"listitem\" class=\"ssrcss-30fcoe-MetadataStripItem eh44mf01\"><div class=\"visually-hidden ssrcss-1f39n02-VisuallyHidden e16en2lz0\">Published</div><div class=\"ssrcss-m5j4pi-MetadataContent eh44mf00\"><span class=\"ssrcss-1pvwv4b-MetadataSnippet e4wm5bw3\"><span class=\"ssrcss-1if1g9v-MetadataText e4wm5bw1\">8 October 2023</span></span></div></li></div></ul></div></div></div><div class=\"ssrcss-z60stg-PromoImageContainer en81kx34\"><div class=\"ssrcss-17h6w1t-PromoImageContainerInner en81kx32\"><div class=\"ssrcss-fec6qv-ImageWrapper en81kx33\"><span class=\"ssrcss-5zsoxt-Placeholder etlorgc0\"><span><noscript><picture><source srcset=\"https://ichef.bbci.co.uk/news/240/cpsprodpb/731A/production/_131366492_ezra.png.webp 240w, https://ichef.bbci.co.uk/news/320/cpsprodpb/731A/production/_131366492_ezra.png.webp 320w, https://ichef.bbci.co.uk/news/480/cpsprodpb/731A/production/_131366492_ezra.png.webp 480w, https://ichef.bbci.co.uk/news/624/cpsprodpb/731A/production/_131366492_ezra.png.webp 624w, https://ichef.bbci.co.uk/news/800/cpsprodpb/731A/production/_131366492_ezra.png.webp 800w, https://ichef.bbci.co.uk/news/976/cpsprodpb/731A/production/_131366492_ezra.png.webp 976w\" type=\"image/webp\"/><img alt=\"Rachel Ezra is distraught as she pleads for help to find her missing son Oz and his girlfriend Naomi\" loading=\"lazy\" src=\"https://ichef.bbci.co.uk/news/976/cpsprodpb/731A/production/_131366492_ezra.png\" srcset=\"https://ichef.bbci.co.uk/news/240/cpsprodpb/731A/production/_131366492_ezra.png 240w, https://ichef.bbci.co.uk/news/320/cpsprodpb/731A/production/_131366492_ezra.png 320w, https://ichef.bbci.co.uk/news/480/cpsprodpb/731A/production/_131366492_ezra.png 480w, https://ichef.bbci.co.uk/news/624/cpsprodpb/731A/production/_131366492_ezra.png 624w, https://ichef.bbci.co.uk/news/800/cpsprodpb/731A/production/_131366492_ezra.png 800w, https://ichef.bbci.co.uk/news/976/cpsprodpb/731A/production/_131366492_ezra.png 976w\" width=\"976\" height=\"549\" class=\"ssrcss-11yxrdo-Image edrdn950\"/></picture></noscript></span></span></div></div></div></div></div></li><li class=\"ssrcss-547yr3-PromoItem e3eyuya1\"><div data-testid=\"promo\" class=\"ssrcss-15xtq0e-Promo e1vyq2e80\"><div class=\"ssrcss-1i933za-PromoSwitchLayoutAtBreakpoints et5qctl0\"><div class=\"ssrcss-1d68cot-PromoContent exn3ah99\"><div spacing=\"2\" class=\"ssrcss-1f3bvyz-Stack e1y4nx260\"><a href=\"https://www.bbc.com/news/world-middle-east-67046750\" class=\"ssrcss-1mrs5ns-PromoLink exn3ah91\"><span role=\"text\"><p class=\"ssrcss-15dlehh-PromoHeadline exn3ah96\"><span aria-hidden=\"false\">How Hamas staged lightning assault no-one thought possible</span></p></span></a></div><div spacing=\"2\" class=\"ssrcss-1f3bvyz-Stack e1y4nx260\"><div><ul role=\"list\" class=\"ssrcss-j4gvkq-MetadataStripContainer eh44mf03\"><div class=\"ssrcss-13nu8ri-GroupChildrenForWrapping eh44mf02\"><li role=\"listitem\" class=\"ssrcss-30fcoe-MetadataStripItem eh44mf01\"><div class=\"visually-hidden ssrcss-1f39n02-VisuallyHidden e16en2lz0\">Published</div><div class=\"ssrcss-m5j4pi-MetadataContent eh44mf00\"><span class=\"ssrcss-1pvwv4b-MetadataSnippet e4wm5bw3\"><span class=\"ssrcss-1if1g9v-MetadataText e4wm5bw1\">8 October 2023</span></span></div></li></div></ul></div></div></div><div class=\"ssrcss-z60stg-PromoImageContainer en81kx34\"><div class=\"ssrcss-17h6w1t-PromoImageContainerInner en81kx32\"><div class=\"ssrcss-fec6qv-ImageWrapper en81kx33\"><span class=\"ssrcss-5zsoxt-Placeholder etlorgc0\"><span><noscript><picture><source srcset=\"https://ichef.bbci.co.uk/news/240/cpsprodpb/13B10/production/_131365608_microsoftteams-image-5.png.webp 240w, https://ichef.bbci.co.uk/news/320/cpsprodpb/13B10/production/_131365608_microsoftteams-image-5.png.webp 320w, https://ichef.bbci.co.uk/news/480/cpsprodpb/13B10/production/_131365608_microsoftteams-image-5.png.webp 480w, https://ichef.bbci.co.uk/news/624/cpsprodpb/13B10/production/_131365608_microsoftteams-image-5.png.webp 624w, https://ichef.bbci.co.uk/news/800/cpsprodpb/13B10/production/_131365608_microsoftteams-image-5.png.webp 800w, https://ichef.bbci.co.uk/news/976/cpsprodpb/13B10/production/_131365608_microsoftteams-image-5.png.webp 976w\" type=\"image/webp\"/><img alt=\"Hamas militants on the back of a vehicle\" loading=\"lazy\" src=\"https://ichef.bbci.co.uk/news/976/cpsprodpb/13B10/production/_131365608_microsoftteams-image-5.png\" srcset=\"https://ichef.bbci.co.uk/news/240/cpsprodpb/13B10/production/_131365608_microsoftteams-image-5.png 240w, https://ichef.bbci.co.uk/news/320/cpsprodpb/13B10/production/_131365608_microsoftteams-image-5.png 320w, https://ichef.bbci.co.uk/news/480/cpsprodpb/13B10/production/_131365608_microsoftteams-image-5.png 480w, https://ichef.bbci.co.uk/news/624/cpsprodpb/13B10/production/_131365608_microsoftteams-image-5.png 624w, https://ichef.bbci.co.uk/news/800/cpsprodpb/13B10/production/_131365608_microsoftteams-image-5.png 800w, https://ichef.bbci.co.uk/news/976/cpsprodpb/13B10/production/_131365608_microsoftteams-image-5.png 976w\" width=\"976\" height=\"549\" class=\"ssrcss-11yxrdo-Image edrdn950\"/></picture></noscript></span></span></div></div></div></div></div></li></ul></section></div></div></div></article>'"
      ]
     },
     "execution_count": 53,
     "metadata": {},
     "output_type": "execute_result"
    }
   ],
   "source": [
    "outer_html"
   ]
  },
  {
   "cell_type": "code",
   "execution_count": 160,
   "metadata": {},
   "outputs": [
    {
     "data": {
      "text/plain": [
       "['Driver 82 dies after hitting stone wall Google The incident happened on Chapel Street on Thursday An 82-year-old driver has died after his car hit a stone wall in Barnsley The mans Red Vauxhall Vectra collided with the wall at the junction of Chapel Street in Ardsley at about 11:26 BST on Thursday South Yorkshire Police said He was taken to hospital but later died from his injuries Police have appealed for anyone with information or dashcam footage of the crash to come forward']"
      ]
     },
     "execution_count": 160,
     "metadata": {},
     "output_type": "execute_result"
    }
   ],
   "source": [
    "article_body"
   ]
  },
  {
   "cell_type": "markdown",
   "metadata": {},
   "source": [
    "## Embeding and similarity check"
   ]
  },
  {
   "cell_type": "code",
   "execution_count": 72,
   "metadata": {},
   "outputs": [
    {
     "name": "stderr",
     "output_type": "stream",
     "text": [
      "c:\\Users\\amoha\\anaconda3\\envs\\cuda\\lib\\site-packages\\huggingface_hub\\file_download.py:1132: FutureWarning: `resume_download` is deprecated and will be removed in version 1.0.0. Downloads always resume when possible. If you want to force a new download, use `force_download=True`.\n",
      "  warnings.warn(\n",
      "Some weights of DPRQuestionEncoder were not initialized from the model checkpoint at facebook/dpr-ctx_encoder-single-nq-base and are newly initialized: ['bert_model.embeddings.LayerNorm.bias', 'bert_model.embeddings.LayerNorm.weight', 'bert_model.embeddings.position_embeddings.weight', 'bert_model.embeddings.token_type_embeddings.weight', 'bert_model.embeddings.word_embeddings.weight', 'bert_model.encoder.layer.0.attention.output.LayerNorm.bias', 'bert_model.encoder.layer.0.attention.output.LayerNorm.weight', 'bert_model.encoder.layer.0.attention.output.dense.bias', 'bert_model.encoder.layer.0.attention.output.dense.weight', 'bert_model.encoder.layer.0.attention.self.key.bias', 'bert_model.encoder.layer.0.attention.self.key.weight', 'bert_model.encoder.layer.0.attention.self.query.bias', 'bert_model.encoder.layer.0.attention.self.query.weight', 'bert_model.encoder.layer.0.attention.self.value.bias', 'bert_model.encoder.layer.0.attention.self.value.weight', 'bert_model.encoder.layer.0.intermediate.dense.bias', 'bert_model.encoder.layer.0.intermediate.dense.weight', 'bert_model.encoder.layer.0.output.LayerNorm.bias', 'bert_model.encoder.layer.0.output.LayerNorm.weight', 'bert_model.encoder.layer.0.output.dense.bias', 'bert_model.encoder.layer.0.output.dense.weight', 'bert_model.encoder.layer.1.attention.output.LayerNorm.bias', 'bert_model.encoder.layer.1.attention.output.LayerNorm.weight', 'bert_model.encoder.layer.1.attention.output.dense.bias', 'bert_model.encoder.layer.1.attention.output.dense.weight', 'bert_model.encoder.layer.1.attention.self.key.bias', 'bert_model.encoder.layer.1.attention.self.key.weight', 'bert_model.encoder.layer.1.attention.self.query.bias', 'bert_model.encoder.layer.1.attention.self.query.weight', 'bert_model.encoder.layer.1.attention.self.value.bias', 'bert_model.encoder.layer.1.attention.self.value.weight', 'bert_model.encoder.layer.1.intermediate.dense.bias', 'bert_model.encoder.layer.1.intermediate.dense.weight', 'bert_model.encoder.layer.1.output.LayerNorm.bias', 'bert_model.encoder.layer.1.output.LayerNorm.weight', 'bert_model.encoder.layer.1.output.dense.bias', 'bert_model.encoder.layer.1.output.dense.weight', 'bert_model.encoder.layer.10.attention.output.LayerNorm.bias', 'bert_model.encoder.layer.10.attention.output.LayerNorm.weight', 'bert_model.encoder.layer.10.attention.output.dense.bias', 'bert_model.encoder.layer.10.attention.output.dense.weight', 'bert_model.encoder.layer.10.attention.self.key.bias', 'bert_model.encoder.layer.10.attention.self.key.weight', 'bert_model.encoder.layer.10.attention.self.query.bias', 'bert_model.encoder.layer.10.attention.self.query.weight', 'bert_model.encoder.layer.10.attention.self.value.bias', 'bert_model.encoder.layer.10.attention.self.value.weight', 'bert_model.encoder.layer.10.intermediate.dense.bias', 'bert_model.encoder.layer.10.intermediate.dense.weight', 'bert_model.encoder.layer.10.output.LayerNorm.bias', 'bert_model.encoder.layer.10.output.LayerNorm.weight', 'bert_model.encoder.layer.10.output.dense.bias', 'bert_model.encoder.layer.10.output.dense.weight', 'bert_model.encoder.layer.11.attention.output.LayerNorm.bias', 'bert_model.encoder.layer.11.attention.output.LayerNorm.weight', 'bert_model.encoder.layer.11.attention.output.dense.bias', 'bert_model.encoder.layer.11.attention.output.dense.weight', 'bert_model.encoder.layer.11.attention.self.key.bias', 'bert_model.encoder.layer.11.attention.self.key.weight', 'bert_model.encoder.layer.11.attention.self.query.bias', 'bert_model.encoder.layer.11.attention.self.query.weight', 'bert_model.encoder.layer.11.attention.self.value.bias', 'bert_model.encoder.layer.11.attention.self.value.weight', 'bert_model.encoder.layer.11.intermediate.dense.bias', 'bert_model.encoder.layer.11.intermediate.dense.weight', 'bert_model.encoder.layer.11.output.LayerNorm.bias', 'bert_model.encoder.layer.11.output.LayerNorm.weight', 'bert_model.encoder.layer.11.output.dense.bias', 'bert_model.encoder.layer.11.output.dense.weight', 'bert_model.encoder.layer.2.attention.output.LayerNorm.bias', 'bert_model.encoder.layer.2.attention.output.LayerNorm.weight', 'bert_model.encoder.layer.2.attention.output.dense.bias', 'bert_model.encoder.layer.2.attention.output.dense.weight', 'bert_model.encoder.layer.2.attention.self.key.bias', 'bert_model.encoder.layer.2.attention.self.key.weight', 'bert_model.encoder.layer.2.attention.self.query.bias', 'bert_model.encoder.layer.2.attention.self.query.weight', 'bert_model.encoder.layer.2.attention.self.value.bias', 'bert_model.encoder.layer.2.attention.self.value.weight', 'bert_model.encoder.layer.2.intermediate.dense.bias', 'bert_model.encoder.layer.2.intermediate.dense.weight', 'bert_model.encoder.layer.2.output.LayerNorm.bias', 'bert_model.encoder.layer.2.output.LayerNorm.weight', 'bert_model.encoder.layer.2.output.dense.bias', 'bert_model.encoder.layer.2.output.dense.weight', 'bert_model.encoder.layer.3.attention.output.LayerNorm.bias', 'bert_model.encoder.layer.3.attention.output.LayerNorm.weight', 'bert_model.encoder.layer.3.attention.output.dense.bias', 'bert_model.encoder.layer.3.attention.output.dense.weight', 'bert_model.encoder.layer.3.attention.self.key.bias', 'bert_model.encoder.layer.3.attention.self.key.weight', 'bert_model.encoder.layer.3.attention.self.query.bias', 'bert_model.encoder.layer.3.attention.self.query.weight', 'bert_model.encoder.layer.3.attention.self.value.bias', 'bert_model.encoder.layer.3.attention.self.value.weight', 'bert_model.encoder.layer.3.intermediate.dense.bias', 'bert_model.encoder.layer.3.intermediate.dense.weight', 'bert_model.encoder.layer.3.output.LayerNorm.bias', 'bert_model.encoder.layer.3.output.LayerNorm.weight', 'bert_model.encoder.layer.3.output.dense.bias', 'bert_model.encoder.layer.3.output.dense.weight', 'bert_model.encoder.layer.4.attention.output.LayerNorm.bias', 'bert_model.encoder.layer.4.attention.output.LayerNorm.weight', 'bert_model.encoder.layer.4.attention.output.dense.bias', 'bert_model.encoder.layer.4.attention.output.dense.weight', 'bert_model.encoder.layer.4.attention.self.key.bias', 'bert_model.encoder.layer.4.attention.self.key.weight', 'bert_model.encoder.layer.4.attention.self.query.bias', 'bert_model.encoder.layer.4.attention.self.query.weight', 'bert_model.encoder.layer.4.attention.self.value.bias', 'bert_model.encoder.layer.4.attention.self.value.weight', 'bert_model.encoder.layer.4.intermediate.dense.bias', 'bert_model.encoder.layer.4.intermediate.dense.weight', 'bert_model.encoder.layer.4.output.LayerNorm.bias', 'bert_model.encoder.layer.4.output.LayerNorm.weight', 'bert_model.encoder.layer.4.output.dense.bias', 'bert_model.encoder.layer.4.output.dense.weight', 'bert_model.encoder.layer.5.attention.output.LayerNorm.bias', 'bert_model.encoder.layer.5.attention.output.LayerNorm.weight', 'bert_model.encoder.layer.5.attention.output.dense.bias', 'bert_model.encoder.layer.5.attention.output.dense.weight', 'bert_model.encoder.layer.5.attention.self.key.bias', 'bert_model.encoder.layer.5.attention.self.key.weight', 'bert_model.encoder.layer.5.attention.self.query.bias', 'bert_model.encoder.layer.5.attention.self.query.weight', 'bert_model.encoder.layer.5.attention.self.value.bias', 'bert_model.encoder.layer.5.attention.self.value.weight', 'bert_model.encoder.layer.5.intermediate.dense.bias', 'bert_model.encoder.layer.5.intermediate.dense.weight', 'bert_model.encoder.layer.5.output.LayerNorm.bias', 'bert_model.encoder.layer.5.output.LayerNorm.weight', 'bert_model.encoder.layer.5.output.dense.bias', 'bert_model.encoder.layer.5.output.dense.weight', 'bert_model.encoder.layer.6.attention.output.LayerNorm.bias', 'bert_model.encoder.layer.6.attention.output.LayerNorm.weight', 'bert_model.encoder.layer.6.attention.output.dense.bias', 'bert_model.encoder.layer.6.attention.output.dense.weight', 'bert_model.encoder.layer.6.attention.self.key.bias', 'bert_model.encoder.layer.6.attention.self.key.weight', 'bert_model.encoder.layer.6.attention.self.query.bias', 'bert_model.encoder.layer.6.attention.self.query.weight', 'bert_model.encoder.layer.6.attention.self.value.bias', 'bert_model.encoder.layer.6.attention.self.value.weight', 'bert_model.encoder.layer.6.intermediate.dense.bias', 'bert_model.encoder.layer.6.intermediate.dense.weight', 'bert_model.encoder.layer.6.output.LayerNorm.bias', 'bert_model.encoder.layer.6.output.LayerNorm.weight', 'bert_model.encoder.layer.6.output.dense.bias', 'bert_model.encoder.layer.6.output.dense.weight', 'bert_model.encoder.layer.7.attention.output.LayerNorm.bias', 'bert_model.encoder.layer.7.attention.output.LayerNorm.weight', 'bert_model.encoder.layer.7.attention.output.dense.bias', 'bert_model.encoder.layer.7.attention.output.dense.weight', 'bert_model.encoder.layer.7.attention.self.key.bias', 'bert_model.encoder.layer.7.attention.self.key.weight', 'bert_model.encoder.layer.7.attention.self.query.bias', 'bert_model.encoder.layer.7.attention.self.query.weight', 'bert_model.encoder.layer.7.attention.self.value.bias', 'bert_model.encoder.layer.7.attention.self.value.weight', 'bert_model.encoder.layer.7.intermediate.dense.bias', 'bert_model.encoder.layer.7.intermediate.dense.weight', 'bert_model.encoder.layer.7.output.LayerNorm.bias', 'bert_model.encoder.layer.7.output.LayerNorm.weight', 'bert_model.encoder.layer.7.output.dense.bias', 'bert_model.encoder.layer.7.output.dense.weight', 'bert_model.encoder.layer.8.attention.output.LayerNorm.bias', 'bert_model.encoder.layer.8.attention.output.LayerNorm.weight', 'bert_model.encoder.layer.8.attention.output.dense.bias', 'bert_model.encoder.layer.8.attention.output.dense.weight', 'bert_model.encoder.layer.8.attention.self.key.bias', 'bert_model.encoder.layer.8.attention.self.key.weight', 'bert_model.encoder.layer.8.attention.self.query.bias', 'bert_model.encoder.layer.8.attention.self.query.weight', 'bert_model.encoder.layer.8.attention.self.value.bias', 'bert_model.encoder.layer.8.attention.self.value.weight', 'bert_model.encoder.layer.8.intermediate.dense.bias', 'bert_model.encoder.layer.8.intermediate.dense.weight', 'bert_model.encoder.layer.8.output.LayerNorm.bias', 'bert_model.encoder.layer.8.output.LayerNorm.weight', 'bert_model.encoder.layer.8.output.dense.bias', 'bert_model.encoder.layer.8.output.dense.weight', 'bert_model.encoder.layer.9.attention.output.LayerNorm.bias', 'bert_model.encoder.layer.9.attention.output.LayerNorm.weight', 'bert_model.encoder.layer.9.attention.output.dense.bias', 'bert_model.encoder.layer.9.attention.output.dense.weight', 'bert_model.encoder.layer.9.attention.self.key.bias', 'bert_model.encoder.layer.9.attention.self.key.weight', 'bert_model.encoder.layer.9.attention.self.query.bias', 'bert_model.encoder.layer.9.attention.self.query.weight', 'bert_model.encoder.layer.9.attention.self.value.bias', 'bert_model.encoder.layer.9.attention.self.value.weight', 'bert_model.encoder.layer.9.intermediate.dense.bias', 'bert_model.encoder.layer.9.intermediate.dense.weight', 'bert_model.encoder.layer.9.output.LayerNorm.bias', 'bert_model.encoder.layer.9.output.LayerNorm.weight', 'bert_model.encoder.layer.9.output.dense.bias', 'bert_model.encoder.layer.9.output.dense.weight']\n",
      "You should probably TRAIN this model on a down-stream task to be able to use it for predictions and inference.\n"
     ]
    },
    {
     "name": "stdout",
     "output_type": "stream",
     "text": [
      "Using device: cuda\n",
      "0/20\n",
      "1/20\n",
      "2/20\n",
      "3/20\n",
      "4/20\n",
      "5/20\n",
      "6/20\n",
      "7/20\n",
      "8/20\n",
      "9/20\n",
      "10/20\n",
      "11/20\n",
      "12/20\n",
      "13/20\n",
      "14/20\n",
      "15/20\n",
      "16/20\n",
      "17/20\n",
      "18/20\n",
      "19/20\n",
      "20/20\n",
      "Encoding completed.\n"
     ]
    }
   ],
   "source": [
    "import torch\n",
    "from transformers import DPRQuestionEncoder, DPRQuestionEncoderTokenizer\n",
    "import re\n",
    "\n",
    "# Check if GPU is available\n",
    "device = torch.device(\"cuda\" if torch.cuda.is_available() else \"cpu\")\n",
    "\n",
    "article_main_body = list(bbc_news.values())\n",
    "\n",
    "# Load tokenizer and model\n",
    "tokenizer = DPRQuestionEncoderTokenizer.from_pretrained(\"facebook/dpr-ctx_encoder-single-nq-base\")\n",
    "encoder = DPRQuestionEncoder.from_pretrained(\"facebook/dpr-ctx_encoder-single-nq-base\").to(device)\n",
    "if torch.cuda.device_count() > 1:\n",
    "    encoder = torch.nn.DataParallel(encoder)\n",
    "\n",
    "print(\"Using device:\", device)\n",
    "\n",
    "# Initialize an empty list to store embeddings\n",
    "embeddings = []\n",
    "\n",
    "# Process and encode each article body\n",
    "for i, data in enumerate(article_main_body):\n",
    "    # Tokenize with padding\n",
    "    inputs = tokenizer(\"\".join(data), return_tensors=\"pt\", padding='max_length', truncation=True, max_length=512).to(device)  # Move inputs to GPU\n",
    "    with torch.no_grad():  # No need to track gradients during inference\n",
    "        embedding = encoder(**inputs).pooler_output\n",
    "    embeddings.append(embedding)\n",
    "    if i % 10 == 0:\n",
    "        print(f\"{i // 10}/{len(article_main_body) // 10}\")\n",
    "\n",
    "print(\"Encoding completed.\")"
   ]
  },
  {
   "cell_type": "code",
   "execution_count": 73,
   "metadata": {},
   "outputs": [],
   "source": [
    "# Convert embeddings tensor to numpy arrays\n",
    "embeddings_np = [embedding.cpu().numpy() for embedding in embeddings]\n",
    "\n",
    "# Convert embeddings to float32\n",
    "embeddings_np = [embedding.astype('float32') for embedding in embeddings_np]\n",
    "embeddings_np = np.array(embeddings_np).reshape(len(embeddings_np), 768)"
   ]
  },
  {
   "cell_type": "code",
   "execution_count": 74,
   "metadata": {},
   "outputs": [
    {
     "name": "stdout",
     "output_type": "stream",
     "text": [
      "Embeddings saved successfully.\n"
     ]
    }
   ],
   "source": [
    "import pickle\n",
    "\n",
    "\n",
    "content_embedding = (list(bbc_news.values()),embeddings_np)\n",
    "\n",
    "with open('content_embedding.pkl', 'wb') as file:\n",
    "    pickle.dump(content_embedding, file)\n",
    "\n",
    "print(\"Embeddings saved successfully.\")"
   ]
  },
  {
   "cell_type": "code",
   "execution_count": 77,
   "metadata": {},
   "outputs": [
    {
     "name": "stdout",
     "output_type": "stream",
     "text": [
      "Title 1: 'French Open 2024: Draw, schedule, order of play & will Raducanu, Murray & Nadal feature?'\n",
      "Title 2: 'Newspaper headlines: 'Faltering election start' and 'General ejection''\n",
      "Similarity Score: -0.365966796875\n",
      "Title 1: ' Majorca building collapse: Four dead and 16 injured, rescuers say'\n",
      "Title 2: 'Government 'must go further' for a Hillsborough Law'\n",
      "Similarity Score: -0.3289794921875\n",
      "Title 1: 'Target to cut court backlog cannot be met, says watchdog'\n",
      "Title 2: 'Icons of Football: McAvennie, Robertson, Jordan, Miller, Beattie, Greig'\n",
      "Similarity Score: -0.268798828125\n",
      "Title 1: 'US reviews co-operation with Georgia over 'foreign agent' law'\n",
      "Title 2: 'Nelly Korda's dominance 'great' for women's golf - Georgia Hall'\n",
      "Similarity Score: -0.39892578125\n",
      "Title 1: 'New arena ticket levy will 'make a huge difference', West country venues say'\n",
      "Title 2: 'Shop sales slump in April hit by heavy rain'\n",
      "Similarity Score: -0.1796875\n",
      "Title 1: 'Dorset's Big Picture: 20 May - 26 May 2024'\n",
      "Title 2: 'Oxfordshire's Big Picture: 20 May - 26 May 2024'\n",
      "Similarity Score: 0.62158203125\n",
      "Title 1: 'George Harrison: Blue plaque unveiled at Beatles icon's childhood home'\n",
      "Title 2: 'Championship play-off final: Leeds and Southampton - the moments that mattered'\n",
      "Similarity Score: -0.2923583984375\n",
      "Title 1: 'What voters want in Devon election battleground'\n",
      "Title 2: 'General election: 'It's always better to win' - MP'\n",
      "Similarity Score: -0.1396484375\n",
      "Title 1: 'Jordan Henderson: No England call, but has Ajax move worked out?'\n",
      "Title 2: 'Casement Park and the long road to Euro 2028'\n",
      "Similarity Score: -0.35986328125\n"
     ]
    }
   ],
   "source": [
    "import faiss\n",
    "import numpy as np\n",
    "\n",
    "\n",
    "\n",
    "# Initialize the index\n",
    "index = faiss.IndexFlatL2(embeddings_np.shape[1])  # Assuming embeddings are of the same dimension\n",
    "\n",
    "# Add embeddings to the index\n",
    "index.add(embeddings_np)\n",
    "\n",
    "# Search for similar embeddings\n",
    "D, I = index.search(np.array(embeddings_np), k=2)  # k=2 returns the closest two vectors (including self)\n",
    "\n",
    "high_sim = []\n",
    "titles = list(bbc_news.keys())\n",
    "\n",
    "# To keep track of which titles have been printed\n",
    "printed_titles = set()\n",
    "\n",
    "for i in range(len(I)):\n",
    "    title1 = titles[i]\n",
    "    closest_index = I[i][1]  # I[i][0] will be the index of itself, so we take the second closest\n",
    "    title2 = titles[closest_index]\n",
    "    similarity_score = 1 - D[i][1]  # cosine similarity is 1 - L2 distance\n",
    "    if title1 not in printed_titles and title2 not in printed_titles and similarity_score >-0.4:\n",
    "        print(f\"Title 1: '{title1}'\\nTitle 2: '{title2}'\\nSimilarity Score: {similarity_score}\")\n",
    "        high_sim.append((title1, title2, similarity_score))\n",
    "        printed_titles.add(title1)\n",
    "        printed_titles.add(title2)"
   ]
  },
  {
   "cell_type": "markdown",
   "metadata": {},
   "source": [
    "Try other types of  clustering methods such as :\n",
    "\n",
    "Density-based spatial clustering (DBSC) : a density-based clustering algorithm that works on the assumption that clusters are dense regions in space separated by regions of lower density. It groups 'densely grouped' data points into a single cluster.\n",
    "\n",
    "SPECTURAL CLUSTERING : uses information from the eigenvalues (spectrum) of special matrices (i.e. Affinity Matrix, Degree Matrix and Laplacian Matrix) derived from the graph or the data set.\n",
    "DBA - ALOCATION\n",
    "\n",
    "\n",
    "# Next steps\n",
    "\n",
    "### 1\n",
    "\n",
    "1) **SKY :** some urls are the same article from sky news and sky sports. check if they have same text and remove if they do?\n",
    "\n",
    "2) **SKY & BBC :** Make sure BBC and SKY only have news and sports sections that are important to us. \n",
    "\n",
    "3) choose more websites"
   ]
  }
 ],
 "metadata": {
  "kernelspec": {
   "display_name": "base",
   "language": "python",
   "name": "python3"
  },
  "language_info": {
   "codemirror_mode": {
    "name": "ipython",
    "version": 3
   },
   "file_extension": ".py",
   "mimetype": "text/x-python",
   "name": "python",
   "nbconvert_exporter": "python",
   "pygments_lexer": "ipython3",
   "version": "3.10.14"
  },
  "orig_nbformat": 4
 },
 "nbformat": 4,
 "nbformat_minor": 2
}
