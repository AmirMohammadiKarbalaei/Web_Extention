{
 "cells": [
  {
   "cell_type": "code",
   "execution_count": 3,
   "metadata": {},
   "outputs": [],
   "source": [
    "import psycopg2\n",
    "from datetime import date\n",
    "import datetime\n",
    "import pandas as pd\n",
    "\n",
    "\n",
    "db_credentials = {\n",
    "    'dbname': 'Web_Extention',\n",
    "    'user': 'postgres',\n",
    "    'password': '2080',\n",
    "    'host': 'localhost',\n",
    "    'port': '5432'\n",
    "}\n",
    "\n",
    "connection = psycopg2.connect(**db_credentials)\n",
    "\n",
    "# Create a cursor to interact with the database\n",
    "cursor = connection.cursor()\n",
    "\n",
    "# SELECT query to retrieve data from the 'bbc_embeddings' table\n",
    "today = datetime.date.today()\n",
    "\n",
    "select_query_todays_articles = f\"SELECT * FROM bbc_daily_links;\"\n",
    "\n",
    "# Execute the query\n",
    "cursor.execute(select_query_todays_articles)\n",
    "\n",
    "# Fetch all the rows from the result set\n",
    "rows = cursor.fetchall()\n",
    "\n",
    "# Create a DataFrame from the fetched data\n",
    "columns = [desc[0] for desc in cursor.description]  # Get column names\n",
    "data_frame_from_table = pd.DataFrame(rows, columns=columns)\n",
    "#data_frame_from_table[\"Title_some_content\"] = data_frame_from_table.apply(lambda row: row[\"title\"] + row[\"article_content\"][100:500], axis=1)"
   ]
  },
  {
   "cell_type": "code",
   "execution_count": 15,
   "metadata": {},
   "outputs": [
    {
     "name": "stderr",
     "output_type": "stream",
     "text": [
      "Error getting version of chromedriver 115. Retrying with chromedriver 114 (attempt 1/5)\n"
     ]
    }
   ],
   "source": [
    "from sitemaps_utils import *"
   ]
  },
  {
   "cell_type": "code",
   "execution_count": 20,
   "metadata": {},
   "outputs": [],
   "source": [
    "data_frame_from_table[\"cleaned_content\"] = [clean_text(article) for article in data_frame_from_table.article_content]"
   ]
  },
  {
   "cell_type": "code",
   "execution_count": 26,
   "metadata": {},
   "outputs": [],
   "source": [
    "from sentence_transformers import SentenceTransformer\n",
    "\n",
    "model_name = 'distilbert-base-nli-stsb-mean-tokens'\n",
    "model = SentenceTransformer(model_name)\n",
    "embeddings = model.encode(data_frame_from_table[\"cleaned_content\"])"
   ]
  },
  {
   "cell_type": "code",
   "execution_count": 27,
   "metadata": {},
   "outputs": [],
   "source": [
    "data_frame_from_table[\"all_content_embedding\"] = list(embeddings)"
   ]
  },
  {
   "cell_type": "code",
   "execution_count": 9,
   "metadata": {},
   "outputs": [],
   "source": [
    "embeddings = model.encode(data_frame_from_table[\"article_content\"])\n",
    "data_frame_from_table[\"Embedding_all_conetent\"] = list(embeddings)\n",
    "data_frame_from_table['Embedding'] = data_frame_from_table['Embedding'].apply(lambda x: [float(val) for val in x])"
   ]
  },
  {
   "cell_type": "code",
   "execution_count": 48,
   "metadata": {},
   "outputs": [
    {
     "data": {
      "text/plain": [
       "' ago15 minut agofrom section rugbi leaguecomments0ethan ryan score tri hull kr stun challeng cup semifin win wigan warrior last week got scoresheet castleford tiger fridaybetfr super leaguehul kr 16 34tri opac kennedi linnett minchella batchelor ryan goal miln 5castleford 10 16tri tate broadbent eden goal dean 2hull kr score score six tri comfort beat castleford tigerstri tom opac rhi kennedi kane'"
      ]
     },
     "execution_count": 48,
     "metadata": {},
     "output_type": "execute_result"
    }
   ],
   "source": [
    "data_frame_from_table.cleaned_content[1][100:500]"
   ]
  },
  {
   "cell_type": "code",
   "execution_count": 42,
   "metadata": {},
   "outputs": [],
   "source": [
    "connection = psycopg2.connect(**db_credentials)\n",
    "\n",
    "# Create a cursor to interact with the database\n",
    "cursor = connection.cursor()\n",
    "for idx, Value in enumerate(data_frame_from_table.all_content_embedding):\n",
    "    Value = [float(i) for i in Value]\n",
    "    insert_query = \"UPDATE bbc_embeddings SET cleaned_content_embedding = %s WHERE id = %s;\"\n",
    "    cursor.execute(insert_query, (list(Value),str(idx + 1)))\n",
    "\n",
    "connection.commit()    \n",
    "connection.close()"
   ]
  },
  {
   "cell_type": "code",
   "execution_count": 81,
   "metadata": {},
   "outputs": [],
   "source": [
    "cleaned = [clean_text(data_frame_from_table.article_content[1].split(\".\")[i]) for i in range(len(data_frame_from_table.article_content[1].split(\".\")))]"
   ]
  }
 ],
 "metadata": {
  "kernelspec": {
   "display_name": "base",
   "language": "python",
   "name": "python3"
  },
  "language_info": {
   "codemirror_mode": {
    "name": "ipython",
    "version": 3
   },
   "file_extension": ".py",
   "mimetype": "text/x-python",
   "name": "python",
   "nbconvert_exporter": "python",
   "pygments_lexer": "ipython3",
   "version": "3.9.7"
  },
  "orig_nbformat": 4
 },
 "nbformat": 4,
 "nbformat_minor": 2
}
